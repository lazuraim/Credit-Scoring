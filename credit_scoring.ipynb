{
 "cells": [
  {
   "cell_type": "code",
   "execution_count": 122,
   "id": "1f8f695e",
   "metadata": {
    "ExecuteTime": {
     "end_time": "2025-03-17T13:47:52.589694Z",
     "start_time": "2025-03-17T13:47:52.579689Z"
    }
   },
   "outputs": [],
   "source": [
    "import pandas as pd\n",
    "import numpy as np\n",
    "import seaborn as sns\n",
    "import matplotlib.pyplot as plt\n",
    "\n",
    "from imblearn.over_sampling import SMOTE, ADASYN\n",
    "from sklearn.model_selection import train_test_split\n",
    "from sklearn.linear_model import LogisticRegression\n",
    "from sklearn.neighbors import KNeighborsClassifier\n",
    "from sklearn.svm import SVC\n",
    "from sklearn.tree import DecisionTreeClassifier\n",
    "from sklearn.ensemble import RandomForestClassifier\n",
    "from xgboost import XGBClassifier\n",
    "from sklearn.metrics import accuracy_score, classification_report, confusion_matrix\n",
    "from sklearn.preprocessing import LabelEncoder\n",
    "from sklearn.preprocessing import MinMaxScaler, RobustScaler\n",
    "\n",
    "from sklearn.metrics import classification_report"
   ]
  },
  {
   "cell_type": "code",
   "execution_count": 123,
   "id": "f18ed17d",
   "metadata": {
    "ExecuteTime": {
     "end_time": "2025-03-17T13:47:54.489786Z",
     "start_time": "2025-03-17T13:47:53.006471Z"
    }
   },
   "outputs": [],
   "source": [
    "ar = pd.read_csv('data/application_record.zip', compression='zip')\n",
    "cr = pd.read_csv('data/credit_record.zip', compression='zip')"
   ]
  },
  {
   "cell_type": "code",
   "execution_count": 124,
   "id": "2bda785c",
   "metadata": {
    "ExecuteTime": {
     "end_time": "2025-03-17T13:47:55.129709Z",
     "start_time": "2025-03-17T13:47:54.489786Z"
    }
   },
   "outputs": [
    {
     "name": "stdout",
     "output_type": "stream",
     "text": [
      "<class 'pandas.core.frame.DataFrame'>\n",
      "RangeIndex: 438557 entries, 0 to 438556\n",
      "Data columns (total 18 columns):\n",
      " #   Column               Non-Null Count   Dtype  \n",
      "---  ------               --------------   -----  \n",
      " 0   ID                   438557 non-null  int64  \n",
      " 1   CODE_GENDER          438557 non-null  object \n",
      " 2   FLAG_OWN_CAR         438557 non-null  object \n",
      " 3   FLAG_OWN_REALTY      438557 non-null  object \n",
      " 4   CNT_CHILDREN         438557 non-null  int64  \n",
      " 5   AMT_INCOME_TOTAL     438557 non-null  float64\n",
      " 6   NAME_INCOME_TYPE     438557 non-null  object \n",
      " 7   NAME_EDUCATION_TYPE  438557 non-null  object \n",
      " 8   NAME_FAMILY_STATUS   438557 non-null  object \n",
      " 9   NAME_HOUSING_TYPE    438557 non-null  object \n",
      " 10  DAYS_BIRTH           438557 non-null  int64  \n",
      " 11  DAYS_EMPLOYED        438557 non-null  int64  \n",
      " 12  FLAG_MOBIL           438557 non-null  int64  \n",
      " 13  FLAG_WORK_PHONE      438557 non-null  int64  \n",
      " 14  FLAG_PHONE           438557 non-null  int64  \n",
      " 15  FLAG_EMAIL           438557 non-null  int64  \n",
      " 16  OCCUPATION_TYPE      304354 non-null  object \n",
      " 17  CNT_FAM_MEMBERS      438557 non-null  float64\n",
      "dtypes: float64(2), int64(8), object(8)\n",
      "memory usage: 60.2+ MB\n"
     ]
    }
   ],
   "source": [
    "# общая информация о датасете\n",
    "ar.info()"
   ]
  },
  {
   "cell_type": "code",
   "execution_count": 125,
   "id": "16c6e42b",
   "metadata": {
    "ExecuteTime": {
     "end_time": "2025-03-17T13:47:55.166896Z",
     "start_time": "2025-03-17T13:47:55.133015Z"
    }
   },
   "outputs": [
    {
     "data": {
      "text/plain": [
       "438510"
      ]
     },
     "execution_count": 125,
     "metadata": {},
     "output_type": "execute_result"
    }
   ],
   "source": [
    "# количество уникальных ID (при общем количестве 438 557)\n",
    "ar['ID'].nunique()"
   ]
  },
  {
   "cell_type": "code",
   "execution_count": 126,
   "id": "14e1a8a1",
   "metadata": {
    "ExecuteTime": {
     "end_time": "2025-03-17T13:47:55.308914Z",
     "start_time": "2025-03-17T13:47:55.169820Z"
    }
   },
   "outputs": [
    {
     "data": {
      "text/plain": [
       "(438510, 18)"
      ]
     },
     "execution_count": 126,
     "metadata": {},
     "output_type": "execute_result"
    }
   ],
   "source": [
    "# избавляемся от дубликатов в исходном датафрейме\n",
    "ar.drop_duplicates('ID', keep='last', inplace=True)\n",
    "ar.shape"
   ]
  },
  {
   "cell_type": "code",
   "execution_count": 127,
   "id": "d533e86e",
   "metadata": {
    "ExecuteTime": {
     "end_time": "2025-03-17T13:47:55.514557Z",
     "start_time": "2025-03-17T13:47:55.311042Z"
    }
   },
   "outputs": [
    {
     "name": "stdout",
     "output_type": "stream",
     "text": [
      "<class 'pandas.core.frame.DataFrame'>\n",
      "RangeIndex: 1048575 entries, 0 to 1048574\n",
      "Data columns (total 3 columns):\n",
      " #   Column          Non-Null Count    Dtype \n",
      "---  ------          --------------    ----- \n",
      " 0   ID              1048575 non-null  int64 \n",
      " 1   MONTHS_BALANCE  1048575 non-null  int64 \n",
      " 2   STATUS          1048575 non-null  object\n",
      "dtypes: int64(2), object(1)\n",
      "memory usage: 24.0+ MB\n"
     ]
    }
   ],
   "source": [
    "# общая информация о датасете, содержащем данные о просрочках по кредиту\n",
    "cr.info()"
   ]
  },
  {
   "cell_type": "code",
   "execution_count": 128,
   "id": "d4a60ba6",
   "metadata": {
    "ExecuteTime": {
     "end_time": "2025-03-17T13:47:55.550910Z",
     "start_time": "2025-03-17T13:47:55.518385Z"
    }
   },
   "outputs": [
    {
     "data": {
      "text/plain": [
       "45985"
      ]
     },
     "execution_count": 128,
     "metadata": {},
     "output_type": "execute_result"
    }
   ],
   "source": [
    "# количество уникальных ID\n",
    "cr['ID'].unique().size"
   ]
  },
  {
   "cell_type": "code",
   "execution_count": 129,
   "id": "df0f34c1",
   "metadata": {
    "ExecuteTime": {
     "end_time": "2025-03-17T13:47:56.302641Z",
     "start_time": "2025-03-17T13:47:55.677662Z"
    }
   },
   "outputs": [
    {
     "data": {
      "text/plain": [
       "ID                          0\n",
       "CODE_GENDER                 0\n",
       "FLAG_OWN_CAR                0\n",
       "FLAG_OWN_REALTY             0\n",
       "CNT_CHILDREN                0\n",
       "AMT_INCOME_TOTAL            0\n",
       "NAME_INCOME_TYPE            0\n",
       "NAME_EDUCATION_TYPE         0\n",
       "NAME_FAMILY_STATUS          0\n",
       "NAME_HOUSING_TYPE           0\n",
       "DAYS_BIRTH                  0\n",
       "DAYS_EMPLOYED               0\n",
       "FLAG_MOBIL                  0\n",
       "FLAG_WORK_PHONE             0\n",
       "FLAG_PHONE                  0\n",
       "FLAG_EMAIL                  0\n",
       "OCCUPATION_TYPE        134187\n",
       "CNT_FAM_MEMBERS             0\n",
       "dtype: int64"
      ]
     },
     "execution_count": 129,
     "metadata": {},
     "output_type": "execute_result"
    }
   ],
   "source": [
    "# смотрим по каким признакам есть нулевые значения\n",
    "ar.isnull().sum()"
   ]
  },
  {
   "cell_type": "code",
   "execution_count": 130,
   "id": "63e1d5c0",
   "metadata": {
    "ExecuteTime": {
     "end_time": "2025-03-17T13:47:56.359947Z",
     "start_time": "2025-03-17T13:47:56.305770Z"
    }
   },
   "outputs": [],
   "source": [
    "# слишком много пропущенных значений в поле OCCUPATION_TYPE, избавляемся от него\n",
    "ar.drop('OCCUPATION_TYPE', axis=1, inplace=True)"
   ]
  },
  {
   "cell_type": "code",
   "execution_count": 131,
   "id": "90bae77b",
   "metadata": {
    "ExecuteTime": {
     "end_time": "2025-03-17T13:48:06.445444Z",
     "start_time": "2025-03-17T13:47:56.361976Z"
    }
   },
   "outputs": [
    {
     "data": {
      "text/plain": [
       "<AxesSubplot:>"
      ]
     },
     "execution_count": 131,
     "metadata": {},
     "output_type": "execute_result"
    },
    {
     "data": {
      "image/png": "[encoded data removed]",
      "text/plain": [
       "<Figure size 432x288 with 2 Axes>"
      ]
     },
     "metadata": {
      "needs_background": "light"
     },
     "output_type": "display_data"
    }
   ],
   "source": [
    "# проверяем наличие нулевых значений с помощью визуализации\n",
    "sns.heatmap(ar.isnull())"
   ]
  },
  {
   "cell_type": "code",
   "execution_count": 132,
   "id": "0b1d22e9",
   "metadata": {
    "ExecuteTime": {
     "end_time": "2025-03-17T13:48:10.804735Z",
     "start_time": "2025-03-17T13:48:06.448837Z"
    }
   },
   "outputs": [
    {
     "data": {
      "text/plain": [
       "<AxesSubplot:>"
      ]
     },
     "execution_count": 132,
     "metadata": {},
     "output_type": "execute_result"
    },
    {
     "data": {
      "image/png": "[encoded data removed]",
      "text/plain": [
       "<Figure size 432x288 with 2 Axes>"
      ]
     },
     "metadata": {
      "needs_background": "light"
     },
     "output_type": "display_data"
    }
   ],
   "source": [
    "# проверяем наличие нулевых значений с помощью визуализации\n",
    "sns.heatmap(cr.isnull())"
   ]
  },
  {
   "cell_type": "code",
   "execution_count": 133,
   "id": "957a188f",
   "metadata": {
    "ExecuteTime": {
     "end_time": "2025-03-17T13:48:10.814179Z",
     "start_time": "2025-03-17T13:48:10.806828Z"
    }
   },
   "outputs": [
    {
     "data": {
      "text/plain": [
       "ID                       int64\n",
       "CODE_GENDER             object\n",
       "FLAG_OWN_CAR            object\n",
       "FLAG_OWN_REALTY         object\n",
       "CNT_CHILDREN             int64\n",
       "AMT_INCOME_TOTAL       float64\n",
       "NAME_INCOME_TYPE        object\n",
       "NAME_EDUCATION_TYPE     object\n",
       "NAME_FAMILY_STATUS      object\n",
       "NAME_HOUSING_TYPE       object\n",
       "DAYS_BIRTH               int64\n",
       "DAYS_EMPLOYED            int64\n",
       "FLAG_MOBIL               int64\n",
       "FLAG_WORK_PHONE          int64\n",
       "FLAG_PHONE               int64\n",
       "FLAG_EMAIL               int64\n",
       "CNT_FAM_MEMBERS        float64\n",
       "dtype: object"
      ]
     },
     "execution_count": 133,
     "metadata": {},
     "output_type": "execute_result"
    }
   ],
   "source": [
    "# смотрим типы данных\n",
    "ar.dtypes"
   ]
  },
  {
   "cell_type": "code",
   "execution_count": 134,
   "id": "9f0e3e16",
   "metadata": {
    "ExecuteTime": {
     "end_time": "2025-03-17T13:48:10.830950Z",
     "start_time": "2025-03-17T13:48:10.816731Z"
    }
   },
   "outputs": [
    {
     "data": {
      "text/plain": [
       "1            CODE_GENDER\n",
       "2           FLAG_OWN_CAR\n",
       "3        FLAG_OWN_REALTY\n",
       "6       NAME_INCOME_TYPE\n",
       "7    NAME_EDUCATION_TYPE\n",
       "8     NAME_FAMILY_STATUS\n",
       "9      NAME_HOUSING_TYPE\n",
       "Name: index, dtype: object"
      ]
     },
     "execution_count": 134,
     "metadata": {},
     "output_type": "execute_result"
    }
   ],
   "source": [
    "# выводим категориальные признаки\n",
    "object_type = pd.DataFrame(ar.dtypes =='object').reset_index()\n",
    "object_type = object_type[object_type[0] == True]['index']\n",
    "object_type"
   ]
  },
  {
   "cell_type": "code",
   "execution_count": 135,
   "id": "4ed396c1",
   "metadata": {
    "ExecuteTime": {
     "end_time": "2025-03-17T13:48:10.864174Z",
     "start_time": "2025-03-17T13:48:10.833582Z"
    }
   },
   "outputs": [
    {
     "data": {
      "text/html": [
       "<div>\n",
       "<style scoped>\n",
       "    .dataframe tbody tr th:only-of-type {\n",
       "        vertical-align: middle;\n",
       "    }\n",
       "\n",
       "    .dataframe tbody tr th {\n",
       "        vertical-align: top;\n",
       "    }\n",
       "\n",
       "    .dataframe thead th {\n",
       "        text-align: right;\n",
       "    }\n",
       "</style>\n",
       "<table border=\"1\" class=\"dataframe\">\n",
       "  <thead>\n",
       "    <tr style=\"text-align: right;\">\n",
       "      <th></th>\n",
       "      <th>ID</th>\n",
       "      <th>CODE_GENDER</th>\n",
       "      <th>FLAG_OWN_CAR</th>\n",
       "      <th>FLAG_OWN_REALTY</th>\n",
       "      <th>CNT_CHILDREN</th>\n",
       "      <th>AMT_INCOME_TOTAL</th>\n",
       "      <th>NAME_INCOME_TYPE</th>\n",
       "      <th>NAME_EDUCATION_TYPE</th>\n",
       "      <th>NAME_FAMILY_STATUS</th>\n",
       "      <th>NAME_HOUSING_TYPE</th>\n",
       "      <th>DAYS_BIRTH</th>\n",
       "      <th>DAYS_EMPLOYED</th>\n",
       "      <th>FLAG_MOBIL</th>\n",
       "      <th>FLAG_WORK_PHONE</th>\n",
       "      <th>FLAG_PHONE</th>\n",
       "      <th>FLAG_EMAIL</th>\n",
       "      <th>CNT_FAM_MEMBERS</th>\n",
       "    </tr>\n",
       "  </thead>\n",
       "  <tbody>\n",
       "    <tr>\n",
       "      <th>0</th>\n",
       "      <td>5008804</td>\n",
       "      <td>M</td>\n",
       "      <td>Y</td>\n",
       "      <td>Y</td>\n",
       "      <td>0</td>\n",
       "      <td>427500.0</td>\n",
       "      <td>Working</td>\n",
       "      <td>Higher education</td>\n",
       "      <td>Civil marriage</td>\n",
       "      <td>Rented apartment</td>\n",
       "      <td>-12005</td>\n",
       "      <td>-4542</td>\n",
       "      <td>1</td>\n",
       "      <td>1</td>\n",
       "      <td>0</td>\n",
       "      <td>0</td>\n",
       "      <td>2.0</td>\n",
       "    </tr>\n",
       "    <tr>\n",
       "      <th>1</th>\n",
       "      <td>5008805</td>\n",
       "      <td>M</td>\n",
       "      <td>Y</td>\n",
       "      <td>Y</td>\n",
       "      <td>0</td>\n",
       "      <td>427500.0</td>\n",
       "      <td>Working</td>\n",
       "      <td>Higher education</td>\n",
       "      <td>Civil marriage</td>\n",
       "      <td>Rented apartment</td>\n",
       "      <td>-12005</td>\n",
       "      <td>-4542</td>\n",
       "      <td>1</td>\n",
       "      <td>1</td>\n",
       "      <td>0</td>\n",
       "      <td>0</td>\n",
       "      <td>2.0</td>\n",
       "    </tr>\n",
       "    <tr>\n",
       "      <th>2</th>\n",
       "      <td>5008806</td>\n",
       "      <td>M</td>\n",
       "      <td>Y</td>\n",
       "      <td>Y</td>\n",
       "      <td>0</td>\n",
       "      <td>112500.0</td>\n",
       "      <td>Working</td>\n",
       "      <td>Secondary / secondary special</td>\n",
       "      <td>Married</td>\n",
       "      <td>House / apartment</td>\n",
       "      <td>-21474</td>\n",
       "      <td>-1134</td>\n",
       "      <td>1</td>\n",
       "      <td>0</td>\n",
       "      <td>0</td>\n",
       "      <td>0</td>\n",
       "      <td>2.0</td>\n",
       "    </tr>\n",
       "    <tr>\n",
       "      <th>3</th>\n",
       "      <td>5008808</td>\n",
       "      <td>F</td>\n",
       "      <td>N</td>\n",
       "      <td>Y</td>\n",
       "      <td>0</td>\n",
       "      <td>270000.0</td>\n",
       "      <td>Commercial associate</td>\n",
       "      <td>Secondary / secondary special</td>\n",
       "      <td>Single / not married</td>\n",
       "      <td>House / apartment</td>\n",
       "      <td>-19110</td>\n",
       "      <td>-3051</td>\n",
       "      <td>1</td>\n",
       "      <td>0</td>\n",
       "      <td>1</td>\n",
       "      <td>1</td>\n",
       "      <td>1.0</td>\n",
       "    </tr>\n",
       "    <tr>\n",
       "      <th>4</th>\n",
       "      <td>5008809</td>\n",
       "      <td>F</td>\n",
       "      <td>N</td>\n",
       "      <td>Y</td>\n",
       "      <td>0</td>\n",
       "      <td>270000.0</td>\n",
       "      <td>Commercial associate</td>\n",
       "      <td>Secondary / secondary special</td>\n",
       "      <td>Single / not married</td>\n",
       "      <td>House / apartment</td>\n",
       "      <td>-19110</td>\n",
       "      <td>-3051</td>\n",
       "      <td>1</td>\n",
       "      <td>0</td>\n",
       "      <td>1</td>\n",
       "      <td>1</td>\n",
       "      <td>1.0</td>\n",
       "    </tr>\n",
       "  </tbody>\n",
       "</table>\n",
       "</div>"
      ],
      "text/plain": [
       "        ID CODE_GENDER FLAG_OWN_CAR FLAG_OWN_REALTY  CNT_CHILDREN  \\\n",
       "0  5008804           M            Y               Y             0   \n",
       "1  5008805           M            Y               Y             0   \n",
       "2  5008806           M            Y               Y             0   \n",
       "3  5008808           F            N               Y             0   \n",
       "4  5008809           F            N               Y             0   \n",
       "\n",
       "   AMT_INCOME_TOTAL      NAME_INCOME_TYPE            NAME_EDUCATION_TYPE  \\\n",
       "0          427500.0               Working               Higher education   \n",
       "1          427500.0               Working               Higher education   \n",
       "2          112500.0               Working  Secondary / secondary special   \n",
       "3          270000.0  Commercial associate  Secondary / secondary special   \n",
       "4          270000.0  Commercial associate  Secondary / secondary special   \n",
       "\n",
       "     NAME_FAMILY_STATUS  NAME_HOUSING_TYPE  DAYS_BIRTH  DAYS_EMPLOYED  \\\n",
       "0        Civil marriage   Rented apartment      -12005          -4542   \n",
       "1        Civil marriage   Rented apartment      -12005          -4542   \n",
       "2               Married  House / apartment      -21474          -1134   \n",
       "3  Single / not married  House / apartment      -19110          -3051   \n",
       "4  Single / not married  House / apartment      -19110          -3051   \n",
       "\n",
       "   FLAG_MOBIL  FLAG_WORK_PHONE  FLAG_PHONE  FLAG_EMAIL  CNT_FAM_MEMBERS  \n",
       "0           1                1           0           0              2.0  \n",
       "1           1                1           0           0              2.0  \n",
       "2           1                0           0           0              2.0  \n",
       "3           1                0           1           1              1.0  \n",
       "4           1                0           1           1              1.0  "
      ]
     },
     "execution_count": 135,
     "metadata": {},
     "output_type": "execute_result"
    }
   ],
   "source": [
    "ar.head()"
   ]
  },
  {
   "cell_type": "code",
   "execution_count": 136,
   "id": "faffb367",
   "metadata": {
    "ExecuteTime": {
     "end_time": "2025-03-17T13:48:11.703957Z",
     "start_time": "2025-03-17T13:48:10.866572Z"
    }
   },
   "outputs": [],
   "source": [
    "# кодируем категориальные признаки\n",
    "le = LabelEncoder()\n",
    "for x in ar:\n",
    "    if ar[x].dtypes == 'object':\n",
    "        ar[x] = le.fit_transform(ar[x])"
   ]
  },
  {
   "cell_type": "code",
   "execution_count": 137,
   "id": "15ad1c34",
   "metadata": {
    "ExecuteTime": {
     "end_time": "2025-03-17T13:48:11.726986Z",
     "start_time": "2025-03-17T13:48:11.703957Z"
    }
   },
   "outputs": [
    {
     "data": {
      "text/html": [
       "<div>\n",
       "<style scoped>\n",
       "    .dataframe tbody tr th:only-of-type {\n",
       "        vertical-align: middle;\n",
       "    }\n",
       "\n",
       "    .dataframe tbody tr th {\n",
       "        vertical-align: top;\n",
       "    }\n",
       "\n",
       "    .dataframe thead th {\n",
       "        text-align: right;\n",
       "    }\n",
       "</style>\n",
       "<table border=\"1\" class=\"dataframe\">\n",
       "  <thead>\n",
       "    <tr style=\"text-align: right;\">\n",
       "      <th></th>\n",
       "      <th>ID</th>\n",
       "      <th>CODE_GENDER</th>\n",
       "      <th>FLAG_OWN_CAR</th>\n",
       "      <th>FLAG_OWN_REALTY</th>\n",
       "      <th>CNT_CHILDREN</th>\n",
       "      <th>AMT_INCOME_TOTAL</th>\n",
       "      <th>NAME_INCOME_TYPE</th>\n",
       "      <th>NAME_EDUCATION_TYPE</th>\n",
       "      <th>NAME_FAMILY_STATUS</th>\n",
       "      <th>NAME_HOUSING_TYPE</th>\n",
       "      <th>DAYS_BIRTH</th>\n",
       "      <th>DAYS_EMPLOYED</th>\n",
       "      <th>FLAG_MOBIL</th>\n",
       "      <th>FLAG_WORK_PHONE</th>\n",
       "      <th>FLAG_PHONE</th>\n",
       "      <th>FLAG_EMAIL</th>\n",
       "      <th>CNT_FAM_MEMBERS</th>\n",
       "    </tr>\n",
       "  </thead>\n",
       "  <tbody>\n",
       "    <tr>\n",
       "      <th>0</th>\n",
       "      <td>5008804</td>\n",
       "      <td>1</td>\n",
       "      <td>1</td>\n",
       "      <td>1</td>\n",
       "      <td>0</td>\n",
       "      <td>427500.0</td>\n",
       "      <td>4</td>\n",
       "      <td>1</td>\n",
       "      <td>0</td>\n",
       "      <td>4</td>\n",
       "      <td>-12005</td>\n",
       "      <td>-4542</td>\n",
       "      <td>1</td>\n",
       "      <td>1</td>\n",
       "      <td>0</td>\n",
       "      <td>0</td>\n",
       "      <td>2.0</td>\n",
       "    </tr>\n",
       "    <tr>\n",
       "      <th>1</th>\n",
       "      <td>5008805</td>\n",
       "      <td>1</td>\n",
       "      <td>1</td>\n",
       "      <td>1</td>\n",
       "      <td>0</td>\n",
       "      <td>427500.0</td>\n",
       "      <td>4</td>\n",
       "      <td>1</td>\n",
       "      <td>0</td>\n",
       "      <td>4</td>\n",
       "      <td>-12005</td>\n",
       "      <td>-4542</td>\n",
       "      <td>1</td>\n",
       "      <td>1</td>\n",
       "      <td>0</td>\n",
       "      <td>0</td>\n",
       "      <td>2.0</td>\n",
       "    </tr>\n",
       "    <tr>\n",
       "      <th>2</th>\n",
       "      <td>5008806</td>\n",
       "      <td>1</td>\n",
       "      <td>1</td>\n",
       "      <td>1</td>\n",
       "      <td>0</td>\n",
       "      <td>112500.0</td>\n",
       "      <td>4</td>\n",
       "      <td>4</td>\n",
       "      <td>1</td>\n",
       "      <td>1</td>\n",
       "      <td>-21474</td>\n",
       "      <td>-1134</td>\n",
       "      <td>1</td>\n",
       "      <td>0</td>\n",
       "      <td>0</td>\n",
       "      <td>0</td>\n",
       "      <td>2.0</td>\n",
       "    </tr>\n",
       "    <tr>\n",
       "      <th>3</th>\n",
       "      <td>5008808</td>\n",
       "      <td>0</td>\n",
       "      <td>0</td>\n",
       "      <td>1</td>\n",
       "      <td>0</td>\n",
       "      <td>270000.0</td>\n",
       "      <td>0</td>\n",
       "      <td>4</td>\n",
       "      <td>3</td>\n",
       "      <td>1</td>\n",
       "      <td>-19110</td>\n",
       "      <td>-3051</td>\n",
       "      <td>1</td>\n",
       "      <td>0</td>\n",
       "      <td>1</td>\n",
       "      <td>1</td>\n",
       "      <td>1.0</td>\n",
       "    </tr>\n",
       "    <tr>\n",
       "      <th>4</th>\n",
       "      <td>5008809</td>\n",
       "      <td>0</td>\n",
       "      <td>0</td>\n",
       "      <td>1</td>\n",
       "      <td>0</td>\n",
       "      <td>270000.0</td>\n",
       "      <td>0</td>\n",
       "      <td>4</td>\n",
       "      <td>3</td>\n",
       "      <td>1</td>\n",
       "      <td>-19110</td>\n",
       "      <td>-3051</td>\n",
       "      <td>1</td>\n",
       "      <td>0</td>\n",
       "      <td>1</td>\n",
       "      <td>1</td>\n",
       "      <td>1.0</td>\n",
       "    </tr>\n",
       "  </tbody>\n",
       "</table>\n",
       "</div>"
      ],
      "text/plain": [
       "        ID  CODE_GENDER  FLAG_OWN_CAR  FLAG_OWN_REALTY  CNT_CHILDREN  \\\n",
       "0  5008804            1             1                1             0   \n",
       "1  5008805            1             1                1             0   \n",
       "2  5008806            1             1                1             0   \n",
       "3  5008808            0             0                1             0   \n",
       "4  5008809            0             0                1             0   \n",
       "\n",
       "   AMT_INCOME_TOTAL  NAME_INCOME_TYPE  NAME_EDUCATION_TYPE  \\\n",
       "0          427500.0                 4                    1   \n",
       "1          427500.0                 4                    1   \n",
       "2          112500.0                 4                    4   \n",
       "3          270000.0                 0                    4   \n",
       "4          270000.0                 0                    4   \n",
       "\n",
       "   NAME_FAMILY_STATUS  NAME_HOUSING_TYPE  DAYS_BIRTH  DAYS_EMPLOYED  \\\n",
       "0                   0                  4      -12005          -4542   \n",
       "1                   0                  4      -12005          -4542   \n",
       "2                   1                  1      -21474          -1134   \n",
       "3                   3                  1      -19110          -3051   \n",
       "4                   3                  1      -19110          -3051   \n",
       "\n",
       "   FLAG_MOBIL  FLAG_WORK_PHONE  FLAG_PHONE  FLAG_EMAIL  CNT_FAM_MEMBERS  \n",
       "0           1                1           0           0              2.0  \n",
       "1           1                1           0           0              2.0  \n",
       "2           1                0           0           0              2.0  \n",
       "3           1                0           1           1              1.0  \n",
       "4           1                0           1           1              1.0  "
      ]
     },
     "execution_count": 137,
     "metadata": {},
     "output_type": "execute_result"
    }
   ],
   "source": [
    "ar.head()"
   ]
  },
  {
   "cell_type": "code",
   "execution_count": 138,
   "id": "87678a24",
   "metadata": {
    "ExecuteTime": {
     "end_time": "2025-03-17T13:48:26.362428Z",
     "start_time": "2025-03-17T13:48:11.730861Z"
    }
   },
   "outputs": [
    {
     "data": {
      "text/plain": [
       "<AxesSubplot:xlabel='ID', ylabel='DAYS_EMPLOYED'>"
      ]
     },
     "execution_count": 138,
     "metadata": {},
     "output_type": "execute_result"
    },
    {
     "data": {
      "image/png": "[encoded data removed]",
      "text/plain": [
       "<Figure size 1296x720 with 15 Axes>"
      ]
     },
     "metadata": {
      "needs_background": "light"
     },
     "output_type": "display_data"
    }
   ],
   "source": [
    "# проверяем наличие выбросов с помощью визуализации\n",
    "\n",
    "fig, ax = plt.subplots(nrows=5, ncols=3, figsize=(18,10))\n",
    "sns.scatterplot(x=ar['ID'], y=ar['CODE_GENDER'], data=ar, ax=ax[0][0])\n",
    "sns.scatterplot(x=ar['ID'], y=ar['FLAG_OWN_CAR'], data=ar, ax=ax[0][1])\n",
    "sns.scatterplot(x=ar['ID'], y=ar['FLAG_OWN_REALTY'], data=ar, ax=ax[0][2])\n",
    "\n",
    "sns.scatterplot(x=ar['ID'], y=ar['CNT_CHILDREN'], data=ar, ax=ax[1][0])\n",
    "sns.scatterplot(x=ar['ID'], y=ar['AMT_INCOME_TOTAL'], data=ar, ax=ax[1][1])\n",
    "sns.scatterplot(x=ar['ID'], y=ar['NAME_INCOME_TYPE'], data=ar, ax=ax[1][2])\n",
    "\n",
    "sns.scatterplot(x=ar['ID'], y=ar['NAME_EDUCATION_TYPE'], data=ar, ax=ax[2][0])\n",
    "sns.scatterplot(x=ar['ID'], y=ar['NAME_FAMILY_STATUS'], data=ar, ax=ax[2][1])\n",
    "sns.scatterplot(x=ar['ID'], y=ar['NAME_HOUSING_TYPE'], data=ar, ax=ax[2][2])\n",
    "\n",
    "sns.scatterplot(x=ar['ID'], y=ar['FLAG_MOBIL'], data=ar, ax=ax[3][0])\n",
    "sns.scatterplot(x=ar['ID'], y=ar['FLAG_WORK_PHONE'], data=ar, ax=ax[3][1])\n",
    "sns.scatterplot(x=ar['ID'], y=ar['FLAG_PHONE'], data=ar, ax=ax[3][2])\n",
    "\n",
    "sns.scatterplot(x=ar['ID'], y=ar['FLAG_EMAIL'], data=ar, ax=ax[4][0])\n",
    "sns.scatterplot(x=ar['ID'], y=ar['CNT_FAM_MEMBERS'], data=ar, ax=ax[4][1])\n",
    "sns.scatterplot(x=ar['ID'], y=ar['DAYS_EMPLOYED'], data=ar, ax=ax[4][2])"
   ]
  },
  {
   "cell_type": "markdown",
   "id": "a3e477c3",
   "metadata": {},
   "source": [
    " Избавляемся от выборосов (MinMaxScaler() чувствителен к ним)"
   ]
  },
  {
   "cell_type": "code",
   "execution_count": 139,
   "id": "548adb3c",
   "metadata": {
    "ExecuteTime": {
     "end_time": "2025-03-17T13:48:26.372517Z",
     "start_time": "2025-03-17T13:48:26.362428Z"
    }
   },
   "outputs": [],
   "source": [
    "# print(f'CNT_CHILDREN: max = {ar[\"CNT_CHILDREN\"].quantile(0.9999)}')\n",
    "# print(f'AMT_INCOME_TOTAL: max = {ar[\"AMT_INCOME_TOTAL\"].quantile(0.9999)}')\n",
    "# print(f'CNT_FAM_MEMBERS: max = {ar[\"CNT_FAM_MEMBERS\"].quantile(0.9999)}')"
   ]
  },
  {
   "cell_type": "code",
   "execution_count": 140,
   "id": "c8b52034",
   "metadata": {
    "ExecuteTime": {
     "end_time": "2025-03-17T13:48:26.377369Z",
     "start_time": "2025-03-17T13:48:26.374010Z"
    }
   },
   "outputs": [],
   "source": [
    "# ar.shape"
   ]
  },
  {
   "cell_type": "code",
   "execution_count": 141,
   "id": "062ae485",
   "metadata": {
    "ExecuteTime": {
     "end_time": "2025-03-17T13:48:26.383115Z",
     "start_time": "2025-03-17T13:48:26.379906Z"
    }
   },
   "outputs": [],
   "source": [
    "# outliers = (ar['CNT_CHILDREN'] > ar[\"CNT_CHILDREN\"].quantile(0.9999)) |\\\n",
    "#            (ar['AMT_INCOME_TOTAL'] > ar[\"AMT_INCOME_TOTAL\"].quantile(0.9999)) |\\\n",
    "#            (ar['CNT_FAM_MEMBERS'] > ar[\"CNT_FAM_MEMBERS\"].quantile(0.9999))\n",
    "# ar = ar[~outliers]"
   ]
  },
  {
   "cell_type": "code",
   "execution_count": 142,
   "id": "81946485",
   "metadata": {
    "ExecuteTime": {
     "end_time": "2025-03-17T13:48:26.398827Z",
     "start_time": "2025-03-17T13:48:26.383115Z"
    }
   },
   "outputs": [],
   "source": [
    "# ar.shape"
   ]
  },
  {
   "cell_type": "code",
   "execution_count": 143,
   "id": "3fa83fc2",
   "metadata": {
    "ExecuteTime": {
     "end_time": "2025-03-17T13:48:26.480399Z",
     "start_time": "2025-03-17T13:48:26.400881Z"
    }
   },
   "outputs": [
    {
     "data": {
      "text/plain": [
       "C    442031\n",
       "0    383120\n",
       "X    209230\n",
       "1     11090\n",
       "5      1693\n",
       "2       868\n",
       "3       320\n",
       "4       223\n",
       "Name: STATUS, dtype: int64"
      ]
     },
     "execution_count": 143,
     "metadata": {},
     "output_type": "execute_result"
    }
   ],
   "source": [
    "cr['STATUS'].value_counts() "
   ]
  },
  {
   "cell_type": "markdown",
   "id": "7f135a4e",
   "metadata": {},
   "source": [
    "- **0:** 1-29 days past due \n",
    "- **1:** 30-59 days past due \n",
    "- **2:** 60-89 days overdue \n",
    "- **3:** 90-119 days overdue \n",
    "- **4:** 120-149 days overdue \n",
    "- **5:** Overdue or bad debts, write-offs for more than 150 days \n",
    "- **C:** paid off that month \n",
    "- **X:** No loan for the month"
   ]
  },
  {
   "cell_type": "code",
   "execution_count": 144,
   "id": "27ef76cd",
   "metadata": {
    "ExecuteTime": {
     "end_time": "2025-03-17T13:48:27.178745Z",
     "start_time": "2025-03-17T13:48:26.483109Z"
    }
   },
   "outputs": [
    {
     "data": {
      "text/plain": [
       "0    1034381\n",
       "1      14194\n",
       "Name: STATUS, dtype: int64"
      ]
     },
     "execution_count": 144,
     "metadata": {},
     "output_type": "execute_result"
    }
   ],
   "source": [
    "cr['STATUS'] = cr['STATUS'].replace({'C' : 0, 'X' : 0})\n",
    "cr['STATUS'] = cr['STATUS'].astype(int)\n",
    "# cr['STATUS'] = cr['STATUS'].apply(lambda x: 1 if x >= 2 else 0)\n",
    "cr['STATUS'] = cr['STATUS'].apply(lambda x: 1 if x >= 1 else 0)\n",
    "cr['STATUS'].value_counts() "
   ]
  },
  {
   "cell_type": "markdown",
   "id": "dc27cb6e",
   "metadata": {},
   "source": [
    "data is oversampled"
   ]
  },
  {
   "cell_type": "code",
   "execution_count": 145,
   "id": "3edbfcf9",
   "metadata": {
    "ExecuteTime": {
     "end_time": "2025-03-17T13:48:27.261423Z",
     "start_time": "2025-03-17T13:48:27.180654Z"
    }
   },
   "outputs": [
    {
     "data": {
      "text/html": [
       "<div>\n",
       "<style scoped>\n",
       "    .dataframe tbody tr th:only-of-type {\n",
       "        vertical-align: middle;\n",
       "    }\n",
       "\n",
       "    .dataframe tbody tr th {\n",
       "        vertical-align: top;\n",
       "    }\n",
       "\n",
       "    .dataframe thead th {\n",
       "        text-align: right;\n",
       "    }\n",
       "</style>\n",
       "<table border=\"1\" class=\"dataframe\">\n",
       "  <thead>\n",
       "    <tr style=\"text-align: right;\">\n",
       "      <th></th>\n",
       "      <th>ID</th>\n",
       "      <th>STATUS</th>\n",
       "    </tr>\n",
       "  </thead>\n",
       "  <tbody>\n",
       "    <tr>\n",
       "      <th>0</th>\n",
       "      <td>5001711</td>\n",
       "      <td>0</td>\n",
       "    </tr>\n",
       "    <tr>\n",
       "      <th>1</th>\n",
       "      <td>5001712</td>\n",
       "      <td>0</td>\n",
       "    </tr>\n",
       "    <tr>\n",
       "      <th>2</th>\n",
       "      <td>5001713</td>\n",
       "      <td>0</td>\n",
       "    </tr>\n",
       "    <tr>\n",
       "      <th>3</th>\n",
       "      <td>5001714</td>\n",
       "      <td>0</td>\n",
       "    </tr>\n",
       "    <tr>\n",
       "      <th>4</th>\n",
       "      <td>5001715</td>\n",
       "      <td>0</td>\n",
       "    </tr>\n",
       "    <tr>\n",
       "      <th>...</th>\n",
       "      <td>...</td>\n",
       "      <td>...</td>\n",
       "    </tr>\n",
       "    <tr>\n",
       "      <th>45980</th>\n",
       "      <td>5150482</td>\n",
       "      <td>0</td>\n",
       "    </tr>\n",
       "    <tr>\n",
       "      <th>45981</th>\n",
       "      <td>5150483</td>\n",
       "      <td>0</td>\n",
       "    </tr>\n",
       "    <tr>\n",
       "      <th>45982</th>\n",
       "      <td>5150484</td>\n",
       "      <td>0</td>\n",
       "    </tr>\n",
       "    <tr>\n",
       "      <th>45983</th>\n",
       "      <td>5150485</td>\n",
       "      <td>0</td>\n",
       "    </tr>\n",
       "    <tr>\n",
       "      <th>45984</th>\n",
       "      <td>5150487</td>\n",
       "      <td>0</td>\n",
       "    </tr>\n",
       "  </tbody>\n",
       "</table>\n",
       "<p>45985 rows × 2 columns</p>\n",
       "</div>"
      ],
      "text/plain": [
       "            ID  STATUS\n",
       "0      5001711       0\n",
       "1      5001712       0\n",
       "2      5001713       0\n",
       "3      5001714       0\n",
       "4      5001715       0\n",
       "...        ...     ...\n",
       "45980  5150482       0\n",
       "45981  5150483       0\n",
       "45982  5150484       0\n",
       "45983  5150485       0\n",
       "45984  5150487       0\n",
       "\n",
       "[45985 rows x 2 columns]"
      ]
     },
     "execution_count": 145,
     "metadata": {},
     "output_type": "execute_result"
    }
   ],
   "source": [
    "# убираем поле с информацией о дате просрочки, оставляем только таргет\n",
    "cr = cr.groupby('ID').agg(max).reset_index()\n",
    "cr.drop('MONTHS_BALANCE', axis=1, inplace=True)\n",
    "cr"
   ]
  },
  {
   "cell_type": "code",
   "execution_count": 146,
   "id": "ef8f1e20",
   "metadata": {
    "ExecuteTime": {
     "end_time": "2025-03-17T13:48:27.379921Z",
     "start_time": "2025-03-17T13:48:27.263547Z"
    }
   },
   "outputs": [
    {
     "data": {
      "text/html": [
       "<div>\n",
       "<style scoped>\n",
       "    .dataframe tbody tr th:only-of-type {\n",
       "        vertical-align: middle;\n",
       "    }\n",
       "\n",
       "    .dataframe tbody tr th {\n",
       "        vertical-align: top;\n",
       "    }\n",
       "\n",
       "    .dataframe thead th {\n",
       "        text-align: right;\n",
       "    }\n",
       "</style>\n",
       "<table border=\"1\" class=\"dataframe\">\n",
       "  <thead>\n",
       "    <tr style=\"text-align: right;\">\n",
       "      <th></th>\n",
       "      <th>ID</th>\n",
       "      <th>CODE_GENDER</th>\n",
       "      <th>FLAG_OWN_CAR</th>\n",
       "      <th>FLAG_OWN_REALTY</th>\n",
       "      <th>CNT_CHILDREN</th>\n",
       "      <th>AMT_INCOME_TOTAL</th>\n",
       "      <th>NAME_INCOME_TYPE</th>\n",
       "      <th>NAME_EDUCATION_TYPE</th>\n",
       "      <th>NAME_FAMILY_STATUS</th>\n",
       "      <th>NAME_HOUSING_TYPE</th>\n",
       "      <th>DAYS_BIRTH</th>\n",
       "      <th>DAYS_EMPLOYED</th>\n",
       "      <th>FLAG_MOBIL</th>\n",
       "      <th>FLAG_WORK_PHONE</th>\n",
       "      <th>FLAG_PHONE</th>\n",
       "      <th>FLAG_EMAIL</th>\n",
       "      <th>CNT_FAM_MEMBERS</th>\n",
       "      <th>STATUS</th>\n",
       "    </tr>\n",
       "  </thead>\n",
       "  <tbody>\n",
       "    <tr>\n",
       "      <th>0</th>\n",
       "      <td>5008804</td>\n",
       "      <td>1</td>\n",
       "      <td>1</td>\n",
       "      <td>1</td>\n",
       "      <td>0</td>\n",
       "      <td>427500.0</td>\n",
       "      <td>4</td>\n",
       "      <td>1</td>\n",
       "      <td>0</td>\n",
       "      <td>4</td>\n",
       "      <td>-12005</td>\n",
       "      <td>-4542</td>\n",
       "      <td>1</td>\n",
       "      <td>1</td>\n",
       "      <td>0</td>\n",
       "      <td>0</td>\n",
       "      <td>2.0</td>\n",
       "      <td>1</td>\n",
       "    </tr>\n",
       "    <tr>\n",
       "      <th>1</th>\n",
       "      <td>5008805</td>\n",
       "      <td>1</td>\n",
       "      <td>1</td>\n",
       "      <td>1</td>\n",
       "      <td>0</td>\n",
       "      <td>427500.0</td>\n",
       "      <td>4</td>\n",
       "      <td>1</td>\n",
       "      <td>0</td>\n",
       "      <td>4</td>\n",
       "      <td>-12005</td>\n",
       "      <td>-4542</td>\n",
       "      <td>1</td>\n",
       "      <td>1</td>\n",
       "      <td>0</td>\n",
       "      <td>0</td>\n",
       "      <td>2.0</td>\n",
       "      <td>1</td>\n",
       "    </tr>\n",
       "    <tr>\n",
       "      <th>2</th>\n",
       "      <td>5008806</td>\n",
       "      <td>1</td>\n",
       "      <td>1</td>\n",
       "      <td>1</td>\n",
       "      <td>0</td>\n",
       "      <td>112500.0</td>\n",
       "      <td>4</td>\n",
       "      <td>4</td>\n",
       "      <td>1</td>\n",
       "      <td>1</td>\n",
       "      <td>-21474</td>\n",
       "      <td>-1134</td>\n",
       "      <td>1</td>\n",
       "      <td>0</td>\n",
       "      <td>0</td>\n",
       "      <td>0</td>\n",
       "      <td>2.0</td>\n",
       "      <td>0</td>\n",
       "    </tr>\n",
       "    <tr>\n",
       "      <th>3</th>\n",
       "      <td>5008808</td>\n",
       "      <td>0</td>\n",
       "      <td>0</td>\n",
       "      <td>1</td>\n",
       "      <td>0</td>\n",
       "      <td>270000.0</td>\n",
       "      <td>0</td>\n",
       "      <td>4</td>\n",
       "      <td>3</td>\n",
       "      <td>1</td>\n",
       "      <td>-19110</td>\n",
       "      <td>-3051</td>\n",
       "      <td>1</td>\n",
       "      <td>0</td>\n",
       "      <td>1</td>\n",
       "      <td>1</td>\n",
       "      <td>1.0</td>\n",
       "      <td>0</td>\n",
       "    </tr>\n",
       "    <tr>\n",
       "      <th>4</th>\n",
       "      <td>5008809</td>\n",
       "      <td>0</td>\n",
       "      <td>0</td>\n",
       "      <td>1</td>\n",
       "      <td>0</td>\n",
       "      <td>270000.0</td>\n",
       "      <td>0</td>\n",
       "      <td>4</td>\n",
       "      <td>3</td>\n",
       "      <td>1</td>\n",
       "      <td>-19110</td>\n",
       "      <td>-3051</td>\n",
       "      <td>1</td>\n",
       "      <td>0</td>\n",
       "      <td>1</td>\n",
       "      <td>1</td>\n",
       "      <td>1.0</td>\n",
       "      <td>0</td>\n",
       "    </tr>\n",
       "  </tbody>\n",
       "</table>\n",
       "</div>"
      ],
      "text/plain": [
       "        ID  CODE_GENDER  FLAG_OWN_CAR  FLAG_OWN_REALTY  CNT_CHILDREN  \\\n",
       "0  5008804            1             1                1             0   \n",
       "1  5008805            1             1                1             0   \n",
       "2  5008806            1             1                1             0   \n",
       "3  5008808            0             0                1             0   \n",
       "4  5008809            0             0                1             0   \n",
       "\n",
       "   AMT_INCOME_TOTAL  NAME_INCOME_TYPE  NAME_EDUCATION_TYPE  \\\n",
       "0          427500.0                 4                    1   \n",
       "1          427500.0                 4                    1   \n",
       "2          112500.0                 4                    4   \n",
       "3          270000.0                 0                    4   \n",
       "4          270000.0                 0                    4   \n",
       "\n",
       "   NAME_FAMILY_STATUS  NAME_HOUSING_TYPE  DAYS_BIRTH  DAYS_EMPLOYED  \\\n",
       "0                   0                  4      -12005          -4542   \n",
       "1                   0                  4      -12005          -4542   \n",
       "2                   1                  1      -21474          -1134   \n",
       "3                   3                  1      -19110          -3051   \n",
       "4                   3                  1      -19110          -3051   \n",
       "\n",
       "   FLAG_MOBIL  FLAG_WORK_PHONE  FLAG_PHONE  FLAG_EMAIL  CNT_FAM_MEMBERS  \\\n",
       "0           1                1           0           0              2.0   \n",
       "1           1                1           0           0              2.0   \n",
       "2           1                0           0           0              2.0   \n",
       "3           1                0           1           1              1.0   \n",
       "4           1                0           1           1              1.0   \n",
       "\n",
       "   STATUS  \n",
       "0       1  \n",
       "1       1  \n",
       "2       0  \n",
       "3       0  \n",
       "4       0  "
      ]
     },
     "execution_count": 146,
     "metadata": {},
     "output_type": "execute_result"
    }
   ],
   "source": [
    "# объединяем в итоговом датафрейме признаки с таргетом\n",
    "df = ar.join(cr.set_index('ID'), on='ID', how='inner')\n",
    "df.head()"
   ]
  },
  {
   "cell_type": "code",
   "execution_count": 147,
   "id": "2ef978b2",
   "metadata": {
    "ExecuteTime": {
     "end_time": "2025-03-17T13:48:27.391620Z",
     "start_time": "2025-03-17T13:48:27.381905Z"
    }
   },
   "outputs": [],
   "source": [
    "# генерация признаков + PSI "
   ]
  },
  {
   "cell_type": "code",
   "execution_count": 148,
   "id": "c818ae56",
   "metadata": {
    "ExecuteTime": {
     "end_time": "2025-03-17T13:48:27.401842Z",
     "start_time": "2025-03-17T13:48:27.392046Z"
    }
   },
   "outputs": [],
   "source": [
    "X = df.iloc[:,1:-1]\n",
    "y = df.iloc[:,-1]"
   ]
  },
  {
   "cell_type": "code",
   "execution_count": 149,
   "id": "48585420",
   "metadata": {
    "ExecuteTime": {
     "end_time": "2025-03-17T13:48:27.417410Z",
     "start_time": "2025-03-17T13:48:27.401842Z"
    }
   },
   "outputs": [],
   "source": [
    "# делим данные на обучающую и тестовую выборки\n",
    "X_train, X_test, y_train, y_test = train_test_split(X, y, test_size=0.2, random_state=42)"
   ]
  },
  {
   "cell_type": "code",
   "execution_count": 152,
   "id": "b52fa5bf",
   "metadata": {
    "ExecuteTime": {
     "end_time": "2025-03-17T13:48:27.500037Z",
     "start_time": "2025-03-17T13:48:27.451448Z"
    }
   },
   "outputs": [],
   "source": [
    "# приводим признаки к одной шкале, RobustScaler не чувствителен к выбросам в отличие от MinMaxScaler()\n",
    "rs = RobustScaler()\n",
    "X_scaled = pd.DataFrame(rs.fit_transform(X_train), columns=X_train.columns)\n",
    "X_test_scaled = pd.DataFrame(rs.transform(X_test), columns=X_test.columns)"
   ]
  },
  {
   "cell_type": "code",
   "execution_count": 153,
   "id": "8644b4d7",
   "metadata": {
    "ExecuteTime": {
     "end_time": "2025-03-17T13:48:27.551621Z",
     "start_time": "2025-03-17T13:48:27.501986Z"
    }
   },
   "outputs": [
    {
     "data": {
      "text/html": [
       "<div>\n",
       "<style scoped>\n",
       "    .dataframe tbody tr th:only-of-type {\n",
       "        vertical-align: middle;\n",
       "    }\n",
       "\n",
       "    .dataframe tbody tr th {\n",
       "        vertical-align: top;\n",
       "    }\n",
       "\n",
       "    .dataframe thead th {\n",
       "        text-align: right;\n",
       "    }\n",
       "</style>\n",
       "<table border=\"1\" class=\"dataframe\">\n",
       "  <thead>\n",
       "    <tr style=\"text-align: right;\">\n",
       "      <th></th>\n",
       "      <th>CODE_GENDER</th>\n",
       "      <th>FLAG_OWN_CAR</th>\n",
       "      <th>FLAG_OWN_REALTY</th>\n",
       "      <th>CNT_CHILDREN</th>\n",
       "      <th>AMT_INCOME_TOTAL</th>\n",
       "      <th>NAME_INCOME_TYPE</th>\n",
       "      <th>NAME_EDUCATION_TYPE</th>\n",
       "      <th>NAME_FAMILY_STATUS</th>\n",
       "      <th>NAME_HOUSING_TYPE</th>\n",
       "      <th>DAYS_BIRTH</th>\n",
       "      <th>DAYS_EMPLOYED</th>\n",
       "      <th>FLAG_MOBIL</th>\n",
       "      <th>FLAG_WORK_PHONE</th>\n",
       "      <th>FLAG_PHONE</th>\n",
       "      <th>FLAG_EMAIL</th>\n",
       "      <th>CNT_FAM_MEMBERS</th>\n",
       "    </tr>\n",
       "  </thead>\n",
       "  <tbody>\n",
       "    <tr>\n",
       "      <th>0</th>\n",
       "      <td>1.0</td>\n",
       "      <td>1.0</td>\n",
       "      <td>0.0</td>\n",
       "      <td>0.0</td>\n",
       "      <td>-0.217391</td>\n",
       "      <td>0.000000</td>\n",
       "      <td>0.0</td>\n",
       "      <td>0.0</td>\n",
       "      <td>4.0</td>\n",
       "      <td>-0.101306</td>\n",
       "      <td>-0.566946</td>\n",
       "      <td>0.0</td>\n",
       "      <td>0.0</td>\n",
       "      <td>0.0</td>\n",
       "      <td>0.0</td>\n",
       "      <td>0.0</td>\n",
       "    </tr>\n",
       "    <tr>\n",
       "      <th>1</th>\n",
       "      <td>0.0</td>\n",
       "      <td>1.0</td>\n",
       "      <td>-1.0</td>\n",
       "      <td>1.0</td>\n",
       "      <td>-0.217391</td>\n",
       "      <td>-1.333333</td>\n",
       "      <td>-1.0</td>\n",
       "      <td>2.0</td>\n",
       "      <td>0.0</td>\n",
       "      <td>0.779882</td>\n",
       "      <td>-0.034294</td>\n",
       "      <td>0.0</td>\n",
       "      <td>0.0</td>\n",
       "      <td>0.0</td>\n",
       "      <td>0.0</td>\n",
       "      <td>0.0</td>\n",
       "    </tr>\n",
       "    <tr>\n",
       "      <th>2</th>\n",
       "      <td>0.0</td>\n",
       "      <td>0.0</td>\n",
       "      <td>0.0</td>\n",
       "      <td>2.0</td>\n",
       "      <td>0.217391</td>\n",
       "      <td>-1.333333</td>\n",
       "      <td>0.0</td>\n",
       "      <td>0.0</td>\n",
       "      <td>0.0</td>\n",
       "      <td>0.393744</td>\n",
       "      <td>-1.495804</td>\n",
       "      <td>0.0</td>\n",
       "      <td>0.0</td>\n",
       "      <td>0.0</td>\n",
       "      <td>0.0</td>\n",
       "      <td>2.0</td>\n",
       "    </tr>\n",
       "    <tr>\n",
       "      <th>3</th>\n",
       "      <td>0.0</td>\n",
       "      <td>1.0</td>\n",
       "      <td>0.0</td>\n",
       "      <td>0.0</td>\n",
       "      <td>1.956522</td>\n",
       "      <td>-1.333333</td>\n",
       "      <td>-1.0</td>\n",
       "      <td>2.0</td>\n",
       "      <td>0.0</td>\n",
       "      <td>-0.769694</td>\n",
       "      <td>-0.178402</td>\n",
       "      <td>0.0</td>\n",
       "      <td>0.0</td>\n",
       "      <td>0.0</td>\n",
       "      <td>1.0</td>\n",
       "      <td>-1.0</td>\n",
       "    </tr>\n",
       "    <tr>\n",
       "      <th>4</th>\n",
       "      <td>0.0</td>\n",
       "      <td>0.0</td>\n",
       "      <td>-1.0</td>\n",
       "      <td>0.0</td>\n",
       "      <td>1.086957</td>\n",
       "      <td>0.000000</td>\n",
       "      <td>0.0</td>\n",
       "      <td>1.0</td>\n",
       "      <td>0.0</td>\n",
       "      <td>-0.092122</td>\n",
       "      <td>0.380153</td>\n",
       "      <td>0.0</td>\n",
       "      <td>0.0</td>\n",
       "      <td>1.0</td>\n",
       "      <td>0.0</td>\n",
       "      <td>-1.0</td>\n",
       "    </tr>\n",
       "    <tr>\n",
       "      <th>...</th>\n",
       "      <td>...</td>\n",
       "      <td>...</td>\n",
       "      <td>...</td>\n",
       "      <td>...</td>\n",
       "      <td>...</td>\n",
       "      <td>...</td>\n",
       "      <td>...</td>\n",
       "      <td>...</td>\n",
       "      <td>...</td>\n",
       "      <td>...</td>\n",
       "      <td>...</td>\n",
       "      <td>...</td>\n",
       "      <td>...</td>\n",
       "      <td>...</td>\n",
       "      <td>...</td>\n",
       "      <td>...</td>\n",
       "    </tr>\n",
       "    <tr>\n",
       "      <th>29160</th>\n",
       "      <td>0.0</td>\n",
       "      <td>0.0</td>\n",
       "      <td>0.0</td>\n",
       "      <td>0.0</td>\n",
       "      <td>-0.434783</td>\n",
       "      <td>-1.000000</td>\n",
       "      <td>0.0</td>\n",
       "      <td>2.0</td>\n",
       "      <td>0.0</td>\n",
       "      <td>-1.124265</td>\n",
       "      <td>133.819774</td>\n",
       "      <td>0.0</td>\n",
       "      <td>0.0</td>\n",
       "      <td>1.0</td>\n",
       "      <td>1.0</td>\n",
       "      <td>-1.0</td>\n",
       "    </tr>\n",
       "    <tr>\n",
       "      <th>29161</th>\n",
       "      <td>0.0</td>\n",
       "      <td>0.0</td>\n",
       "      <td>0.0</td>\n",
       "      <td>1.0</td>\n",
       "      <td>-0.217391</td>\n",
       "      <td>-1.333333</td>\n",
       "      <td>0.0</td>\n",
       "      <td>0.0</td>\n",
       "      <td>0.0</td>\n",
       "      <td>0.004735</td>\n",
       "      <td>-2.443999</td>\n",
       "      <td>0.0</td>\n",
       "      <td>0.0</td>\n",
       "      <td>0.0</td>\n",
       "      <td>0.0</td>\n",
       "      <td>1.0</td>\n",
       "    </tr>\n",
       "    <tr>\n",
       "      <th>29162</th>\n",
       "      <td>0.0</td>\n",
       "      <td>0.0</td>\n",
       "      <td>0.0</td>\n",
       "      <td>0.0</td>\n",
       "      <td>-0.782609</td>\n",
       "      <td>0.000000</td>\n",
       "      <td>0.0</td>\n",
       "      <td>0.0</td>\n",
       "      <td>0.0</td>\n",
       "      <td>-0.318123</td>\n",
       "      <td>-0.632616</td>\n",
       "      <td>0.0</td>\n",
       "      <td>1.0</td>\n",
       "      <td>1.0</td>\n",
       "      <td>0.0</td>\n",
       "      <td>0.0</td>\n",
       "    </tr>\n",
       "    <tr>\n",
       "      <th>29163</th>\n",
       "      <td>0.0</td>\n",
       "      <td>0.0</td>\n",
       "      <td>0.0</td>\n",
       "      <td>0.0</td>\n",
       "      <td>0.000000</td>\n",
       "      <td>-1.000000</td>\n",
       "      <td>0.0</td>\n",
       "      <td>-1.0</td>\n",
       "      <td>0.0</td>\n",
       "      <td>-0.871000</td>\n",
       "      <td>133.819774</td>\n",
       "      <td>0.0</td>\n",
       "      <td>0.0</td>\n",
       "      <td>1.0</td>\n",
       "      <td>0.0</td>\n",
       "      <td>0.0</td>\n",
       "    </tr>\n",
       "    <tr>\n",
       "      <th>29164</th>\n",
       "      <td>0.0</td>\n",
       "      <td>0.0</td>\n",
       "      <td>0.0</td>\n",
       "      <td>0.0</td>\n",
       "      <td>4.130435</td>\n",
       "      <td>-1.333333</td>\n",
       "      <td>0.0</td>\n",
       "      <td>0.0</td>\n",
       "      <td>0.0</td>\n",
       "      <td>-0.472521</td>\n",
       "      <td>-0.165268</td>\n",
       "      <td>0.0</td>\n",
       "      <td>0.0</td>\n",
       "      <td>1.0</td>\n",
       "      <td>0.0</td>\n",
       "      <td>0.0</td>\n",
       "    </tr>\n",
       "  </tbody>\n",
       "</table>\n",
       "<p>29165 rows × 16 columns</p>\n",
       "</div>"
      ],
      "text/plain": [
       "       CODE_GENDER  FLAG_OWN_CAR  FLAG_OWN_REALTY  CNT_CHILDREN  \\\n",
       "0              1.0           1.0              0.0           0.0   \n",
       "1              0.0           1.0             -1.0           1.0   \n",
       "2              0.0           0.0              0.0           2.0   \n",
       "3              0.0           1.0              0.0           0.0   \n",
       "4              0.0           0.0             -1.0           0.0   \n",
       "...            ...           ...              ...           ...   \n",
       "29160          0.0           0.0              0.0           0.0   \n",
       "29161          0.0           0.0              0.0           1.0   \n",
       "29162          0.0           0.0              0.0           0.0   \n",
       "29163          0.0           0.0              0.0           0.0   \n",
       "29164          0.0           0.0              0.0           0.0   \n",
       "\n",
       "       AMT_INCOME_TOTAL  NAME_INCOME_TYPE  NAME_EDUCATION_TYPE  \\\n",
       "0             -0.217391          0.000000                  0.0   \n",
       "1             -0.217391         -1.333333                 -1.0   \n",
       "2              0.217391         -1.333333                  0.0   \n",
       "3              1.956522         -1.333333                 -1.0   \n",
       "4              1.086957          0.000000                  0.0   \n",
       "...                 ...               ...                  ...   \n",
       "29160         -0.434783         -1.000000                  0.0   \n",
       "29161         -0.217391         -1.333333                  0.0   \n",
       "29162         -0.782609          0.000000                  0.0   \n",
       "29163          0.000000         -1.000000                  0.0   \n",
       "29164          4.130435         -1.333333                  0.0   \n",
       "\n",
       "       NAME_FAMILY_STATUS  NAME_HOUSING_TYPE  DAYS_BIRTH  DAYS_EMPLOYED  \\\n",
       "0                     0.0                4.0   -0.101306      -0.566946   \n",
       "1                     2.0                0.0    0.779882      -0.034294   \n",
       "2                     0.0                0.0    0.393744      -1.495804   \n",
       "3                     2.0                0.0   -0.769694      -0.178402   \n",
       "4                     1.0                0.0   -0.092122       0.380153   \n",
       "...                   ...                ...         ...            ...   \n",
       "29160                 2.0                0.0   -1.124265     133.819774   \n",
       "29161                 0.0                0.0    0.004735      -2.443999   \n",
       "29162                 0.0                0.0   -0.318123      -0.632616   \n",
       "29163                -1.0                0.0   -0.871000     133.819774   \n",
       "29164                 0.0                0.0   -0.472521      -0.165268   \n",
       "\n",
       "       FLAG_MOBIL  FLAG_WORK_PHONE  FLAG_PHONE  FLAG_EMAIL  CNT_FAM_MEMBERS  \n",
       "0             0.0              0.0         0.0         0.0              0.0  \n",
       "1             0.0              0.0         0.0         0.0              0.0  \n",
       "2             0.0              0.0         0.0         0.0              2.0  \n",
       "3             0.0              0.0         0.0         1.0             -1.0  \n",
       "4             0.0              0.0         1.0         0.0             -1.0  \n",
       "...           ...              ...         ...         ...              ...  \n",
       "29160         0.0              0.0         1.0         1.0             -1.0  \n",
       "29161         0.0              0.0         0.0         0.0              1.0  \n",
       "29162         0.0              1.0         1.0         0.0              0.0  \n",
       "29163         0.0              0.0         1.0         0.0              0.0  \n",
       "29164         0.0              0.0         1.0         0.0              0.0  \n",
       "\n",
       "[29165 rows x 16 columns]"
      ]
     },
     "execution_count": 153,
     "metadata": {},
     "output_type": "execute_result"
    }
   ],
   "source": [
    "X_scaled"
   ]
  },
  {
   "cell_type": "code",
   "execution_count": 154,
   "id": "419729a4",
   "metadata": {
    "ExecuteTime": {
     "end_time": "2025-03-17T13:48:27.976676Z",
     "start_time": "2025-03-17T13:48:27.553605Z"
    }
   },
   "outputs": [],
   "source": [
    "oversample = SMOTE() # Synthetic Minority Over-sampling Technique\n",
    "X_balanced, y_balanced = oversample.fit_resample(X_scaled, y_train)"
   ]
  },
  {
   "cell_type": "code",
   "execution_count": 44,
   "id": "e92caade",
   "metadata": {
    "ExecuteTime": {
     "end_time": "2025-03-04T19:31:48.974915Z",
     "start_time": "2025-03-04T19:31:48.967877Z"
    }
   },
   "outputs": [],
   "source": [
    "# def calculate_psi(expected, actual, bins=10, epsilon=1e-6):\n",
    "#     # Разбиваем данные на бины\n",
    "#     breakpoints = np.histogram_bin_edges(expected, bins=bins)\n",
    "#     expected_counts, _ = np.histogram(expected, bins=breakpoints)\n",
    "#     actual_counts, _ = np.histogram(actual, bins=breakpoints)\n",
    "    \n",
    "#     # Добавляем epsilon, чтобы избежать деления на ноль\n",
    "#     expected_counts = expected_counts + epsilon\n",
    "#     actual_counts = actual_counts + epsilon\n",
    "    \n",
    "#     # Нормализуем до процентов\n",
    "#     expected_percents = expected_counts / np.sum(expected_counts)\n",
    "#     actual_percents = actual_counts / np.sum(actual_counts)\n",
    "    \n",
    "#     # Рассчитываем PSI\n",
    "#     psi = np.sum((actual_percents - expected_percents) * np.log(actual_percents / expected_percents))\n",
    "    \n",
    "#     return psi\n",
    "\n",
    "# def calculate_psi_for_dataframe(df_expected, df_actual, bins=10):\n",
    "#     psi_results = {}\n",
    "    \n",
    "#     for column in df_expected.columns:\n",
    "#         expected = df_expected[column]\n",
    "#         actual = df_actual[column]\n",
    "#         psi_value = calculate_psi(expected, actual, bins=bins)\n",
    "#         psi_results[column] = psi_value\n",
    "    \n",
    "#     return psi_results"
   ]
  },
  {
   "cell_type": "code",
   "execution_count": 45,
   "id": "b1f42d3f",
   "metadata": {
    "ExecuteTime": {
     "end_time": "2025-03-04T19:31:49.706329Z",
     "start_time": "2025-03-04T19:31:49.649070Z"
    }
   },
   "outputs": [
    {
     "name": "stdout",
     "output_type": "stream",
     "text": [
      "PSI для признака CODE_GENDER: 0.0304\n",
      "PSI для признака FLAG_OWN_CAR: 0.0074\n",
      "PSI для признака FLAG_OWN_REALTY: 0.0448\n",
      "PSI для признака CNT_CHILDREN: 0.0016\n",
      "PSI для признака AMT_INCOME_TOTAL: 0.0043\n",
      "PSI для признака NAME_INCOME_TYPE: 0.0344\n",
      "PSI для признака NAME_EDUCATION_TYPE: 0.0250\n",
      "PSI для признака NAME_FAMILY_STATUS: 0.0414\n",
      "PSI для признака NAME_HOUSING_TYPE: 0.0209\n",
      "PSI для признака DAYS_BIRTH: 0.0313\n",
      "PSI для признака DAYS_EMPLOYED: 0.0000\n",
      "PSI для признака FLAG_MOBIL: 0.0000\n",
      "PSI для признака FLAG_WORK_PHONE: 0.0126\n",
      "PSI для признака FLAG_PHONE: 0.0763\n",
      "PSI для признака FLAG_EMAIL: 0.0086\n",
      "PSI для признака CNT_FAM_MEMBERS: 0.0061\n"
     ]
    }
   ],
   "source": [
    "# # Рассчитываем PSI для всех признаков\n",
    "# psi_results = calculate_psi_for_dataframe(X_balanced, X_test_balanced, bins=10)\n",
    "\n",
    "# # Выводим результаты\n",
    "# for feature, psi in psi_results.items():\n",
    "#     print(f\"PSI для признака {feature}: {psi:.4f}\")"
   ]
  },
  {
   "cell_type": "code",
   "execution_count": 155,
   "id": "9b67c86b",
   "metadata": {
    "ExecuteTime": {
     "end_time": "2025-03-17T13:48:29.341228Z",
     "start_time": "2025-03-17T13:48:29.333229Z"
    }
   },
   "outputs": [
    {
     "data": {
      "text/plain": [
       "0    25746\n",
       "1     3419\n",
       "Name: STATUS, dtype: int64"
      ]
     },
     "execution_count": 155,
     "metadata": {},
     "output_type": "execute_result"
    }
   ],
   "source": [
    "y_train.value_counts()"
   ]
  },
  {
   "cell_type": "code",
   "execution_count": 156,
   "id": "42374526",
   "metadata": {
    "ExecuteTime": {
     "end_time": "2025-03-17T13:48:29.561786Z",
     "start_time": "2025-03-17T13:48:29.552790Z"
    }
   },
   "outputs": [
    {
     "data": {
      "text/plain": [
       "1    25746\n",
       "0    25746\n",
       "Name: STATUS, dtype: int64"
      ]
     },
     "execution_count": 156,
     "metadata": {},
     "output_type": "execute_result"
    }
   ],
   "source": [
    "y_balanced.value_counts()"
   ]
  },
  {
   "cell_type": "code",
   "execution_count": 158,
   "id": "d8f6449c",
   "metadata": {
    "ExecuteTime": {
     "end_time": "2025-03-17T13:34:56.852092Z",
     "start_time": "2025-03-17T13:34:56.841639Z"
    }
   },
   "outputs": [],
   "source": [
    "classifiers = {\n",
    "    \"LogisticRegression\" : LogisticRegression(max_iter=1000),\n",
    "    \"KNeighbors\" : KNeighborsClassifier(),\n",
    "    \"SVC\" : SVC(),\n",
    "    \"DecisionTree\" : DecisionTreeClassifier(),\n",
    "    \"RandomForest\" : RandomForestClassifier(),\n",
    "    \"XGBoost\" : XGBClassifier()\n",
    "}"
   ]
  },
  {
   "cell_type": "code",
   "execution_count": null,
   "id": "d2ca2a8f",
   "metadata": {
    "ExecuteTime": {
     "start_time": "2025-03-17T13:34:57.355Z"
    }
   },
   "outputs": [],
   "source": [
    "train_scores = []\n",
    "test_scores = []\n",
    "\n",
    "for key, classifier in classifiers.items():\n",
    "    classifier.fit(X_balanced, y_balanced)\n",
    "    train_score = classifier.score(X_balanced, y_balanced)\n",
    "    train_scores.append(train_score)\n",
    "    test_score = classifier.score(X_test, y_test)\n",
    "    test_scores.append(test_score)\n",
    "\n",
    "print(train_scores)\n",
    "print(test_scores)"
   ]
  },
  {
   "cell_type": "code",
   "execution_count": 158,
   "id": "c929323e",
   "metadata": {
    "ExecuteTime": {
     "end_time": "2025-03-17T13:48:35.728278Z",
     "start_time": "2025-03-17T13:48:35.312817Z"
    }
   },
   "outputs": [],
   "source": [
    "xgb = XGBClassifier()\n",
    "model = xgb.fit(X_balanced, y_balanced)\n",
    "prediction = xgb.predict(X_test)"
   ]
  },
  {
   "cell_type": "code",
   "execution_count": 159,
   "id": "a9be6f66",
   "metadata": {
    "ExecuteTime": {
     "end_time": "2025-03-17T13:48:44.912066Z",
     "start_time": "2025-03-17T13:48:44.878585Z"
    }
   },
   "outputs": [
    {
     "name": "stdout",
     "output_type": "stream",
     "text": [
      "              precision    recall  f1-score   support\n",
      "\n",
      "           0       0.88      1.00      0.93      6420\n",
      "           1       0.29      0.01      0.03       872\n",
      "\n",
      "    accuracy                           0.88      7292\n",
      "   macro avg       0.59      0.50      0.48      7292\n",
      "weighted avg       0.81      0.88      0.83      7292\n",
      "\n"
     ]
    }
   ],
   "source": [
    "print(classification_report(y_test, prediction)) #1"
   ]
  },
  {
   "cell_type": "code",
   "execution_count": null,
   "id": "901af322",
   "metadata": {},
   "outputs": [],
   "source": [
    "# auc roc curve"
   ]
  }
 ],
 "metadata": {
  "kernelspec": {
   "display_name": "Python 3 (ipykernel)",
   "language": "python",
   "name": "python3"
  },
  "language_info": {
   "codemirror_mode": {
    "name": "ipython",
    "version": 3
   },
   "file_extension": ".py",
   "mimetype": "text/x-python",
   "name": "python",
   "nbconvert_exporter": "python",
   "pygments_lexer": "ipython3",
   "version": "3.9.12"
  },
  "toc": {
   "base_numbering": 1,
   "nav_menu": {},
   "number_sections": true,
   "sideBar": true,
   "skip_h1_title": false,
   "title_cell": "Table of Contents",
   "title_sidebar": "Contents",
   "toc_cell": false,
   "toc_position": {},
   "toc_section_display": true,
   "toc_window_display": false
  }
 },
 "nbformat": 4,
 "nbformat_minor": 5
}
