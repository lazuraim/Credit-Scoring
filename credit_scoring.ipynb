{
 "cells": [
  {
   "cell_type": "code",
   "execution_count": 33,
   "id": "1f8f695e",
   "metadata": {
    "ExecuteTime": {
     "end_time": "2025-03-23T10:33:33.421329Z",
     "start_time": "2025-03-23T10:33:33.412607Z"
    }
   },
   "outputs": [],
   "source": [
    "import pandas as pd\n",
    "import numpy as np\n",
    "import seaborn as sns\n",
    "import matplotlib.pyplot as plt\n",
    "\n",
    "from imblearn.over_sampling import SMOTE, ADASYN\n",
    "from sklearn.model_selection import train_test_split\n",
    "from sklearn.linear_model import LogisticRegression\n",
    "from sklearn.neighbors import KNeighborsClassifier\n",
    "from sklearn.svm import SVC\n",
    "from sklearn.tree import DecisionTreeClassifier\n",
    "from sklearn.ensemble import RandomForestClassifier\n",
    "from xgboost import XGBClassifier\n",
    "from sklearn.metrics import accuracy_score, classification_report, confusion_matrix\n",
    "from sklearn.preprocessing import LabelEncoder\n",
    "from category_encoders import BinaryEncoder\n",
    "from sklearn.preprocessing import RobustScaler, MinMaxScaler\n",
    "from scipy.stats import pearsonr, spearmanr, chi2_contingency\n",
    "from sklearn.metrics import roc_auc_score\n",
    "from scipy.stats import zscore\n",
    "\n",
    "from sklearn.decomposition import PCA\n",
    "\n",
    "from sklearn.metrics import classification_report"
   ]
  },
  {
   "cell_type": "code",
   "execution_count": 34,
   "id": "56a6bafd",
   "metadata": {
    "ExecuteTime": {
     "end_time": "2025-03-23T10:33:33.436336Z",
     "start_time": "2025-03-23T10:33:33.424353Z"
    }
   },
   "outputs": [],
   "source": [
    "# Примерный пайплайн:\n",
    "# 1) Считываем данные\n",
    "# 2) Убираем null и лишние поля\n",
    "# 3) Мерджим датафреймы\n",
    "# 4) Кодирование категориальных признаков\n",
    "# 5) опционально - посмотреть корреляцию, убрать лишние признаки\n",
    "# 6) Масштабирование\n",
    "# 7) Балансирование классов SMOTE\n",
    "# 8) Кfold \n",
    "# 9) Обучение модели\n",
    "# 10) Валидация результатов\n",
    "\n",
    "# сначала базово попробовать настроить нормальный ROC-AUC\n",
    "\n",
    "# + PCA, регуляризация(???), генерация признаков и PSI"
   ]
  },
  {
   "cell_type": "code",
   "execution_count": null,
   "id": "c5b51d70",
   "metadata": {},
   "outputs": [],
   "source": []
  },
  {
   "cell_type": "code",
   "execution_count": 35,
   "id": "f18ed17d",
   "metadata": {
    "ExecuteTime": {
     "end_time": "2025-03-23T10:33:34.943848Z",
     "start_time": "2025-03-23T10:33:33.437989Z"
    }
   },
   "outputs": [],
   "source": [
    "ar = pd.read_csv('data/application_record.zip', compression='zip')\n",
    "cr = pd.read_csv('data/credit_record.zip', compression='zip')"
   ]
  },
  {
   "cell_type": "markdown",
   "id": "9c0cf99c",
   "metadata": {},
   "source": [
    "# Предобработка данных"
   ]
  },
  {
   "cell_type": "code",
   "execution_count": 36,
   "id": "2bda785c",
   "metadata": {
    "ExecuteTime": {
     "end_time": "2025-03-23T10:33:34.971327Z",
     "start_time": "2025-03-23T10:33:34.943848Z"
    }
   },
   "outputs": [
    {
     "data": {
      "text/html": [
       "<div>\n",
       "<style scoped>\n",
       "    .dataframe tbody tr th:only-of-type {\n",
       "        vertical-align: middle;\n",
       "    }\n",
       "\n",
       "    .dataframe tbody tr th {\n",
       "        vertical-align: top;\n",
       "    }\n",
       "\n",
       "    .dataframe thead th {\n",
       "        text-align: right;\n",
       "    }\n",
       "</style>\n",
       "<table border=\"1\" class=\"dataframe\">\n",
       "  <thead>\n",
       "    <tr style=\"text-align: right;\">\n",
       "      <th></th>\n",
       "      <th>ID</th>\n",
       "      <th>CODE_GENDER</th>\n",
       "      <th>FLAG_OWN_CAR</th>\n",
       "      <th>FLAG_OWN_REALTY</th>\n",
       "      <th>CNT_CHILDREN</th>\n",
       "      <th>AMT_INCOME_TOTAL</th>\n",
       "      <th>NAME_INCOME_TYPE</th>\n",
       "      <th>NAME_EDUCATION_TYPE</th>\n",
       "      <th>NAME_FAMILY_STATUS</th>\n",
       "      <th>NAME_HOUSING_TYPE</th>\n",
       "      <th>DAYS_BIRTH</th>\n",
       "      <th>DAYS_EMPLOYED</th>\n",
       "      <th>FLAG_MOBIL</th>\n",
       "      <th>FLAG_WORK_PHONE</th>\n",
       "      <th>FLAG_PHONE</th>\n",
       "      <th>FLAG_EMAIL</th>\n",
       "      <th>OCCUPATION_TYPE</th>\n",
       "      <th>CNT_FAM_MEMBERS</th>\n",
       "    </tr>\n",
       "  </thead>\n",
       "  <tbody>\n",
       "    <tr>\n",
       "      <th>0</th>\n",
       "      <td>5008804</td>\n",
       "      <td>M</td>\n",
       "      <td>Y</td>\n",
       "      <td>Y</td>\n",
       "      <td>0</td>\n",
       "      <td>427500.0</td>\n",
       "      <td>Working</td>\n",
       "      <td>Higher education</td>\n",
       "      <td>Civil marriage</td>\n",
       "      <td>Rented apartment</td>\n",
       "      <td>-12005</td>\n",
       "      <td>-4542</td>\n",
       "      <td>1</td>\n",
       "      <td>1</td>\n",
       "      <td>0</td>\n",
       "      <td>0</td>\n",
       "      <td>NaN</td>\n",
       "      <td>2.0</td>\n",
       "    </tr>\n",
       "    <tr>\n",
       "      <th>1</th>\n",
       "      <td>5008805</td>\n",
       "      <td>M</td>\n",
       "      <td>Y</td>\n",
       "      <td>Y</td>\n",
       "      <td>0</td>\n",
       "      <td>427500.0</td>\n",
       "      <td>Working</td>\n",
       "      <td>Higher education</td>\n",
       "      <td>Civil marriage</td>\n",
       "      <td>Rented apartment</td>\n",
       "      <td>-12005</td>\n",
       "      <td>-4542</td>\n",
       "      <td>1</td>\n",
       "      <td>1</td>\n",
       "      <td>0</td>\n",
       "      <td>0</td>\n",
       "      <td>NaN</td>\n",
       "      <td>2.0</td>\n",
       "    </tr>\n",
       "    <tr>\n",
       "      <th>2</th>\n",
       "      <td>5008806</td>\n",
       "      <td>M</td>\n",
       "      <td>Y</td>\n",
       "      <td>Y</td>\n",
       "      <td>0</td>\n",
       "      <td>112500.0</td>\n",
       "      <td>Working</td>\n",
       "      <td>Secondary / secondary special</td>\n",
       "      <td>Married</td>\n",
       "      <td>House / apartment</td>\n",
       "      <td>-21474</td>\n",
       "      <td>-1134</td>\n",
       "      <td>1</td>\n",
       "      <td>0</td>\n",
       "      <td>0</td>\n",
       "      <td>0</td>\n",
       "      <td>Security staff</td>\n",
       "      <td>2.0</td>\n",
       "    </tr>\n",
       "    <tr>\n",
       "      <th>3</th>\n",
       "      <td>5008808</td>\n",
       "      <td>F</td>\n",
       "      <td>N</td>\n",
       "      <td>Y</td>\n",
       "      <td>0</td>\n",
       "      <td>270000.0</td>\n",
       "      <td>Commercial associate</td>\n",
       "      <td>Secondary / secondary special</td>\n",
       "      <td>Single / not married</td>\n",
       "      <td>House / apartment</td>\n",
       "      <td>-19110</td>\n",
       "      <td>-3051</td>\n",
       "      <td>1</td>\n",
       "      <td>0</td>\n",
       "      <td>1</td>\n",
       "      <td>1</td>\n",
       "      <td>Sales staff</td>\n",
       "      <td>1.0</td>\n",
       "    </tr>\n",
       "    <tr>\n",
       "      <th>4</th>\n",
       "      <td>5008809</td>\n",
       "      <td>F</td>\n",
       "      <td>N</td>\n",
       "      <td>Y</td>\n",
       "      <td>0</td>\n",
       "      <td>270000.0</td>\n",
       "      <td>Commercial associate</td>\n",
       "      <td>Secondary / secondary special</td>\n",
       "      <td>Single / not married</td>\n",
       "      <td>House / apartment</td>\n",
       "      <td>-19110</td>\n",
       "      <td>-3051</td>\n",
       "      <td>1</td>\n",
       "      <td>0</td>\n",
       "      <td>1</td>\n",
       "      <td>1</td>\n",
       "      <td>Sales staff</td>\n",
       "      <td>1.0</td>\n",
       "    </tr>\n",
       "  </tbody>\n",
       "</table>\n",
       "</div>"
      ],
      "text/plain": [
       "        ID CODE_GENDER FLAG_OWN_CAR FLAG_OWN_REALTY  CNT_CHILDREN  \\\n",
       "0  5008804           M            Y               Y             0   \n",
       "1  5008805           M            Y               Y             0   \n",
       "2  5008806           M            Y               Y             0   \n",
       "3  5008808           F            N               Y             0   \n",
       "4  5008809           F            N               Y             0   \n",
       "\n",
       "   AMT_INCOME_TOTAL      NAME_INCOME_TYPE            NAME_EDUCATION_TYPE  \\\n",
       "0          427500.0               Working               Higher education   \n",
       "1          427500.0               Working               Higher education   \n",
       "2          112500.0               Working  Secondary / secondary special   \n",
       "3          270000.0  Commercial associate  Secondary / secondary special   \n",
       "4          270000.0  Commercial associate  Secondary / secondary special   \n",
       "\n",
       "     NAME_FAMILY_STATUS  NAME_HOUSING_TYPE  DAYS_BIRTH  DAYS_EMPLOYED  \\\n",
       "0        Civil marriage   Rented apartment      -12005          -4542   \n",
       "1        Civil marriage   Rented apartment      -12005          -4542   \n",
       "2               Married  House / apartment      -21474          -1134   \n",
       "3  Single / not married  House / apartment      -19110          -3051   \n",
       "4  Single / not married  House / apartment      -19110          -3051   \n",
       "\n",
       "   FLAG_MOBIL  FLAG_WORK_PHONE  FLAG_PHONE  FLAG_EMAIL OCCUPATION_TYPE  \\\n",
       "0           1                1           0           0             NaN   \n",
       "1           1                1           0           0             NaN   \n",
       "2           1                0           0           0  Security staff   \n",
       "3           1                0           1           1     Sales staff   \n",
       "4           1                0           1           1     Sales staff   \n",
       "\n",
       "   CNT_FAM_MEMBERS  \n",
       "0              2.0  \n",
       "1              2.0  \n",
       "2              2.0  \n",
       "3              1.0  \n",
       "4              1.0  "
      ]
     },
     "execution_count": 36,
     "metadata": {},
     "output_type": "execute_result"
    }
   ],
   "source": [
    "ar.head()"
   ]
  },
  {
   "cell_type": "code",
   "execution_count": 37,
   "id": "bc888aca",
   "metadata": {
    "ExecuteTime": {
     "end_time": "2025-03-23T10:33:34.987344Z",
     "start_time": "2025-03-23T10:33:34.973345Z"
    }
   },
   "outputs": [
    {
     "data": {
      "text/html": [
       "<div>\n",
       "<style scoped>\n",
       "    .dataframe tbody tr th:only-of-type {\n",
       "        vertical-align: middle;\n",
       "    }\n",
       "\n",
       "    .dataframe tbody tr th {\n",
       "        vertical-align: top;\n",
       "    }\n",
       "\n",
       "    .dataframe thead th {\n",
       "        text-align: right;\n",
       "    }\n",
       "</style>\n",
       "<table border=\"1\" class=\"dataframe\">\n",
       "  <thead>\n",
       "    <tr style=\"text-align: right;\">\n",
       "      <th></th>\n",
       "      <th>ID</th>\n",
       "      <th>MONTHS_BALANCE</th>\n",
       "      <th>STATUS</th>\n",
       "    </tr>\n",
       "  </thead>\n",
       "  <tbody>\n",
       "    <tr>\n",
       "      <th>0</th>\n",
       "      <td>5001711</td>\n",
       "      <td>0</td>\n",
       "      <td>X</td>\n",
       "    </tr>\n",
       "    <tr>\n",
       "      <th>1</th>\n",
       "      <td>5001711</td>\n",
       "      <td>-1</td>\n",
       "      <td>0</td>\n",
       "    </tr>\n",
       "    <tr>\n",
       "      <th>2</th>\n",
       "      <td>5001711</td>\n",
       "      <td>-2</td>\n",
       "      <td>0</td>\n",
       "    </tr>\n",
       "    <tr>\n",
       "      <th>3</th>\n",
       "      <td>5001711</td>\n",
       "      <td>-3</td>\n",
       "      <td>0</td>\n",
       "    </tr>\n",
       "    <tr>\n",
       "      <th>4</th>\n",
       "      <td>5001712</td>\n",
       "      <td>0</td>\n",
       "      <td>C</td>\n",
       "    </tr>\n",
       "  </tbody>\n",
       "</table>\n",
       "</div>"
      ],
      "text/plain": [
       "        ID  MONTHS_BALANCE STATUS\n",
       "0  5001711               0      X\n",
       "1  5001711              -1      0\n",
       "2  5001711              -2      0\n",
       "3  5001711              -3      0\n",
       "4  5001712               0      C"
      ]
     },
     "execution_count": 37,
     "metadata": {},
     "output_type": "execute_result"
    }
   ],
   "source": [
    "cr.head()"
   ]
  },
  {
   "cell_type": "markdown",
   "id": "16badbfe",
   "metadata": {},
   "source": [
    "## Очистка данных"
   ]
  },
  {
   "cell_type": "code",
   "execution_count": 38,
   "id": "250c705e",
   "metadata": {
    "ExecuteTime": {
     "end_time": "2025-03-23T10:33:35.052497Z",
     "start_time": "2025-03-23T10:33:34.989345Z"
    }
   },
   "outputs": [
    {
     "data": {
      "text/plain": [
       "47"
      ]
     },
     "execution_count": 38,
     "metadata": {},
     "output_type": "execute_result"
    }
   ],
   "source": [
    "# проверяем дублирующиеся ID\n",
    "ar.duplicated(subset=['ID']).sum()"
   ]
  },
  {
   "cell_type": "code",
   "execution_count": 39,
   "id": "99f770d9",
   "metadata": {
    "ExecuteTime": {
     "end_time": "2025-03-23T10:33:35.172853Z",
     "start_time": "2025-03-23T10:33:35.054401Z"
    }
   },
   "outputs": [],
   "source": [
    "ar.drop_duplicates('ID', keep='last', inplace=True)"
   ]
  },
  {
   "cell_type": "code",
   "execution_count": 40,
   "id": "2b1bc92e",
   "metadata": {
    "ExecuteTime": {
     "end_time": "2025-03-23T10:33:35.203602Z",
     "start_time": "2025-03-23T10:33:35.174856Z"
    }
   },
   "outputs": [],
   "source": [
    "# информация о месяце просрочки не понадобится\n",
    "cr.drop('MONTHS_BALANCE', axis=1, inplace=True)"
   ]
  },
  {
   "cell_type": "code",
   "execution_count": 41,
   "id": "5dd9eba1",
   "metadata": {
    "ExecuteTime": {
     "end_time": "2025-03-23T10:33:35.288368Z",
     "start_time": "2025-03-23T10:33:35.207625Z"
    }
   },
   "outputs": [
    {
     "data": {
      "text/plain": [
       "C    442031\n",
       "0    383120\n",
       "X    209230\n",
       "1     11090\n",
       "5      1693\n",
       "2       868\n",
       "3       320\n",
       "4       223\n",
       "Name: STATUS, dtype: int64"
      ]
     },
     "execution_count": 41,
     "metadata": {},
     "output_type": "execute_result"
    }
   ],
   "source": [
    "cr['STATUS'].value_counts() "
   ]
  },
  {
   "cell_type": "markdown",
   "id": "7f135a4e",
   "metadata": {},
   "source": [
    "- **0:** 1-29 days past due \n",
    "- **1:** 30-59 days past due \n",
    "- **2:** 60-89 days overdue \n",
    "- **3:** 90-119 days overdue \n",
    "- **4:** 120-149 days overdue \n",
    "- **5:** Overdue or bad debts, write-offs for more than 150 days \n",
    "- **C:** paid off that month \n",
    "- **X:** No loan for the month"
   ]
  },
  {
   "cell_type": "code",
   "execution_count": 42,
   "id": "5db1bbca",
   "metadata": {
    "ExecuteTime": {
     "end_time": "2025-03-23T10:33:35.971540Z",
     "start_time": "2025-03-23T10:33:35.292031Z"
    }
   },
   "outputs": [
    {
     "data": {
      "text/plain": [
       "0    1034381\n",
       "1      14194\n",
       "Name: STATUS, dtype: int64"
      ]
     },
     "execution_count": 42,
     "metadata": {},
     "output_type": "execute_result"
    }
   ],
   "source": [
    "cr['STATUS'] = cr['STATUS'].replace({'C' : 0, 'X' : 0})\n",
    "cr['STATUS'] = cr['STATUS'].astype(int)\n",
    "cr['STATUS'] = cr['STATUS'].apply(lambda x: 1 if x >= 1 else 0)\n",
    "cr['STATUS'].value_counts() "
   ]
  },
  {
   "cell_type": "code",
   "execution_count": 43,
   "id": "f7258673",
   "metadata": {
    "ExecuteTime": {
     "end_time": "2025-03-23T10:33:36.306210Z",
     "start_time": "2025-03-23T10:33:35.974264Z"
    }
   },
   "outputs": [
    {
     "data": {
      "text/html": [
       "<div>\n",
       "<style scoped>\n",
       "    .dataframe tbody tr th:only-of-type {\n",
       "        vertical-align: middle;\n",
       "    }\n",
       "\n",
       "    .dataframe tbody tr th {\n",
       "        vertical-align: top;\n",
       "    }\n",
       "\n",
       "    .dataframe thead th {\n",
       "        text-align: right;\n",
       "    }\n",
       "</style>\n",
       "<table border=\"1\" class=\"dataframe\">\n",
       "  <thead>\n",
       "    <tr style=\"text-align: right;\">\n",
       "      <th></th>\n",
       "      <th>ID</th>\n",
       "      <th>CODE_GENDER</th>\n",
       "      <th>FLAG_OWN_CAR</th>\n",
       "      <th>FLAG_OWN_REALTY</th>\n",
       "      <th>CNT_CHILDREN</th>\n",
       "      <th>AMT_INCOME_TOTAL</th>\n",
       "      <th>NAME_INCOME_TYPE</th>\n",
       "      <th>NAME_EDUCATION_TYPE</th>\n",
       "      <th>NAME_FAMILY_STATUS</th>\n",
       "      <th>NAME_HOUSING_TYPE</th>\n",
       "      <th>DAYS_BIRTH</th>\n",
       "      <th>DAYS_EMPLOYED</th>\n",
       "      <th>FLAG_MOBIL</th>\n",
       "      <th>FLAG_WORK_PHONE</th>\n",
       "      <th>FLAG_PHONE</th>\n",
       "      <th>FLAG_EMAIL</th>\n",
       "      <th>OCCUPATION_TYPE</th>\n",
       "      <th>CNT_FAM_MEMBERS</th>\n",
       "      <th>STATUS</th>\n",
       "    </tr>\n",
       "  </thead>\n",
       "  <tbody>\n",
       "    <tr>\n",
       "      <th>0</th>\n",
       "      <td>5008804</td>\n",
       "      <td>M</td>\n",
       "      <td>Y</td>\n",
       "      <td>Y</td>\n",
       "      <td>0</td>\n",
       "      <td>427500.0</td>\n",
       "      <td>Working</td>\n",
       "      <td>Higher education</td>\n",
       "      <td>Civil marriage</td>\n",
       "      <td>Rented apartment</td>\n",
       "      <td>-12005</td>\n",
       "      <td>-4542</td>\n",
       "      <td>1</td>\n",
       "      <td>1</td>\n",
       "      <td>0</td>\n",
       "      <td>0</td>\n",
       "      <td>NaN</td>\n",
       "      <td>2.0</td>\n",
       "      <td>0</td>\n",
       "    </tr>\n",
       "    <tr>\n",
       "      <th>0</th>\n",
       "      <td>5008804</td>\n",
       "      <td>M</td>\n",
       "      <td>Y</td>\n",
       "      <td>Y</td>\n",
       "      <td>0</td>\n",
       "      <td>427500.0</td>\n",
       "      <td>Working</td>\n",
       "      <td>Higher education</td>\n",
       "      <td>Civil marriage</td>\n",
       "      <td>Rented apartment</td>\n",
       "      <td>-12005</td>\n",
       "      <td>-4542</td>\n",
       "      <td>1</td>\n",
       "      <td>1</td>\n",
       "      <td>0</td>\n",
       "      <td>0</td>\n",
       "      <td>NaN</td>\n",
       "      <td>2.0</td>\n",
       "      <td>0</td>\n",
       "    </tr>\n",
       "    <tr>\n",
       "      <th>0</th>\n",
       "      <td>5008804</td>\n",
       "      <td>M</td>\n",
       "      <td>Y</td>\n",
       "      <td>Y</td>\n",
       "      <td>0</td>\n",
       "      <td>427500.0</td>\n",
       "      <td>Working</td>\n",
       "      <td>Higher education</td>\n",
       "      <td>Civil marriage</td>\n",
       "      <td>Rented apartment</td>\n",
       "      <td>-12005</td>\n",
       "      <td>-4542</td>\n",
       "      <td>1</td>\n",
       "      <td>1</td>\n",
       "      <td>0</td>\n",
       "      <td>0</td>\n",
       "      <td>NaN</td>\n",
       "      <td>2.0</td>\n",
       "      <td>0</td>\n",
       "    </tr>\n",
       "    <tr>\n",
       "      <th>0</th>\n",
       "      <td>5008804</td>\n",
       "      <td>M</td>\n",
       "      <td>Y</td>\n",
       "      <td>Y</td>\n",
       "      <td>0</td>\n",
       "      <td>427500.0</td>\n",
       "      <td>Working</td>\n",
       "      <td>Higher education</td>\n",
       "      <td>Civil marriage</td>\n",
       "      <td>Rented apartment</td>\n",
       "      <td>-12005</td>\n",
       "      <td>-4542</td>\n",
       "      <td>1</td>\n",
       "      <td>1</td>\n",
       "      <td>0</td>\n",
       "      <td>0</td>\n",
       "      <td>NaN</td>\n",
       "      <td>2.0</td>\n",
       "      <td>0</td>\n",
       "    </tr>\n",
       "    <tr>\n",
       "      <th>0</th>\n",
       "      <td>5008804</td>\n",
       "      <td>M</td>\n",
       "      <td>Y</td>\n",
       "      <td>Y</td>\n",
       "      <td>0</td>\n",
       "      <td>427500.0</td>\n",
       "      <td>Working</td>\n",
       "      <td>Higher education</td>\n",
       "      <td>Civil marriage</td>\n",
       "      <td>Rented apartment</td>\n",
       "      <td>-12005</td>\n",
       "      <td>-4542</td>\n",
       "      <td>1</td>\n",
       "      <td>1</td>\n",
       "      <td>0</td>\n",
       "      <td>0</td>\n",
       "      <td>NaN</td>\n",
       "      <td>2.0</td>\n",
       "      <td>0</td>\n",
       "    </tr>\n",
       "  </tbody>\n",
       "</table>\n",
       "</div>"
      ],
      "text/plain": [
       "        ID CODE_GENDER FLAG_OWN_CAR FLAG_OWN_REALTY  CNT_CHILDREN  \\\n",
       "0  5008804           M            Y               Y             0   \n",
       "0  5008804           M            Y               Y             0   \n",
       "0  5008804           M            Y               Y             0   \n",
       "0  5008804           M            Y               Y             0   \n",
       "0  5008804           M            Y               Y             0   \n",
       "\n",
       "   AMT_INCOME_TOTAL NAME_INCOME_TYPE NAME_EDUCATION_TYPE NAME_FAMILY_STATUS  \\\n",
       "0          427500.0          Working    Higher education     Civil marriage   \n",
       "0          427500.0          Working    Higher education     Civil marriage   \n",
       "0          427500.0          Working    Higher education     Civil marriage   \n",
       "0          427500.0          Working    Higher education     Civil marriage   \n",
       "0          427500.0          Working    Higher education     Civil marriage   \n",
       "\n",
       "  NAME_HOUSING_TYPE  DAYS_BIRTH  DAYS_EMPLOYED  FLAG_MOBIL  FLAG_WORK_PHONE  \\\n",
       "0  Rented apartment      -12005          -4542           1                1   \n",
       "0  Rented apartment      -12005          -4542           1                1   \n",
       "0  Rented apartment      -12005          -4542           1                1   \n",
       "0  Rented apartment      -12005          -4542           1                1   \n",
       "0  Rented apartment      -12005          -4542           1                1   \n",
       "\n",
       "   FLAG_PHONE  FLAG_EMAIL OCCUPATION_TYPE  CNT_FAM_MEMBERS  STATUS  \n",
       "0           0           0             NaN              2.0       0  \n",
       "0           0           0             NaN              2.0       0  \n",
       "0           0           0             NaN              2.0       0  \n",
       "0           0           0             NaN              2.0       0  \n",
       "0           0           0             NaN              2.0       0  "
      ]
     },
     "execution_count": 43,
     "metadata": {},
     "output_type": "execute_result"
    }
   ],
   "source": [
    "df = ar.join(cr.set_index('ID'), on='ID', how='inner')\n",
    "df.head()"
   ]
  },
  {
   "cell_type": "code",
   "execution_count": 44,
   "id": "ec1dc65c",
   "metadata": {
    "ExecuteTime": {
     "end_time": "2025-03-23T10:33:55.351447Z",
     "start_time": "2025-03-23T10:33:36.308262Z"
    }
   },
   "outputs": [
    {
     "data": {
      "text/plain": [
       "<AxesSubplot:>"
      ]
     },
     "execution_count": 44,
     "metadata": {},
     "output_type": "execute_result"
    },
    {
     "data": {
      "image/png": "[encoded data removed]",
      "text/plain": [
       "<Figure size 432x288 with 2 Axes>"
      ]
     },
     "metadata": {
      "needs_background": "light"
     },
     "output_type": "display_data"
    }
   ],
   "source": [
    "# проверяем наличие пропущенных значений с помощью визуализации\n",
    "sns.heatmap(df.isnull())"
   ]
  },
  {
   "cell_type": "code",
   "execution_count": 45,
   "id": "ac67a475",
   "metadata": {
    "ExecuteTime": {
     "end_time": "2025-03-23T10:33:56.619206Z",
     "start_time": "2025-03-23T10:33:55.351447Z"
    }
   },
   "outputs": [],
   "source": [
    "# удаляем строки, в которых пропущено поле OCCUPATION_TYPE\n",
    "df.dropna(axis=0, inplace=True)"
   ]
  },
  {
   "cell_type": "code",
   "execution_count": 46,
   "id": "b82c607d",
   "metadata": {
    "ExecuteTime": {
     "end_time": "2025-03-23T10:33:57.424492Z",
     "start_time": "2025-03-23T10:33:56.621389Z"
    }
   },
   "outputs": [
    {
     "data": {
      "text/plain": [
       "ID                     0\n",
       "CODE_GENDER            0\n",
       "FLAG_OWN_CAR           0\n",
       "FLAG_OWN_REALTY        0\n",
       "CNT_CHILDREN           0\n",
       "AMT_INCOME_TOTAL       0\n",
       "NAME_INCOME_TYPE       0\n",
       "NAME_EDUCATION_TYPE    0\n",
       "NAME_FAMILY_STATUS     0\n",
       "NAME_HOUSING_TYPE      0\n",
       "DAYS_BIRTH             0\n",
       "DAYS_EMPLOYED          0\n",
       "FLAG_MOBIL             0\n",
       "FLAG_WORK_PHONE        0\n",
       "FLAG_PHONE             0\n",
       "FLAG_EMAIL             0\n",
       "OCCUPATION_TYPE        0\n",
       "CNT_FAM_MEMBERS        0\n",
       "STATUS                 0\n",
       "dtype: int64"
      ]
     },
     "execution_count": 46,
     "metadata": {},
     "output_type": "execute_result"
    }
   ],
   "source": [
    "df.isna().sum()"
   ]
  },
  {
   "cell_type": "code",
   "execution_count": 47,
   "id": "4d2093a8",
   "metadata": {
    "ExecuteTime": {
     "end_time": "2025-03-23T10:33:57.454202Z",
     "start_time": "2025-03-23T10:33:57.426544Z"
    }
   },
   "outputs": [
    {
     "data": {
      "text/plain": [
       "0    529282\n",
       "1      8385\n",
       "Name: STATUS, dtype: int64"
      ]
     },
     "execution_count": 47,
     "metadata": {},
     "output_type": "execute_result"
    }
   ],
   "source": [
    "df['STATUS'].value_counts() "
   ]
  },
  {
   "cell_type": "code",
   "execution_count": 48,
   "id": "05797802",
   "metadata": {
    "ExecuteTime": {
     "end_time": "2025-03-23T10:33:57.470850Z",
     "start_time": "2025-03-23T10:33:57.457263Z"
    }
   },
   "outputs": [
    {
     "data": {
      "text/plain": [
       "Index(['ID', 'CODE_GENDER', 'FLAG_OWN_CAR', 'FLAG_OWN_REALTY', 'CNT_CHILDREN',\n",
       "       'AMT_INCOME_TOTAL', 'NAME_INCOME_TYPE', 'NAME_EDUCATION_TYPE',\n",
       "       'NAME_FAMILY_STATUS', 'NAME_HOUSING_TYPE', 'DAYS_BIRTH',\n",
       "       'DAYS_EMPLOYED', 'FLAG_MOBIL', 'FLAG_WORK_PHONE', 'FLAG_PHONE',\n",
       "       'FLAG_EMAIL', 'OCCUPATION_TYPE', 'CNT_FAM_MEMBERS', 'STATUS'],\n",
       "      dtype='object')"
      ]
     },
     "execution_count": 48,
     "metadata": {},
     "output_type": "execute_result"
    }
   ],
   "source": [
    "df.columns"
   ]
  },
  {
   "cell_type": "markdown",
   "id": "f6cce7d4",
   "metadata": {},
   "source": []
  },
  {
   "cell_type": "code",
   "execution_count": null,
   "id": "b7653f86",
   "metadata": {},
   "outputs": [],
   "source": []
  },
  {
   "cell_type": "code",
   "execution_count": null,
   "id": "f967566b",
   "metadata": {},
   "outputs": [],
   "source": []
  },
  {
   "cell_type": "code",
   "execution_count": null,
   "id": "c14a34a9",
   "metadata": {},
   "outputs": [],
   "source": []
  },
  {
   "cell_type": "code",
   "execution_count": null,
   "id": "6ad3d768",
   "metadata": {},
   "outputs": [],
   "source": []
  },
  {
   "cell_type": "markdown",
   "id": "ddb28840",
   "metadata": {},
   "source": [
    "## Кодирование категориальных признаков"
   ]
  },
  {
   "cell_type": "code",
   "execution_count": 49,
   "id": "47b40eae",
   "metadata": {
    "ExecuteTime": {
     "end_time": "2025-03-23T10:33:58.221113Z",
     "start_time": "2025-03-23T10:33:57.474904Z"
    }
   },
   "outputs": [],
   "source": [
    "# попробуем просто заменить на 0 и 1\n",
    "df['FLAG_OWN_CAR'] = df['FLAG_OWN_CAR'].replace({'Y' : 1, 'N' : 0})\n",
    "df['FLAG_OWN_REALTY'] = df['FLAG_OWN_REALTY'].replace({'Y' : 1, 'N' : 0})\n",
    "df['CODE_GENDER'] = df['CODE_GENDER'].replace({'F' : 1, 'M' : 0})"
   ]
  },
  {
   "cell_type": "code",
   "execution_count": 50,
   "id": "d5ada45b",
   "metadata": {
    "ExecuteTime": {
     "end_time": "2025-03-23T10:33:58.938502Z",
     "start_time": "2025-03-23T10:33:58.221286Z"
    }
   },
   "outputs": [],
   "source": [
    "#  кодируем категориальный порядковый признак\n",
    "le = LabelEncoder()\n",
    "df['NAME_INCOME_TYPE'] = le.fit_transform(df['NAME_INCOME_TYPE'])\n",
    "df['NAME_HOUSING_TYPE'] = le.fit_transform(df['NAME_HOUSING_TYPE'])\n",
    "df['NAME_EDUCATION_TYPE'] = le.fit_transform(df['NAME_EDUCATION_TYPE']) #\n",
    "df['NAME_FAMILY_STATUS'] = le.fit_transform(df['NAME_FAMILY_STATUS']) #\n",
    "df['OCCUPATION_TYPE'] = le.fit_transform(df['OCCUPATION_TYPE']) #"
   ]
  },
  {
   "cell_type": "code",
   "execution_count": 51,
   "id": "612ca5a4",
   "metadata": {
    "ExecuteTime": {
     "end_time": "2025-03-23T10:33:58.949029Z",
     "start_time": "2025-03-23T10:33:58.938502Z"
    }
   },
   "outputs": [],
   "source": [
    "# попробовать OHE или др способы кодирования"
   ]
  },
  {
   "cell_type": "code",
   "execution_count": null,
   "id": "18d32e8a",
   "metadata": {},
   "outputs": [],
   "source": []
  },
  {
   "cell_type": "code",
   "execution_count": null,
   "id": "83d9cf16",
   "metadata": {},
   "outputs": [],
   "source": []
  },
  {
   "cell_type": "markdown",
   "id": "48f66f79",
   "metadata": {
    "ExecuteTime": {
     "end_time": "2025-03-23T08:37:37.260801Z",
     "start_time": "2025-03-23T08:37:37.202465Z"
    }
   },
   "source": [
    "## Проверяем наличие выбросов"
   ]
  },
  {
   "cell_type": "code",
   "execution_count": 52,
   "id": "1f28285a",
   "metadata": {
    "ExecuteTime": {
     "end_time": "2025-03-23T10:34:17.206109Z",
     "start_time": "2025-03-23T10:33:58.950440Z"
    }
   },
   "outputs": [
    {
     "data": {
      "text/plain": [
       "<AxesSubplot:xlabel='ID', ylabel='CODE_GENDER'>"
      ]
     },
     "execution_count": 52,
     "metadata": {},
     "output_type": "execute_result"
    },
    {
     "data": {
      "image/png": "[encoded data removed]",
      "text/plain": [
       "<Figure size 1152x576 with 16 Axes>"
      ]
     },
     "metadata": {
      "needs_background": "light"
     },
     "output_type": "display_data"
    }
   ],
   "source": [
    "# проверяем наличие выбросов с помощью визуализации\n",
    "\n",
    "fig, ax = plt.subplots(nrows=4, ncols=4, figsize=(16,8))\n",
    "sns.scatterplot(x=df['ID'], y=df['FLAG_OWN_CAR'], data=df, ax=ax[0][0])\n",
    "sns.scatterplot(x=df['ID'], y=df['FLAG_OWN_REALTY'], data=df, ax=ax[0][1])\n",
    "sns.scatterplot(x=df['ID'], y=df['AMT_INCOME_TOTAL'], data=df, ax=ax[0][2])\n",
    "sns.scatterplot(x=df['ID'], y=df['NAME_INCOME_TYPE'], data=df, ax=ax[0][3])\n",
    "\n",
    "\n",
    "sns.scatterplot(x=df['ID'], y=df['NAME_HOUSING_TYPE'], data=df, ax=ax[1][0])\n",
    "sns.scatterplot(x=df['ID'], y=df['NAME_EDUCATION_TYPE'], data=df, ax=ax[1][1])\n",
    "sns.scatterplot(x=df['ID'], y=df['NAME_FAMILY_STATUS'], data=df, ax=ax[1][2])\n",
    "sns.scatterplot(x=df['ID'], y=df['OCCUPATION_TYPE'], data=df, ax=ax[1][3])\n",
    "\n",
    "\n",
    "sns.scatterplot(x=df['ID'], y=df['FLAG_EMAIL'], data=df, ax=ax[2][0])\n",
    "sns.scatterplot(x=df['ID'], y=df['FLAG_WORK_PHONE'], data=df, ax=ax[2][1])\n",
    "sns.scatterplot(x=df['ID'], y=df['FLAG_PHONE'], data=df, ax=ax[2][2])\n",
    "sns.scatterplot(x=df['ID'], y=df['FLAG_MOBIL'], data=df, ax=ax[2][3])\n",
    "\n",
    "sns.scatterplot(x=df['ID'], y=df['DAYS_EMPLOYED'], data=df, ax=ax[3][0])\n",
    "sns.scatterplot(x=df['ID'], y=df['DAYS_BIRTH'], data=df, ax=ax[3][1])\n",
    "sns.scatterplot(x=df['ID'], y=df['CNT_CHILDREN'], data=df, ax=ax[3][2])\n",
    "sns.scatterplot(x=df['ID'], y=df['CODE_GENDER'], data=df, ax=ax[3][3])"
   ]
  },
  {
   "cell_type": "code",
   "execution_count": 53,
   "id": "1c9c2c49",
   "metadata": {
    "ExecuteTime": {
     "end_time": "2025-03-23T10:34:17.268769Z",
     "start_time": "2025-03-23T10:34:17.208662Z"
    }
   },
   "outputs": [
    {
     "name": "stdout",
     "output_type": "stream",
     "text": [
      "Дисперсия признаков:\n",
      " ID                     1.764168e+09\n",
      "CODE_GENDER            2.353861e-01\n",
      "FLAG_OWN_CAR           2.451687e-01\n",
      "FLAG_OWN_REALTY        2.296836e-01\n",
      "CNT_CHILDREN           6.198172e-01\n",
      "AMT_INCOME_TOTAL       1.084492e+10\n",
      "NAME_INCOME_TYPE       3.148480e+00\n",
      "NAME_EDUCATION_TYPE    1.853086e+00\n",
      "NAME_FAMILY_STATUS     7.518042e-01\n",
      "NAME_HOUSING_TYPE      9.921572e-01\n",
      "DAYS_BIRTH             1.167191e+07\n",
      "DAYS_EMPLOYED          5.730850e+06\n",
      "FLAG_MOBIL             0.000000e+00\n",
      "FLAG_WORK_PHONE        2.023083e-01\n",
      "FLAG_PHONE             2.095564e-01\n",
      "FLAG_EMAIL             9.058334e-02\n",
      "OCCUPATION_TYPE        1.837802e+01\n",
      "CNT_FAM_MEMBERS        8.776917e-01\n",
      "STATUS                 1.535197e-02\n",
      "dtype: float64\n"
     ]
    }
   ],
   "source": [
    "variances = df.select_dtypes(include=['number']).var()\n",
    "print(\"Дисперсия признаков:\\n\", variances)"
   ]
  },
  {
   "cell_type": "markdown",
   "id": "ce0d6788",
   "metadata": {},
   "source": [
    "Выбросы присутствуют по следующим признакам: AMT_INCOME_TOTAL, CNT_CHILDREN"
   ]
  },
  {
   "cell_type": "code",
   "execution_count": 54,
   "id": "8c20ef41",
   "metadata": {
    "ExecuteTime": {
     "end_time": "2025-03-23T10:34:17.421032Z",
     "start_time": "2025-03-23T10:34:17.272789Z"
    }
   },
   "outputs": [],
   "source": [
    "# Вычисляем Z-оценки и удаляем выбросы (|Z| > 3)\n",
    "df['z_score'] = zscore(df['AMT_INCOME_TOTAL'])\n",
    "df = df[np.abs(df['z_score']) <= 3]"
   ]
  },
  {
   "cell_type": "code",
   "execution_count": 55,
   "id": "8e321c5a",
   "metadata": {
    "ExecuteTime": {
     "end_time": "2025-03-23T10:34:17.520742Z",
     "start_time": "2025-03-23T10:34:17.423519Z"
    }
   },
   "outputs": [],
   "source": [
    "# Вычисляем Z-оценки и удаляем выбросы (|Z| > 3)\n",
    "df['z_score'] = zscore(df['CNT_CHILDREN'])\n",
    "df = df[np.abs(df['z_score']) <= 3]"
   ]
  },
  {
   "cell_type": "code",
   "execution_count": 56,
   "id": "6bbcda73",
   "metadata": {
    "ExecuteTime": {
     "end_time": "2025-03-23T10:34:17.583822Z",
     "start_time": "2025-03-23T10:34:17.524352Z"
    }
   },
   "outputs": [],
   "source": [
    "df.drop('z_score', axis=1, inplace=True)"
   ]
  },
  {
   "cell_type": "code",
   "execution_count": 57,
   "id": "3a672467",
   "metadata": {
    "ExecuteTime": {
     "end_time": "2025-03-23T10:34:17.635242Z",
     "start_time": "2025-03-23T10:34:17.586774Z"
    }
   },
   "outputs": [],
   "source": [
    "# У признака FLAG_MOBIL нулевая дисперсия (это видно и на графике), его можно удалить\n",
    "df.drop('FLAG_MOBIL', axis=1, inplace=True)"
   ]
  },
  {
   "cell_type": "code",
   "execution_count": 58,
   "id": "b566bd0e",
   "metadata": {
    "ExecuteTime": {
     "end_time": "2025-03-23T10:34:17.685398Z",
     "start_time": "2025-03-23T10:34:17.637116Z"
    }
   },
   "outputs": [
    {
     "name": "stdout",
     "output_type": "stream",
     "text": [
      "Дисперсия признаков:\n",
      " ID                     1.761900e+09\n",
      "CODE_GENDER            2.348859e-01\n",
      "FLAG_OWN_CAR           2.444388e-01\n",
      "FLAG_OWN_REALTY        2.303517e-01\n",
      "CNT_CHILDREN           4.710622e-01\n",
      "AMT_INCOME_TOTAL       7.008767e+09\n",
      "NAME_INCOME_TYPE       3.134355e+00\n",
      "NAME_EDUCATION_TYPE    1.839142e+00\n",
      "NAME_FAMILY_STATUS     7.617413e-01\n",
      "NAME_HOUSING_TYPE      9.991097e-01\n",
      "DAYS_BIRTH             1.175013e+07\n",
      "DAYS_EMPLOYED          5.809347e+06\n",
      "FLAG_WORK_PHONE        2.025666e-01\n",
      "FLAG_PHONE             2.097092e-01\n",
      "FLAG_EMAIL             9.050125e-02\n",
      "OCCUPATION_TYPE        1.840186e+01\n",
      "CNT_FAM_MEMBERS        7.214246e-01\n",
      "STATUS                 1.520021e-02\n",
      "dtype: float64\n"
     ]
    }
   ],
   "source": [
    "# Посмотрим еще раз дисперсию после удаления выбросов\n",
    "variances = df.select_dtypes(include=['number']).var()\n",
    "print(\"Дисперсия признаков:\\n\", variances)"
   ]
  },
  {
   "cell_type": "code",
   "execution_count": null,
   "id": "975bbd0f",
   "metadata": {},
   "outputs": [],
   "source": []
  },
  {
   "cell_type": "code",
   "execution_count": null,
   "id": "9bc05d54",
   "metadata": {},
   "outputs": [],
   "source": []
  },
  {
   "cell_type": "markdown",
   "id": "552aea68",
   "metadata": {
    "ExecuteTime": {
     "end_time": "2025-03-23T08:18:13.926314Z",
     "start_time": "2025-03-23T08:18:13.914634Z"
    }
   },
   "source": [
    "## Исследование данных"
   ]
  },
  {
   "cell_type": "code",
   "execution_count": 59,
   "id": "c5a12133",
   "metadata": {
    "ExecuteTime": {
     "end_time": "2025-03-23T10:34:20.024895Z",
     "start_time": "2025-03-23T10:34:17.688220Z"
    }
   },
   "outputs": [
    {
     "data": {
      "image/png": "[encoded data removed]",
      "text/plain": [
       "<Figure size 720x576 with 2 Axes>"
      ]
     },
     "metadata": {
      "needs_background": "light"
     },
     "output_type": "display_data"
    }
   ],
   "source": [
    "# Вычисление матрицы корреляций\n",
    "corr_matrix = df.corr()\n",
    "\n",
    "plt.figure(figsize=(10, 8))\n",
    "sns.heatmap(corr_matrix, annot=True, cmap='coolwarm', fmt='.2f')\n",
    "plt.title('Матрица корреляций (Пирсон)')\n",
    "plt.show()"
   ]
  },
  {
   "cell_type": "markdown",
   "id": "022ae54c",
   "metadata": {},
   "source": [
    "Высокая корреляция признаков CNT_FAM_MEMBERS и CNT_CHILDREN. Попробуем дропнуть CNT_FAM_MEMBERS."
   ]
  },
  {
   "cell_type": "code",
   "execution_count": 60,
   "id": "2f88e375",
   "metadata": {
    "ExecuteTime": {
     "end_time": "2025-03-23T10:34:20.073667Z",
     "start_time": "2025-03-23T10:34:20.032258Z"
    }
   },
   "outputs": [],
   "source": [
    "df.drop('CNT_FAM_MEMBERS', axis=1, inplace=True) # это никак не повлияло"
   ]
  },
  {
   "cell_type": "code",
   "execution_count": null,
   "id": "b92d1bf8",
   "metadata": {},
   "outputs": [],
   "source": []
  },
  {
   "cell_type": "code",
   "execution_count": null,
   "id": "51a84039",
   "metadata": {},
   "outputs": [],
   "source": []
  },
  {
   "cell_type": "markdown",
   "id": "3af49f00",
   "metadata": {},
   "source": [
    "## Генерация признаков и проверка их стабильности с помощью PSI"
   ]
  },
  {
   "cell_type": "code",
   "execution_count": 61,
   "id": "09d95816",
   "metadata": {
    "ExecuteTime": {
     "end_time": "2025-03-23T10:34:20.103022Z",
     "start_time": "2025-03-23T10:34:20.076846Z"
    }
   },
   "outputs": [
    {
     "data": {
      "text/html": [
       "<div>\n",
       "<style scoped>\n",
       "    .dataframe tbody tr th:only-of-type {\n",
       "        vertical-align: middle;\n",
       "    }\n",
       "\n",
       "    .dataframe tbody tr th {\n",
       "        vertical-align: top;\n",
       "    }\n",
       "\n",
       "    .dataframe thead th {\n",
       "        text-align: right;\n",
       "    }\n",
       "</style>\n",
       "<table border=\"1\" class=\"dataframe\">\n",
       "  <thead>\n",
       "    <tr style=\"text-align: right;\">\n",
       "      <th></th>\n",
       "      <th>ID</th>\n",
       "      <th>CODE_GENDER</th>\n",
       "      <th>FLAG_OWN_CAR</th>\n",
       "      <th>FLAG_OWN_REALTY</th>\n",
       "      <th>CNT_CHILDREN</th>\n",
       "      <th>AMT_INCOME_TOTAL</th>\n",
       "      <th>NAME_INCOME_TYPE</th>\n",
       "      <th>NAME_EDUCATION_TYPE</th>\n",
       "      <th>NAME_FAMILY_STATUS</th>\n",
       "      <th>NAME_HOUSING_TYPE</th>\n",
       "      <th>DAYS_BIRTH</th>\n",
       "      <th>DAYS_EMPLOYED</th>\n",
       "      <th>FLAG_WORK_PHONE</th>\n",
       "      <th>FLAG_PHONE</th>\n",
       "      <th>FLAG_EMAIL</th>\n",
       "      <th>OCCUPATION_TYPE</th>\n",
       "      <th>STATUS</th>\n",
       "    </tr>\n",
       "  </thead>\n",
       "  <tbody>\n",
       "    <tr>\n",
       "      <th>2</th>\n",
       "      <td>5008806</td>\n",
       "      <td>0</td>\n",
       "      <td>1</td>\n",
       "      <td>1</td>\n",
       "      <td>0</td>\n",
       "      <td>112500.0</td>\n",
       "      <td>4</td>\n",
       "      <td>4</td>\n",
       "      <td>1</td>\n",
       "      <td>1</td>\n",
       "      <td>-21474</td>\n",
       "      <td>-1134</td>\n",
       "      <td>0</td>\n",
       "      <td>0</td>\n",
       "      <td>0</td>\n",
       "      <td>16</td>\n",
       "      <td>0</td>\n",
       "    </tr>\n",
       "    <tr>\n",
       "      <th>2</th>\n",
       "      <td>5008806</td>\n",
       "      <td>0</td>\n",
       "      <td>1</td>\n",
       "      <td>1</td>\n",
       "      <td>0</td>\n",
       "      <td>112500.0</td>\n",
       "      <td>4</td>\n",
       "      <td>4</td>\n",
       "      <td>1</td>\n",
       "      <td>1</td>\n",
       "      <td>-21474</td>\n",
       "      <td>-1134</td>\n",
       "      <td>0</td>\n",
       "      <td>0</td>\n",
       "      <td>0</td>\n",
       "      <td>16</td>\n",
       "      <td>0</td>\n",
       "    </tr>\n",
       "    <tr>\n",
       "      <th>2</th>\n",
       "      <td>5008806</td>\n",
       "      <td>0</td>\n",
       "      <td>1</td>\n",
       "      <td>1</td>\n",
       "      <td>0</td>\n",
       "      <td>112500.0</td>\n",
       "      <td>4</td>\n",
       "      <td>4</td>\n",
       "      <td>1</td>\n",
       "      <td>1</td>\n",
       "      <td>-21474</td>\n",
       "      <td>-1134</td>\n",
       "      <td>0</td>\n",
       "      <td>0</td>\n",
       "      <td>0</td>\n",
       "      <td>16</td>\n",
       "      <td>0</td>\n",
       "    </tr>\n",
       "    <tr>\n",
       "      <th>2</th>\n",
       "      <td>5008806</td>\n",
       "      <td>0</td>\n",
       "      <td>1</td>\n",
       "      <td>1</td>\n",
       "      <td>0</td>\n",
       "      <td>112500.0</td>\n",
       "      <td>4</td>\n",
       "      <td>4</td>\n",
       "      <td>1</td>\n",
       "      <td>1</td>\n",
       "      <td>-21474</td>\n",
       "      <td>-1134</td>\n",
       "      <td>0</td>\n",
       "      <td>0</td>\n",
       "      <td>0</td>\n",
       "      <td>16</td>\n",
       "      <td>0</td>\n",
       "    </tr>\n",
       "    <tr>\n",
       "      <th>2</th>\n",
       "      <td>5008806</td>\n",
       "      <td>0</td>\n",
       "      <td>1</td>\n",
       "      <td>1</td>\n",
       "      <td>0</td>\n",
       "      <td>112500.0</td>\n",
       "      <td>4</td>\n",
       "      <td>4</td>\n",
       "      <td>1</td>\n",
       "      <td>1</td>\n",
       "      <td>-21474</td>\n",
       "      <td>-1134</td>\n",
       "      <td>0</td>\n",
       "      <td>0</td>\n",
       "      <td>0</td>\n",
       "      <td>16</td>\n",
       "      <td>0</td>\n",
       "    </tr>\n",
       "  </tbody>\n",
       "</table>\n",
       "</div>"
      ],
      "text/plain": [
       "        ID  CODE_GENDER  FLAG_OWN_CAR  FLAG_OWN_REALTY  CNT_CHILDREN  \\\n",
       "2  5008806            0             1                1             0   \n",
       "2  5008806            0             1                1             0   \n",
       "2  5008806            0             1                1             0   \n",
       "2  5008806            0             1                1             0   \n",
       "2  5008806            0             1                1             0   \n",
       "\n",
       "   AMT_INCOME_TOTAL  NAME_INCOME_TYPE  NAME_EDUCATION_TYPE  \\\n",
       "2          112500.0                 4                    4   \n",
       "2          112500.0                 4                    4   \n",
       "2          112500.0                 4                    4   \n",
       "2          112500.0                 4                    4   \n",
       "2          112500.0                 4                    4   \n",
       "\n",
       "   NAME_FAMILY_STATUS  NAME_HOUSING_TYPE  DAYS_BIRTH  DAYS_EMPLOYED  \\\n",
       "2                   1                  1      -21474          -1134   \n",
       "2                   1                  1      -21474          -1134   \n",
       "2                   1                  1      -21474          -1134   \n",
       "2                   1                  1      -21474          -1134   \n",
       "2                   1                  1      -21474          -1134   \n",
       "\n",
       "   FLAG_WORK_PHONE  FLAG_PHONE  FLAG_EMAIL  OCCUPATION_TYPE  STATUS  \n",
       "2                0           0           0               16       0  \n",
       "2                0           0           0               16       0  \n",
       "2                0           0           0               16       0  \n",
       "2                0           0           0               16       0  \n",
       "2                0           0           0               16       0  "
      ]
     },
     "execution_count": 61,
     "metadata": {},
     "output_type": "execute_result"
    }
   ],
   "source": [
    "df.head()"
   ]
  },
  {
   "cell_type": "code",
   "execution_count": 62,
   "id": "5a445901",
   "metadata": {
    "ExecuteTime": {
     "end_time": "2025-03-23T10:34:20.156294Z",
     "start_time": "2025-03-23T10:34:20.104024Z"
    }
   },
   "outputs": [
    {
     "data": {
      "text/html": [
       "<div>\n",
       "<style scoped>\n",
       "    .dataframe tbody tr th:only-of-type {\n",
       "        vertical-align: middle;\n",
       "    }\n",
       "\n",
       "    .dataframe tbody tr th {\n",
       "        vertical-align: top;\n",
       "    }\n",
       "\n",
       "    .dataframe thead th {\n",
       "        text-align: right;\n",
       "    }\n",
       "</style>\n",
       "<table border=\"1\" class=\"dataframe\">\n",
       "  <thead>\n",
       "    <tr style=\"text-align: right;\">\n",
       "      <th></th>\n",
       "      <th>ID</th>\n",
       "      <th>CODE_GENDER</th>\n",
       "      <th>FLAG_OWN_CAR</th>\n",
       "      <th>FLAG_OWN_REALTY</th>\n",
       "      <th>CNT_CHILDREN</th>\n",
       "      <th>AMT_INCOME_TOTAL</th>\n",
       "      <th>NAME_INCOME_TYPE</th>\n",
       "      <th>NAME_EDUCATION_TYPE</th>\n",
       "      <th>NAME_FAMILY_STATUS</th>\n",
       "      <th>NAME_HOUSING_TYPE</th>\n",
       "      <th>DAYS_BIRTH</th>\n",
       "      <th>DAYS_EMPLOYED</th>\n",
       "      <th>FLAG_WORK_PHONE</th>\n",
       "      <th>FLAG_PHONE</th>\n",
       "      <th>FLAG_EMAIL</th>\n",
       "      <th>OCCUPATION_TYPE</th>\n",
       "      <th>STATUS</th>\n",
       "      <th>INCOME/AGE</th>\n",
       "      <th>DAYS_BIRTH/DAYS_EMPLOYED</th>\n",
       "    </tr>\n",
       "  </thead>\n",
       "  <tbody>\n",
       "    <tr>\n",
       "      <th>2</th>\n",
       "      <td>5008806</td>\n",
       "      <td>0</td>\n",
       "      <td>1</td>\n",
       "      <td>1</td>\n",
       "      <td>0</td>\n",
       "      <td>112500.0</td>\n",
       "      <td>4</td>\n",
       "      <td>4</td>\n",
       "      <td>1</td>\n",
       "      <td>1</td>\n",
       "      <td>-21474</td>\n",
       "      <td>-1134</td>\n",
       "      <td>0</td>\n",
       "      <td>0</td>\n",
       "      <td>0</td>\n",
       "      <td>16</td>\n",
       "      <td>0</td>\n",
       "      <td>5.238894</td>\n",
       "      <td>18.936508</td>\n",
       "    </tr>\n",
       "    <tr>\n",
       "      <th>2</th>\n",
       "      <td>5008806</td>\n",
       "      <td>0</td>\n",
       "      <td>1</td>\n",
       "      <td>1</td>\n",
       "      <td>0</td>\n",
       "      <td>112500.0</td>\n",
       "      <td>4</td>\n",
       "      <td>4</td>\n",
       "      <td>1</td>\n",
       "      <td>1</td>\n",
       "      <td>-21474</td>\n",
       "      <td>-1134</td>\n",
       "      <td>0</td>\n",
       "      <td>0</td>\n",
       "      <td>0</td>\n",
       "      <td>16</td>\n",
       "      <td>0</td>\n",
       "      <td>5.238894</td>\n",
       "      <td>18.936508</td>\n",
       "    </tr>\n",
       "    <tr>\n",
       "      <th>2</th>\n",
       "      <td>5008806</td>\n",
       "      <td>0</td>\n",
       "      <td>1</td>\n",
       "      <td>1</td>\n",
       "      <td>0</td>\n",
       "      <td>112500.0</td>\n",
       "      <td>4</td>\n",
       "      <td>4</td>\n",
       "      <td>1</td>\n",
       "      <td>1</td>\n",
       "      <td>-21474</td>\n",
       "      <td>-1134</td>\n",
       "      <td>0</td>\n",
       "      <td>0</td>\n",
       "      <td>0</td>\n",
       "      <td>16</td>\n",
       "      <td>0</td>\n",
       "      <td>5.238894</td>\n",
       "      <td>18.936508</td>\n",
       "    </tr>\n",
       "    <tr>\n",
       "      <th>2</th>\n",
       "      <td>5008806</td>\n",
       "      <td>0</td>\n",
       "      <td>1</td>\n",
       "      <td>1</td>\n",
       "      <td>0</td>\n",
       "      <td>112500.0</td>\n",
       "      <td>4</td>\n",
       "      <td>4</td>\n",
       "      <td>1</td>\n",
       "      <td>1</td>\n",
       "      <td>-21474</td>\n",
       "      <td>-1134</td>\n",
       "      <td>0</td>\n",
       "      <td>0</td>\n",
       "      <td>0</td>\n",
       "      <td>16</td>\n",
       "      <td>0</td>\n",
       "      <td>5.238894</td>\n",
       "      <td>18.936508</td>\n",
       "    </tr>\n",
       "    <tr>\n",
       "      <th>2</th>\n",
       "      <td>5008806</td>\n",
       "      <td>0</td>\n",
       "      <td>1</td>\n",
       "      <td>1</td>\n",
       "      <td>0</td>\n",
       "      <td>112500.0</td>\n",
       "      <td>4</td>\n",
       "      <td>4</td>\n",
       "      <td>1</td>\n",
       "      <td>1</td>\n",
       "      <td>-21474</td>\n",
       "      <td>-1134</td>\n",
       "      <td>0</td>\n",
       "      <td>0</td>\n",
       "      <td>0</td>\n",
       "      <td>16</td>\n",
       "      <td>0</td>\n",
       "      <td>5.238894</td>\n",
       "      <td>18.936508</td>\n",
       "    </tr>\n",
       "  </tbody>\n",
       "</table>\n",
       "</div>"
      ],
      "text/plain": [
       "        ID  CODE_GENDER  FLAG_OWN_CAR  FLAG_OWN_REALTY  CNT_CHILDREN  \\\n",
       "2  5008806            0             1                1             0   \n",
       "2  5008806            0             1                1             0   \n",
       "2  5008806            0             1                1             0   \n",
       "2  5008806            0             1                1             0   \n",
       "2  5008806            0             1                1             0   \n",
       "\n",
       "   AMT_INCOME_TOTAL  NAME_INCOME_TYPE  NAME_EDUCATION_TYPE  \\\n",
       "2          112500.0                 4                    4   \n",
       "2          112500.0                 4                    4   \n",
       "2          112500.0                 4                    4   \n",
       "2          112500.0                 4                    4   \n",
       "2          112500.0                 4                    4   \n",
       "\n",
       "   NAME_FAMILY_STATUS  NAME_HOUSING_TYPE  DAYS_BIRTH  DAYS_EMPLOYED  \\\n",
       "2                   1                  1      -21474          -1134   \n",
       "2                   1                  1      -21474          -1134   \n",
       "2                   1                  1      -21474          -1134   \n",
       "2                   1                  1      -21474          -1134   \n",
       "2                   1                  1      -21474          -1134   \n",
       "\n",
       "   FLAG_WORK_PHONE  FLAG_PHONE  FLAG_EMAIL  OCCUPATION_TYPE  STATUS  \\\n",
       "2                0           0           0               16       0   \n",
       "2                0           0           0               16       0   \n",
       "2                0           0           0               16       0   \n",
       "2                0           0           0               16       0   \n",
       "2                0           0           0               16       0   \n",
       "\n",
       "   INCOME/AGE  DAYS_BIRTH/DAYS_EMPLOYED  \n",
       "2    5.238894                 18.936508  \n",
       "2    5.238894                 18.936508  \n",
       "2    5.238894                 18.936508  \n",
       "2    5.238894                 18.936508  \n",
       "2    5.238894                 18.936508  "
      ]
     },
     "execution_count": 62,
     "metadata": {},
     "output_type": "execute_result"
    }
   ],
   "source": [
    "df['INCOME/AGE'] = df['AMT_INCOME_TOTAL'] / (-df['DAYS_BIRTH'])\n",
    "df['DAYS_BIRTH/DAYS_EMPLOYED'] = (-df['DAYS_BIRTH']) / (-df['DAYS_EMPLOYED'])\n",
    "df.head()"
   ]
  },
  {
   "cell_type": "code",
   "execution_count": 63,
   "id": "a2043f9f",
   "metadata": {
    "ExecuteTime": {
     "end_time": "2025-03-23T10:34:20.207441Z",
     "start_time": "2025-03-23T10:34:20.158289Z"
    }
   },
   "outputs": [],
   "source": [
    "X_psi = df.loc[:, ~df.columns.isin(['ID', 'STATUS'])]\n",
    "y_psi = df['STATUS']"
   ]
  },
  {
   "cell_type": "code",
   "execution_count": 64,
   "id": "edff3417",
   "metadata": {
    "ExecuteTime": {
     "end_time": "2025-03-23T10:34:20.520128Z",
     "start_time": "2025-03-23T10:34:20.208973Z"
    }
   },
   "outputs": [],
   "source": [
    "X_train_psi, X_test_psi, y_train_psi, y_test_psi = train_test_split(X_psi, y_psi, random_state=42, stratify=y_psi)"
   ]
  },
  {
   "cell_type": "code",
   "execution_count": 65,
   "id": "24ab04bd",
   "metadata": {
    "ExecuteTime": {
     "end_time": "2025-03-23T10:34:20.536431Z",
     "start_time": "2025-03-23T10:34:20.523067Z"
    }
   },
   "outputs": [],
   "source": [
    "def calculate_psi(expected, actual, bins=10, epsilon=1e-6):\n",
    "    # Разбиваем данные на бины\n",
    "    breakpoints = np.histogram_bin_edges(expected, bins=bins)\n",
    "    expected_counts, _ = np.histogram(expected, bins=breakpoints)\n",
    "    actual_counts, _ = np.histogram(actual, bins=breakpoints)\n",
    "    \n",
    "    # Добавляем epsilon, чтобы избежать деления на ноль\n",
    "    expected_counts = expected_counts + epsilon\n",
    "    actual_counts = actual_counts + epsilon\n",
    "    \n",
    "    # Нормализуем до процентов\n",
    "    expected_percents = expected_counts / np.sum(expected_counts)\n",
    "    actual_percents = actual_counts / np.sum(actual_counts)\n",
    "    \n",
    "    # Рассчитываем PSI\n",
    "    psi = np.sum((actual_percents - expected_percents) * np.log(actual_percents / expected_percents))\n",
    "    \n",
    "    return psi\n",
    "\n",
    "def calculate_psi_for_dataframe(df_expected, df_actual, bins=10):\n",
    "    psi_results = {}\n",
    "\n",
    "    \n",
    "    for column in df_expected.columns:\n",
    "        expected = df_expected[column]\n",
    "        actual = df_actual[column]\n",
    "        psi_value = calculate_psi(expected, actual, bins=bins)\n",
    "        psi_results[column] = psi_value\n",
    "    \n",
    "    return psi_results"
   ]
  },
  {
   "cell_type": "code",
   "execution_count": 66,
   "id": "b62b1705",
   "metadata": {
    "ExecuteTime": {
     "end_time": "2025-03-23T10:34:20.920235Z",
     "start_time": "2025-03-23T10:34:20.538938Z"
    }
   },
   "outputs": [
    {
     "name": "stdout",
     "output_type": "stream",
     "text": [
      "PSI для признака CODE_GENDER: 0.0000\n",
      "PSI для признака FLAG_OWN_CAR: 0.0000\n",
      "PSI для признака FLAG_OWN_REALTY: 0.0000\n",
      "PSI для признака CNT_CHILDREN: 0.0000\n",
      "PSI для признака AMT_INCOME_TOTAL: 0.0001\n",
      "PSI для признака NAME_INCOME_TYPE: 0.0000\n",
      "PSI для признака NAME_EDUCATION_TYPE: 0.0000\n",
      "PSI для признака NAME_FAMILY_STATUS: 0.0001\n",
      "PSI для признака NAME_HOUSING_TYPE: 0.0000\n",
      "PSI для признака DAYS_BIRTH: 0.0001\n",
      "PSI для признака DAYS_EMPLOYED: 0.0001\n",
      "PSI для признака FLAG_WORK_PHONE: 0.0000\n",
      "PSI для признака FLAG_PHONE: 0.0000\n",
      "PSI для признака FLAG_EMAIL: 0.0000\n",
      "PSI для признака OCCUPATION_TYPE: 0.0002\n",
      "PSI для признака INCOME/AGE: 0.0001\n",
      "PSI для признака DAYS_BIRTH/DAYS_EMPLOYED: 0.0001\n"
     ]
    }
   ],
   "source": [
    "# Рассчитываем PSI для всех признаков\n",
    "psi_results = calculate_psi_for_dataframe(X_train_psi, X_test_psi, bins=10)\n",
    "\n",
    "# Выводим результаты\n",
    "for feature, psi in psi_results.items():\n",
    "    print(f\"PSI для признака {feature}: {psi:.4f}\")"
   ]
  },
  {
   "cell_type": "code",
   "execution_count": null,
   "id": "e23a3816",
   "metadata": {
    "ExecuteTime": {
     "end_time": "2025-03-23T09:16:00.415277Z",
     "start_time": "2025-03-23T09:16:00.402909Z"
    }
   },
   "outputs": [],
   "source": []
  },
  {
   "cell_type": "code",
   "execution_count": null,
   "id": "63f19e61",
   "metadata": {},
   "outputs": [],
   "source": []
  },
  {
   "cell_type": "code",
   "execution_count": null,
   "id": "5816c7f8",
   "metadata": {},
   "outputs": [],
   "source": []
  },
  {
   "cell_type": "markdown",
   "id": "19cc5093",
   "metadata": {},
   "source": [
    "# Обучение модели"
   ]
  },
  {
   "cell_type": "code",
   "execution_count": 67,
   "id": "942a0fef",
   "metadata": {
    "ExecuteTime": {
     "end_time": "2025-03-23T10:34:20.973440Z",
     "start_time": "2025-03-23T10:34:20.922680Z"
    }
   },
   "outputs": [],
   "source": [
    "X = df.loc[:, ~df.columns.isin(['ID', 'STATUS'])]\n",
    "y = df['STATUS']"
   ]
  },
  {
   "cell_type": "code",
   "execution_count": 68,
   "id": "7963c892",
   "metadata": {
    "ExecuteTime": {
     "end_time": "2025-03-23T10:34:22.284512Z",
     "start_time": "2025-03-23T10:34:20.976352Z"
    }
   },
   "outputs": [],
   "source": [
    "X_PCA = PCA(n_components=3).fit_transform(X)"
   ]
  },
  {
   "cell_type": "code",
   "execution_count": 69,
   "id": "d8952c90",
   "metadata": {
    "ExecuteTime": {
     "end_time": "2025-03-23T10:34:22.535237Z",
     "start_time": "2025-03-23T10:34:22.284778Z"
    }
   },
   "outputs": [],
   "source": [
    "# делим датасет на обучающую и тестовую выборки\n",
    "X_train, X_test, y_train, y_test = train_test_split(X_PCA, y, random_state=42, stratify=y)"
   ]
  },
  {
   "cell_type": "code",
   "execution_count": 70,
   "id": "cd91a830",
   "metadata": {
    "ExecuteTime": {
     "end_time": "2025-03-23T10:34:22.600944Z",
     "start_time": "2025-03-23T10:34:22.538242Z"
    }
   },
   "outputs": [],
   "source": [
    "# приводим данные к одной шкале\n",
    "mms = MinMaxScaler()\n",
    "X_scaled = mms.fit_transform(X_train)\n",
    "X_test_scaled = mms.transform(X_test)"
   ]
  },
  {
   "cell_type": "code",
   "execution_count": 71,
   "id": "b06a7b75",
   "metadata": {
    "ExecuteTime": {
     "end_time": "2025-03-23T10:34:22.770239Z",
     "start_time": "2025-03-23T10:34:22.603595Z"
    }
   },
   "outputs": [],
   "source": [
    "# делаем перебалансировку\n",
    "smote = SMOTE(random_state=42)\n",
    "X_balanced, y_balanced = smote.fit_resample(X_scaled, y_train)"
   ]
  },
  {
   "cell_type": "code",
   "execution_count": 72,
   "id": "753adac1",
   "metadata": {
    "ExecuteTime": {
     "end_time": "2025-03-23T10:34:28.242792Z",
     "start_time": "2025-03-23T10:34:22.772705Z"
    }
   },
   "outputs": [
    {
     "name": "stdout",
     "output_type": "stream",
     "text": [
      "[0.327117   0.32531714 0.3475659 ]\n"
     ]
    }
   ],
   "source": [
    "xgb = XGBClassifier(random_state = 42, n_estimators = 300)\n",
    "model = xgb.fit(X_balanced, y_balanced)\n",
    "xgb_prediction = xgb.predict(X_test_scaled)\n",
    "feature_importances = model.feature_importances_\n",
    "print(feature_importances)"
   ]
  },
  {
   "cell_type": "code",
   "execution_count": 73,
   "id": "0ba3df74",
   "metadata": {
    "ExecuteTime": {
     "end_time": "2025-03-23T10:34:29.514118Z",
     "start_time": "2025-03-23T10:34:28.244883Z"
    }
   },
   "outputs": [
    {
     "name": "stdout",
     "output_type": "stream",
     "text": [
      "xgb train score = 0.8923980789256905\n",
      "xgb test score = 0.9845595886637694\n"
     ]
    }
   ],
   "source": [
    "print(f\"xgb train score = {xgb.score(X_balanced, y_balanced)}\")\n",
    "print(f\"xgb test score = {xgb.score(X_test, y_test)}\")\n",
    "\n",
    "# xgb train score = 0.9126463304959429\n",
    "# xgb test score = 0.984406734267243"
   ]
  },
  {
   "cell_type": "code",
   "execution_count": 74,
   "id": "71516f88",
   "metadata": {
    "ExecuteTime": {
     "end_time": "2025-03-23T10:34:29.754870Z",
     "start_time": "2025-03-23T10:34:29.517120Z"
    }
   },
   "outputs": [
    {
     "name": "stdout",
     "output_type": "stream",
     "text": [
      "              precision    recall  f1-score   support\n",
      "\n",
      "           0       1.00      0.86      0.92    128678\n",
      "           1       0.08      0.75      0.14      2018\n",
      "\n",
      "    accuracy                           0.86    130696\n",
      "   macro avg       0.54      0.80      0.53    130696\n",
      "weighted avg       0.98      0.86      0.91    130696\n",
      "\n"
     ]
    }
   ],
   "source": [
    "print(classification_report(y_test, xgb_prediction)) #1 xgb\n",
    "\n",
    "#               precision    recall  f1-score   support\n",
    "\n",
    "#            0       1.00      0.86      0.92    128678\n",
    "#            1       0.08      0.75      0.14      2018\n",
    "\n",
    "#     accuracy                           0.86    130696\n",
    "#    macro avg       0.54      0.80      0.53    130696\n",
    "# weighted avg       0.98      0.86      0.91    130696"
   ]
  },
  {
   "cell_type": "code",
   "execution_count": 75,
   "id": "7b645a8f",
   "metadata": {
    "ExecuteTime": {
     "end_time": "2025-03-23T10:34:29.800178Z",
     "start_time": "2025-03-23T10:34:29.755884Z"
    }
   },
   "outputs": [
    {
     "name": "stdout",
     "output_type": "stream",
     "text": [
      "xgb AUC: 0.8043987796244838\n",
      "xgb Gini: 0.6087975592489676\n"
     ]
    }
   ],
   "source": [
    "# Вычисляем AUC\n",
    "auc = roc_auc_score(y_test, xgb_prediction)\n",
    "\n",
    "# Вычисляем коэффициент Джини\n",
    "gini = 2 * auc - 1\n",
    "print(f\"xgb AUC: {auc}\")\n",
    "print(f\"xgb Gini: {gini}\")\n",
    "\n",
    "# xgb AUC: 0.8043987796244838\n",
    "# xgb Gini: 0.6087975592489676"
   ]
  },
  {
   "cell_type": "code",
   "execution_count": 76,
   "id": "89546e6b",
   "metadata": {
    "ExecuteTime": {
     "end_time": "2025-03-23T10:34:29.851804Z",
     "start_time": "2025-03-23T10:34:29.802298Z"
    }
   },
   "outputs": [
    {
     "name": "stdout",
     "output_type": "stream",
     "text": [
      "Confusion Matrix:\n",
      " [[110604  18074]\n",
      " [   506   1512]]\n"
     ]
    }
   ],
   "source": [
    "cm = confusion_matrix(y_test, xgb_prediction)\n",
    "print(\"Confusion Matrix:\\n\", cm)\n",
    "\n",
    "# Confusion Matrix:\n",
    "#  [[110604  18074]\n",
    "#  [   506   1512]]"
   ]
  },
  {
   "cell_type": "code",
   "execution_count": null,
   "id": "2a5d99ac",
   "metadata": {},
   "outputs": [],
   "source": []
  },
  {
   "cell_type": "code",
   "execution_count": null,
   "id": "9b542095",
   "metadata": {},
   "outputs": [],
   "source": []
  },
  {
   "cell_type": "code",
   "execution_count": null,
   "id": "d9d824f2",
   "metadata": {},
   "outputs": [],
   "source": []
  },
  {
   "cell_type": "code",
   "execution_count": null,
   "id": "14e1a8a1",
   "metadata": {
    "ExecuteTime": {
     "end_time": "2025-03-23T07:40:53.231907Z",
     "start_time": "2025-03-23T07:40:53.231907Z"
    }
   },
   "outputs": [],
   "source": []
  },
  {
   "cell_type": "code",
   "execution_count": null,
   "id": "e78cce3d",
   "metadata": {
    "ExecuteTime": {
     "end_time": "2025-03-23T07:40:53.237626Z",
     "start_time": "2025-03-23T07:40:53.237626Z"
    }
   },
   "outputs": [],
   "source": []
  },
  {
   "cell_type": "code",
   "execution_count": null,
   "id": "cb2fb8ac",
   "metadata": {
    "ExecuteTime": {
     "end_time": "2025-03-23T08:21:15.738039Z",
     "start_time": "2025-03-23T08:21:15.723547Z"
    }
   },
   "outputs": [],
   "source": []
  },
  {
   "cell_type": "code",
   "execution_count": 77,
   "id": "089046bb",
   "metadata": {
    "ExecuteTime": {
     "end_time": "2025-03-23T10:34:29.860006Z",
     "start_time": "2025-03-23T10:34:29.855556Z"
    }
   },
   "outputs": [],
   "source": [
    "# object_type = pd.DataFrame(df.dtypes =='object').reset_index()\n",
    "# object_type = object_type[object_type[0] == True]['index']\n",
    "# object_type"
   ]
  },
  {
   "cell_type": "code",
   "execution_count": 78,
   "id": "695466dc",
   "metadata": {
    "ExecuteTime": {
     "end_time": "2025-03-23T10:34:29.874241Z",
     "start_time": "2025-03-23T10:34:29.862016Z"
    }
   },
   "outputs": [],
   "source": [
    "# df['FLAG_OWN_CAR'].value_counts() # binary encoder"
   ]
  },
  {
   "cell_type": "code",
   "execution_count": 79,
   "id": "c5d58726",
   "metadata": {
    "ExecuteTime": {
     "end_time": "2025-03-23T10:34:29.886049Z",
     "start_time": "2025-03-23T10:34:29.874241Z"
    }
   },
   "outputs": [],
   "source": [
    "# df['FLAG_OWN_REALTY'].value_counts()"
   ]
  },
  {
   "cell_type": "code",
   "execution_count": 80,
   "id": "bcbded23",
   "metadata": {
    "ExecuteTime": {
     "end_time": "2025-03-23T10:34:29.902724Z",
     "start_time": "2025-03-23T10:34:29.890314Z"
    }
   },
   "outputs": [],
   "source": [
    "# df['NAME_INCOME_TYPE'].value_counts() # не все значения одинаково часто встречаются, TargetEncoding не подойдет, но порядковый - LabelEncoding"
   ]
  },
  {
   "cell_type": "code",
   "execution_count": 81,
   "id": "69fdc40b",
   "metadata": {
    "ExecuteTime": {
     "end_time": "2025-03-23T10:34:29.919368Z",
     "start_time": "2025-03-23T10:34:29.906296Z"
    }
   },
   "outputs": [],
   "source": [
    "# df['NAME_HOUSING_TYPE'].value_counts() # не все значения одинаково часто встречаются, target encoding не подойдет -> BinaryEncoding"
   ]
  },
  {
   "cell_type": "code",
   "execution_count": 82,
   "id": "34cdca3f",
   "metadata": {
    "ExecuteTime": {
     "end_time": "2025-03-23T10:34:29.936120Z",
     "start_time": "2025-03-23T10:34:29.923441Z"
    }
   },
   "outputs": [],
   "source": [
    "# mean_encoding = df.groupby('NAME_FAMILY_STATUS')['STATUS'].mean()\n",
    "# df['NAME_FAMILY_STATUS'] = df['NAME_FAMILY_STATUS'].map(mean_encoding)"
   ]
  },
  {
   "cell_type": "code",
   "execution_count": 83,
   "id": "110685a7",
   "metadata": {
    "ExecuteTime": {
     "end_time": "2025-03-23T10:34:29.955859Z",
     "start_time": "2025-03-23T10:34:29.940238Z"
    }
   },
   "outputs": [],
   "source": [
    "# encoder = BinaryEncoder(cols=['DAYS_BIRTH'])\n",
    "# df = encoder.fit_transform(df)"
   ]
  },
  {
   "cell_type": "code",
   "execution_count": null,
   "id": "3563a651",
   "metadata": {
    "ExecuteTime": {
     "end_time": "2025-03-23T08:41:55.670124Z",
     "start_time": "2025-03-23T08:41:55.657489Z"
    }
   },
   "outputs": [],
   "source": []
  },
  {
   "cell_type": "code",
   "execution_count": null,
   "id": "e92caade",
   "metadata": {
    "ExecuteTime": {
     "end_time": "2025-03-23T09:05:42.258060Z",
     "start_time": "2025-03-23T09:05:42.254081Z"
    }
   },
   "outputs": [],
   "source": []
  },
  {
   "cell_type": "code",
   "execution_count": null,
   "id": "b1f42d3f",
   "metadata": {
    "ExecuteTime": {
     "end_time": "2025-03-23T09:05:42.269714Z",
     "start_time": "2025-03-23T09:05:42.258790Z"
    }
   },
   "outputs": [],
   "source": []
  },
  {
   "cell_type": "code",
   "execution_count": 84,
   "id": "b959b60e",
   "metadata": {
    "ExecuteTime": {
     "end_time": "2025-03-23T10:34:29.972890Z",
     "start_time": "2025-03-23T10:34:29.957292Z"
    }
   },
   "outputs": [],
   "source": [
    "# classifiers = {\n",
    "#     \"LogisticRegression\" : LogisticRegression(max_iter=1000),\n",
    "#     \"KNeighbors\" : KNeighborsClassifier(),\n",
    "#     \"SVC\" : SVC(),\n",
    "#     \"DecisionTree\" : DecisionTreeClassifier(),\n",
    "#     \"RandomForest\" : RandomForestClassifier(),\n",
    "#     \"XGBoost\" : XGBClassifier()\n",
    "# }"
   ]
  },
  {
   "cell_type": "code",
   "execution_count": 85,
   "id": "d2ca2a8f",
   "metadata": {
    "ExecuteTime": {
     "end_time": "2025-03-23T10:34:29.988122Z",
     "start_time": "2025-03-23T10:34:29.972890Z"
    }
   },
   "outputs": [],
   "source": [
    "# train_scores = []\n",
    "# test_scores = []\n",
    "\n",
    "# for key, classifier in classifiers.items():\n",
    "#     classifier.fit(X_balanced, y_balanced)\n",
    "#     train_score = classifier.score(X_balanced, y_balanced)\n",
    "#     train_scores.append(train_score)\n",
    "#     test_score = classifier.score(X_test, y_test)\n",
    "#     test_scores.append(test_score)\n",
    "\n",
    "# print(train_scores)\n",
    "# print(test_scores)"
   ]
  },
  {
   "cell_type": "code",
   "execution_count": null,
   "id": "f179622c",
   "metadata": {
    "ExecuteTime": {
     "end_time": "2025-03-23T07:16:19.119238Z",
     "start_time": "2025-03-23T07:16:19.106227Z"
    }
   },
   "outputs": [],
   "source": []
  },
  {
   "cell_type": "code",
   "execution_count": 86,
   "id": "97081957",
   "metadata": {
    "ExecuteTime": {
     "end_time": "2025-03-23T10:34:30.005738Z",
     "start_time": "2025-03-23T10:34:29.989962Z"
    }
   },
   "outputs": [],
   "source": [
    "# import shap\n",
    "\n",
    "# # Создание explainer\n",
    "# explainer = shap.TreeExplainer(model)\n",
    "# shap_values = explainer.shap_values(X_balanced)\n",
    "\n",
    "# # Визуализация значимости признаков\n",
    "# shap.summary_plot(shap_values, X_balanced, feature_names=X_balanced.columns)"
   ]
  },
  {
   "cell_type": "code",
   "execution_count": 87,
   "id": "e94520f4",
   "metadata": {
    "ExecuteTime": {
     "end_time": "2025-03-23T10:34:30.019560Z",
     "start_time": "2025-03-23T10:34:30.006677Z"
    }
   },
   "outputs": [],
   "source": [
    "# explainer = shap.TreeExplainer(model)\n",
    "# shap_values = explainer(X_balanced)\n",
    "# shap.plots.waterfall(shap_values[0])"
   ]
  },
  {
   "cell_type": "code",
   "execution_count": 88,
   "id": "5bfd3dcc",
   "metadata": {
    "ExecuteTime": {
     "end_time": "2025-03-23T10:34:30.036008Z",
     "start_time": "2025-03-23T10:34:30.023969Z"
    }
   },
   "outputs": [],
   "source": [
    "# explainer = shap.TreeExplainer(model)\n",
    "# shap_values = explainer(X_balanced)\n",
    "# shap.plots.waterfall(shap_values[1])"
   ]
  },
  {
   "cell_type": "code",
   "execution_count": 89,
   "id": "19eec55f",
   "metadata": {
    "ExecuteTime": {
     "end_time": "2025-03-23T10:34:30.052648Z",
     "start_time": "2025-03-23T10:34:30.038060Z"
    }
   },
   "outputs": [],
   "source": [
    "# shap.plots.bar(shap_values)"
   ]
  },
  {
   "cell_type": "code",
   "execution_count": 90,
   "id": "0294eebc",
   "metadata": {
    "ExecuteTime": {
     "end_time": "2025-03-23T10:34:30.069425Z",
     "start_time": "2025-03-23T10:34:30.054676Z"
    }
   },
   "outputs": [],
   "source": [
    "# logreg = LogisticRegression(max_iter=1000)\n",
    "# model = logreg.fit(X_balanced, y_balanced)\n",
    "# train_score = logreg.score(X_balanced, y_balanced)\n",
    "# test_score = logreg.score(X_test, y_test)\n",
    "# logreg_prediction = logreg.predict(X_test)\n",
    "\n",
    "# print(f\"logreg train score = {train_score}\")\n",
    "# print(f\"logreg test score = {test_score}\")"
   ]
  },
  {
   "cell_type": "code",
   "execution_count": 91,
   "id": "0f2c64e9",
   "metadata": {
    "ExecuteTime": {
     "end_time": "2025-03-23T10:34:30.089246Z",
     "start_time": "2025-03-23T10:34:30.073638Z"
    }
   },
   "outputs": [],
   "source": [
    "# print(classification_report(y_test, logreg_prediction)) #logreg"
   ]
  },
  {
   "cell_type": "code",
   "execution_count": 92,
   "id": "84d81a11",
   "metadata": {
    "ExecuteTime": {
     "end_time": "2025-03-23T10:34:30.102722Z",
     "start_time": "2025-03-23T10:34:30.090224Z"
    }
   },
   "outputs": [],
   "source": [
    "# # Вычисляем AUC\n",
    "# auc = roc_auc_score(y_test, logreg_prediction)\n",
    "\n",
    "# # Вычисляем коэффициент Джини\n",
    "# gini = 2 * auc - 1\n",
    "# print(f\"logreg AUC: {auc}\")\n",
    "# print(f\"logreg Gini: {gini}\")"
   ]
  },
  {
   "cell_type": "code",
   "execution_count": null,
   "id": "f0cbff70",
   "metadata": {},
   "outputs": [],
   "source": []
  },
  {
   "cell_type": "code",
   "execution_count": null,
   "id": "0a4d102d",
   "metadata": {},
   "outputs": [],
   "source": []
  },
  {
   "cell_type": "code",
   "execution_count": null,
   "id": "c0061f37",
   "metadata": {},
   "outputs": [],
   "source": []
  }
 ],
 "metadata": {
  "kernelspec": {
   "display_name": "Python 3 (ipykernel)",
   "language": "python",
   "name": "python3"
  },
  "language_info": {
   "codemirror_mode": {
    "name": "ipython",
    "version": 3
   },
   "file_extension": ".py",
   "mimetype": "text/x-python",
   "name": "python",
   "nbconvert_exporter": "python",
   "pygments_lexer": "ipython3",
   "version": "3.9.12"
  },
  "toc": {
   "base_numbering": 1,
   "nav_menu": {},
   "number_sections": true,
   "sideBar": true,
   "skip_h1_title": false,
   "title_cell": "Table of Contents",
   "title_sidebar": "Contents",
   "toc_cell": false,
   "toc_position": {},
   "toc_section_display": true,
   "toc_window_display": false
  }
 },
 "nbformat": 4,
 "nbformat_minor": 5
}
