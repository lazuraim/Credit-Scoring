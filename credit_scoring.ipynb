{
 "cells": [
  {
   "cell_type": "code",
   "execution_count": 486,
   "id": "1f8f695e",
   "metadata": {
    "ExecuteTime": {
     "end_time": "2025-03-23T07:16:02.266380Z",
     "start_time": "2025-03-23T07:16:02.253395Z"
    }
   },
   "outputs": [],
   "source": [
    "import pandas as pd\n",
    "import numpy as np\n",
    "import seaborn as sns\n",
    "import matplotlib.pyplot as plt\n",
    "\n",
    "from imblearn.over_sampling import SMOTE, ADASYN\n",
    "from sklearn.model_selection import train_test_split\n",
    "from sklearn.linear_model import LogisticRegression\n",
    "from sklearn.neighbors import KNeighborsClassifier\n",
    "from sklearn.svm import SVC\n",
    "from sklearn.tree import DecisionTreeClassifier\n",
    "from sklearn.ensemble import RandomForestClassifier\n",
    "from xgboost import XGBClassifier\n",
    "from sklearn.metrics import accuracy_score, classification_report, confusion_matrix\n",
    "from sklearn.preprocessing import LabelEncoder\n",
    "from category_encoders import BinaryEncoder\n",
    "from sklearn.preprocessing import RobustScaler, MinMaxScaler\n",
    "from scipy.stats import pearsonr, spearmanr, chi2_contingency\n",
    "from sklearn.metrics import roc_auc_score\n",
    "from scipy.stats import zscore\n",
    "\n",
    "from sklearn.decomposition import PCA\n",
    "\n",
    "from sklearn.metrics import classification_report"
   ]
  },
  {
   "cell_type": "code",
   "execution_count": 487,
   "id": "56a6bafd",
   "metadata": {
    "ExecuteTime": {
     "end_time": "2025-03-23T07:16:02.284027Z",
     "start_time": "2025-03-23T07:16:02.270027Z"
    }
   },
   "outputs": [],
   "source": [
    "# Примерный пайплайн:\n",
    "# 1) Считываем данные\n",
    "# 2) Убираем null и лишние поля\n",
    "# 3) Мерджим датафреймы\n",
    "# 4) Кодирование категориальных признаков\n",
    "# 5) опционально - посмотреть корреляцию, убрать лишние признаки\n",
    "# 6) Масштабирование\n",
    "# 7) Балансирование классов SMOTE\n",
    "# 8) Кfold \n",
    "# 9) Обучение модели\n",
    "# 10) Валидация результатов\n",
    "\n",
    "# сначала базово попробовать настроить нормальный ROC-AUC\n",
    "\n",
    "# + PCA, регуляризация(???), генерация признаков и PSI"
   ]
  },
  {
   "cell_type": "code",
   "execution_count": null,
   "id": "c5b51d70",
   "metadata": {},
   "outputs": [],
   "source": []
  },
  {
   "cell_type": "code",
   "execution_count": 488,
   "id": "f18ed17d",
   "metadata": {
    "ExecuteTime": {
     "end_time": "2025-03-23T07:16:03.741584Z",
     "start_time": "2025-03-23T07:16:02.285769Z"
    }
   },
   "outputs": [],
   "source": [
    "ar = pd.read_csv('data/application_record.zip', compression='zip')\n",
    "cr = pd.read_csv('data/credit_record.zip', compression='zip')"
   ]
  },
  {
   "cell_type": "code",
   "execution_count": 489,
   "id": "2bda785c",
   "metadata": {
    "ExecuteTime": {
     "end_time": "2025-03-23T07:16:03.751860Z",
     "start_time": "2025-03-23T07:16:03.741584Z"
    }
   },
   "outputs": [],
   "source": [
    "# общая информация о датасете\n",
    "# ar.info()"
   ]
  },
  {
   "cell_type": "code",
   "execution_count": 490,
   "id": "16c6e42b",
   "metadata": {
    "ExecuteTime": {
     "end_time": "2025-03-23T07:16:03.768204Z",
     "start_time": "2025-03-23T07:16:03.754083Z"
    }
   },
   "outputs": [],
   "source": [
    "# количество уникальных ID (при общем количестве 438 557)\n",
    "# ar['ID'].nunique()"
   ]
  },
  {
   "cell_type": "code",
   "execution_count": 491,
   "id": "14e1a8a1",
   "metadata": {
    "ExecuteTime": {
     "end_time": "2025-03-23T07:16:03.784828Z",
     "start_time": "2025-03-23T07:16:03.772181Z"
    }
   },
   "outputs": [],
   "source": [
    "# избавляемся от дубликатов в исходном датафрейме\n",
    "# ar.drop_duplicates('ID', keep='last', inplace=True)\n",
    "# ar.shape"
   ]
  },
  {
   "cell_type": "code",
   "execution_count": 492,
   "id": "d533e86e",
   "metadata": {
    "ExecuteTime": {
     "end_time": "2025-03-23T07:16:03.802047Z",
     "start_time": "2025-03-23T07:16:03.788245Z"
    }
   },
   "outputs": [],
   "source": [
    "# общая информация о датасете, содержащем данные о просрочках по кредиту\n",
    "# cr.info()"
   ]
  },
  {
   "cell_type": "code",
   "execution_count": 493,
   "id": "d4a60ba6",
   "metadata": {
    "ExecuteTime": {
     "end_time": "2025-03-23T07:16:03.820462Z",
     "start_time": "2025-03-23T07:16:03.804863Z"
    }
   },
   "outputs": [],
   "source": [
    "# количество уникальных ID\n",
    "# cr['ID'].unique().size"
   ]
  },
  {
   "cell_type": "code",
   "execution_count": 494,
   "id": "df0f34c1",
   "metadata": {
    "ExecuteTime": {
     "end_time": "2025-03-23T07:16:03.838017Z",
     "start_time": "2025-03-23T07:16:03.822051Z"
    }
   },
   "outputs": [],
   "source": [
    "# смотрим по каким признакам есть нулевые значения\n",
    "# ar.isnull().sum()"
   ]
  },
  {
   "cell_type": "code",
   "execution_count": 495,
   "id": "e78cce3d",
   "metadata": {
    "ExecuteTime": {
     "end_time": "2025-03-23T07:16:03.852018Z",
     "start_time": "2025-03-23T07:16:03.838622Z"
    }
   },
   "outputs": [],
   "source": [
    "# проверяем наличие нулевых значений с помощью визуализации\n",
    "# sns.heatmap(ar.isnull())"
   ]
  },
  {
   "cell_type": "code",
   "execution_count": 496,
   "id": "63e1d5c0",
   "metadata": {
    "ExecuteTime": {
     "end_time": "2025-03-23T07:16:03.868548Z",
     "start_time": "2025-03-23T07:16:03.855777Z"
    }
   },
   "outputs": [],
   "source": [
    "# слишком много пропущенных значений в поле OCCUPATION_TYPE, избавляемся от него\n",
    "# ar.drop('OCCUPATION_TYPE', axis=1, inplace=True)\n"
   ]
  },
  {
   "cell_type": "code",
   "execution_count": 497,
   "id": "90bae77b",
   "metadata": {
    "ExecuteTime": {
     "end_time": "2025-03-23T07:16:03.885256Z",
     "start_time": "2025-03-23T07:16:03.871861Z"
    }
   },
   "outputs": [],
   "source": [
    "# проверяем наличие нулевых значений с помощью визуализации\n",
    "# sns.heatmap(ar.isnull())"
   ]
  },
  {
   "cell_type": "code",
   "execution_count": 498,
   "id": "0b1d22e9",
   "metadata": {
    "ExecuteTime": {
     "end_time": "2025-03-23T07:16:03.901805Z",
     "start_time": "2025-03-23T07:16:03.888989Z"
    }
   },
   "outputs": [],
   "source": [
    "# # проверяем наличие нулевых значений с помощью визуализации\n",
    "# sns.heatmap(cr.isnull())"
   ]
  },
  {
   "cell_type": "code",
   "execution_count": 499,
   "id": "cb2fb8ac",
   "metadata": {
    "ExecuteTime": {
     "end_time": "2025-03-23T07:16:03.918525Z",
     "start_time": "2025-03-23T07:16:03.905871Z"
    }
   },
   "outputs": [],
   "source": [
    "# variances = ar.select_dtypes(include=['number']).var()\n",
    "# print(\"Дисперсия признаков:\\n\", variances)"
   ]
  },
  {
   "cell_type": "code",
   "execution_count": 500,
   "id": "a9071efe",
   "metadata": {
    "ExecuteTime": {
     "end_time": "2025-03-23T07:16:03.935347Z",
     "start_time": "2025-03-23T07:16:03.921581Z"
    }
   },
   "outputs": [],
   "source": [
    "# очень низкая дисперсия, избавляемся от него\n",
    "# ar.drop('FLAG_MOBIL', axis=1, inplace=True)"
   ]
  },
  {
   "cell_type": "code",
   "execution_count": 501,
   "id": "ca336322",
   "metadata": {
    "ExecuteTime": {
     "end_time": "2025-03-23T07:16:03.983944Z",
     "start_time": "2025-03-23T07:16:03.938906Z"
    }
   },
   "outputs": [],
   "source": [
    "cr.drop('MONTHS_BALANCE', axis=1, inplace=True)"
   ]
  },
  {
   "cell_type": "code",
   "execution_count": 502,
   "id": "3fa83fc2",
   "metadata": {
    "ExecuteTime": {
     "end_time": "2025-03-23T07:16:04.068883Z",
     "start_time": "2025-03-23T07:16:03.988078Z"
    }
   },
   "outputs": [
    {
     "data": {
      "text/plain": [
       "C    442031\n",
       "0    383120\n",
       "X    209230\n",
       "1     11090\n",
       "5      1693\n",
       "2       868\n",
       "3       320\n",
       "4       223\n",
       "Name: STATUS, dtype: int64"
      ]
     },
     "execution_count": 502,
     "metadata": {},
     "output_type": "execute_result"
    }
   ],
   "source": [
    "cr['STATUS'].value_counts() "
   ]
  },
  {
   "cell_type": "markdown",
   "id": "7f135a4e",
   "metadata": {},
   "source": [
    "- **0:** 1-29 days past due \n",
    "- **1:** 30-59 days past due \n",
    "- **2:** 60-89 days overdue \n",
    "- **3:** 90-119 days overdue \n",
    "- **4:** 120-149 days overdue \n",
    "- **5:** Overdue or bad debts, write-offs for more than 150 days \n",
    "- **C:** paid off that month \n",
    "- **X:** No loan for the month"
   ]
  },
  {
   "cell_type": "code",
   "execution_count": 503,
   "id": "27ef76cd",
   "metadata": {
    "ExecuteTime": {
     "end_time": "2025-03-23T07:16:04.725394Z",
     "start_time": "2025-03-23T07:16:04.071014Z"
    }
   },
   "outputs": [
    {
     "data": {
      "text/plain": [
       "0    1034381\n",
       "1      14194\n",
       "Name: STATUS, dtype: int64"
      ]
     },
     "execution_count": 503,
     "metadata": {},
     "output_type": "execute_result"
    }
   ],
   "source": [
    "cr['STATUS'] = cr['STATUS'].replace({'C' : 0, 'X' : 0})\n",
    "cr['STATUS'] = cr['STATUS'].astype(int)\n",
    "cr['STATUS'] = cr['STATUS'].apply(lambda x: 1 if x >= 1 else 0)\n",
    "cr['STATUS'].value_counts() "
   ]
  },
  {
   "cell_type": "code",
   "execution_count": 504,
   "id": "0a7824d7",
   "metadata": {
    "ExecuteTime": {
     "end_time": "2025-03-23T07:16:05.035188Z",
     "start_time": "2025-03-23T07:16:04.728408Z"
    }
   },
   "outputs": [
    {
     "data": {
      "text/html": [
       "<div>\n",
       "<style scoped>\n",
       "    .dataframe tbody tr th:only-of-type {\n",
       "        vertical-align: middle;\n",
       "    }\n",
       "\n",
       "    .dataframe tbody tr th {\n",
       "        vertical-align: top;\n",
       "    }\n",
       "\n",
       "    .dataframe thead th {\n",
       "        text-align: right;\n",
       "    }\n",
       "</style>\n",
       "<table border=\"1\" class=\"dataframe\">\n",
       "  <thead>\n",
       "    <tr style=\"text-align: right;\">\n",
       "      <th></th>\n",
       "      <th>ID</th>\n",
       "      <th>CODE_GENDER</th>\n",
       "      <th>FLAG_OWN_CAR</th>\n",
       "      <th>FLAG_OWN_REALTY</th>\n",
       "      <th>CNT_CHILDREN</th>\n",
       "      <th>AMT_INCOME_TOTAL</th>\n",
       "      <th>NAME_INCOME_TYPE</th>\n",
       "      <th>NAME_EDUCATION_TYPE</th>\n",
       "      <th>NAME_FAMILY_STATUS</th>\n",
       "      <th>NAME_HOUSING_TYPE</th>\n",
       "      <th>DAYS_BIRTH</th>\n",
       "      <th>DAYS_EMPLOYED</th>\n",
       "      <th>FLAG_MOBIL</th>\n",
       "      <th>FLAG_WORK_PHONE</th>\n",
       "      <th>FLAG_PHONE</th>\n",
       "      <th>FLAG_EMAIL</th>\n",
       "      <th>OCCUPATION_TYPE</th>\n",
       "      <th>CNT_FAM_MEMBERS</th>\n",
       "      <th>STATUS</th>\n",
       "    </tr>\n",
       "  </thead>\n",
       "  <tbody>\n",
       "    <tr>\n",
       "      <th>0</th>\n",
       "      <td>5008804</td>\n",
       "      <td>M</td>\n",
       "      <td>Y</td>\n",
       "      <td>Y</td>\n",
       "      <td>0</td>\n",
       "      <td>427500.0</td>\n",
       "      <td>Working</td>\n",
       "      <td>Higher education</td>\n",
       "      <td>Civil marriage</td>\n",
       "      <td>Rented apartment</td>\n",
       "      <td>-12005</td>\n",
       "      <td>-4542</td>\n",
       "      <td>1</td>\n",
       "      <td>1</td>\n",
       "      <td>0</td>\n",
       "      <td>0</td>\n",
       "      <td>NaN</td>\n",
       "      <td>2.0</td>\n",
       "      <td>0</td>\n",
       "    </tr>\n",
       "    <tr>\n",
       "      <th>0</th>\n",
       "      <td>5008804</td>\n",
       "      <td>M</td>\n",
       "      <td>Y</td>\n",
       "      <td>Y</td>\n",
       "      <td>0</td>\n",
       "      <td>427500.0</td>\n",
       "      <td>Working</td>\n",
       "      <td>Higher education</td>\n",
       "      <td>Civil marriage</td>\n",
       "      <td>Rented apartment</td>\n",
       "      <td>-12005</td>\n",
       "      <td>-4542</td>\n",
       "      <td>1</td>\n",
       "      <td>1</td>\n",
       "      <td>0</td>\n",
       "      <td>0</td>\n",
       "      <td>NaN</td>\n",
       "      <td>2.0</td>\n",
       "      <td>0</td>\n",
       "    </tr>\n",
       "    <tr>\n",
       "      <th>0</th>\n",
       "      <td>5008804</td>\n",
       "      <td>M</td>\n",
       "      <td>Y</td>\n",
       "      <td>Y</td>\n",
       "      <td>0</td>\n",
       "      <td>427500.0</td>\n",
       "      <td>Working</td>\n",
       "      <td>Higher education</td>\n",
       "      <td>Civil marriage</td>\n",
       "      <td>Rented apartment</td>\n",
       "      <td>-12005</td>\n",
       "      <td>-4542</td>\n",
       "      <td>1</td>\n",
       "      <td>1</td>\n",
       "      <td>0</td>\n",
       "      <td>0</td>\n",
       "      <td>NaN</td>\n",
       "      <td>2.0</td>\n",
       "      <td>0</td>\n",
       "    </tr>\n",
       "    <tr>\n",
       "      <th>0</th>\n",
       "      <td>5008804</td>\n",
       "      <td>M</td>\n",
       "      <td>Y</td>\n",
       "      <td>Y</td>\n",
       "      <td>0</td>\n",
       "      <td>427500.0</td>\n",
       "      <td>Working</td>\n",
       "      <td>Higher education</td>\n",
       "      <td>Civil marriage</td>\n",
       "      <td>Rented apartment</td>\n",
       "      <td>-12005</td>\n",
       "      <td>-4542</td>\n",
       "      <td>1</td>\n",
       "      <td>1</td>\n",
       "      <td>0</td>\n",
       "      <td>0</td>\n",
       "      <td>NaN</td>\n",
       "      <td>2.0</td>\n",
       "      <td>0</td>\n",
       "    </tr>\n",
       "    <tr>\n",
       "      <th>0</th>\n",
       "      <td>5008804</td>\n",
       "      <td>M</td>\n",
       "      <td>Y</td>\n",
       "      <td>Y</td>\n",
       "      <td>0</td>\n",
       "      <td>427500.0</td>\n",
       "      <td>Working</td>\n",
       "      <td>Higher education</td>\n",
       "      <td>Civil marriage</td>\n",
       "      <td>Rented apartment</td>\n",
       "      <td>-12005</td>\n",
       "      <td>-4542</td>\n",
       "      <td>1</td>\n",
       "      <td>1</td>\n",
       "      <td>0</td>\n",
       "      <td>0</td>\n",
       "      <td>NaN</td>\n",
       "      <td>2.0</td>\n",
       "      <td>0</td>\n",
       "    </tr>\n",
       "  </tbody>\n",
       "</table>\n",
       "</div>"
      ],
      "text/plain": [
       "        ID CODE_GENDER FLAG_OWN_CAR FLAG_OWN_REALTY  CNT_CHILDREN  \\\n",
       "0  5008804           M            Y               Y             0   \n",
       "0  5008804           M            Y               Y             0   \n",
       "0  5008804           M            Y               Y             0   \n",
       "0  5008804           M            Y               Y             0   \n",
       "0  5008804           M            Y               Y             0   \n",
       "\n",
       "   AMT_INCOME_TOTAL NAME_INCOME_TYPE NAME_EDUCATION_TYPE NAME_FAMILY_STATUS  \\\n",
       "0          427500.0          Working    Higher education     Civil marriage   \n",
       "0          427500.0          Working    Higher education     Civil marriage   \n",
       "0          427500.0          Working    Higher education     Civil marriage   \n",
       "0          427500.0          Working    Higher education     Civil marriage   \n",
       "0          427500.0          Working    Higher education     Civil marriage   \n",
       "\n",
       "  NAME_HOUSING_TYPE  DAYS_BIRTH  DAYS_EMPLOYED  FLAG_MOBIL  FLAG_WORK_PHONE  \\\n",
       "0  Rented apartment      -12005          -4542           1                1   \n",
       "0  Rented apartment      -12005          -4542           1                1   \n",
       "0  Rented apartment      -12005          -4542           1                1   \n",
       "0  Rented apartment      -12005          -4542           1                1   \n",
       "0  Rented apartment      -12005          -4542           1                1   \n",
       "\n",
       "   FLAG_PHONE  FLAG_EMAIL OCCUPATION_TYPE  CNT_FAM_MEMBERS  STATUS  \n",
       "0           0           0             NaN              2.0       0  \n",
       "0           0           0             NaN              2.0       0  \n",
       "0           0           0             NaN              2.0       0  \n",
       "0           0           0             NaN              2.0       0  \n",
       "0           0           0             NaN              2.0       0  "
      ]
     },
     "execution_count": 504,
     "metadata": {},
     "output_type": "execute_result"
    }
   ],
   "source": [
    "df = ar.join(cr.set_index('ID'), on='ID', how='inner')\n",
    "df.head()"
   ]
  },
  {
   "cell_type": "code",
   "execution_count": 505,
   "id": "35823afa",
   "metadata": {
    "ExecuteTime": {
     "end_time": "2025-03-23T07:16:06.256397Z",
     "start_time": "2025-03-23T07:16:05.038357Z"
    }
   },
   "outputs": [],
   "source": [
    "df.dropna(axis=0, inplace=True)"
   ]
  },
  {
   "cell_type": "code",
   "execution_count": 506,
   "id": "3edbfcf9",
   "metadata": {
    "ExecuteTime": {
     "end_time": "2025-03-23T07:16:06.262949Z",
     "start_time": "2025-03-23T07:16:06.259405Z"
    }
   },
   "outputs": [],
   "source": [
    "# # убираем поле с информацией о дате просрочки, оставляем только таргет\n",
    "# cr = cr.groupby('ID').agg(max).reset_index()\n",
    "# cr.drop('MONTHS_BALANCE', axis=1, inplace=True)\n",
    "# cr"
   ]
  },
  {
   "cell_type": "code",
   "execution_count": 507,
   "id": "ef8f1e20",
   "metadata": {
    "ExecuteTime": {
     "end_time": "2025-03-23T07:16:06.283599Z",
     "start_time": "2025-03-23T07:16:06.264970Z"
    }
   },
   "outputs": [],
   "source": [
    "# # объединяем в итоговом датафрейме признаки с таргетом\n",
    "# df = ar.join(cr.set_index('ID'), on='ID', how='inner')\n",
    "# df.head()"
   ]
  },
  {
   "cell_type": "code",
   "execution_count": 508,
   "id": "22d23dfc",
   "metadata": {
    "ExecuteTime": {
     "end_time": "2025-03-23T07:16:06.301648Z",
     "start_time": "2025-03-23T07:16:06.286161Z"
    }
   },
   "outputs": [],
   "source": [
    "# Вставляем доп.признак с количеством дней просрочки на предпоследнюю позицию\n",
    "# df.insert(len(df.columns) - 1, 'OVERDUE', df['STATUS'])\n",
    "\n",
    "# df['OVERDUE'].value_counts()"
   ]
  },
  {
   "cell_type": "code",
   "execution_count": 509,
   "id": "9bd8aaab",
   "metadata": {
    "ExecuteTime": {
     "end_time": "2025-03-23T07:16:06.318520Z",
     "start_time": "2025-03-23T07:16:06.304655Z"
    }
   },
   "outputs": [],
   "source": [
    "# df['STATUS'].value_counts() "
   ]
  },
  {
   "cell_type": "code",
   "execution_count": 510,
   "id": "f39c857b",
   "metadata": {
    "ExecuteTime": {
     "end_time": "2025-03-23T07:16:06.334234Z",
     "start_time": "2025-03-23T07:16:06.318626Z"
    }
   },
   "outputs": [],
   "source": [
    "# df['STATUS'] = df['STATUS'].apply(lambda x: 1 if x >= 1 else 0)\n",
    "# df['STATUS'].value_counts() "
   ]
  },
  {
   "cell_type": "code",
   "execution_count": 511,
   "id": "6ce638b1",
   "metadata": {
    "ExecuteTime": {
     "end_time": "2025-03-23T07:16:06.351822Z",
     "start_time": "2025-03-23T07:16:06.338881Z"
    }
   },
   "outputs": [],
   "source": [
    "# Вычисление матрицы корреляций\n",
    "# corr_matrix = df.corr()\n",
    "\n",
    "# plt.figure(figsize=(10, 8))\n",
    "# sns.heatmap(corr_matrix, annot=True, cmap='coolwarm', fmt='.2f')\n",
    "# plt.title('Матрица корреляций (Пирсон)')\n",
    "# plt.show()"
   ]
  },
  {
   "cell_type": "code",
   "execution_count": 512,
   "id": "c0c2a35a",
   "metadata": {
    "ExecuteTime": {
     "end_time": "2025-03-23T07:16:06.368202Z",
     "start_time": "2025-03-23T07:16:06.352331Z"
    }
   },
   "outputs": [],
   "source": [
    "# correlation_results = []\n",
    "\n",
    "# # Проходим по всем числовым признакам\n",
    "# for col in df.select_dtypes(include=['float64', 'int64']).columns:\n",
    "#     if col != 'target':\n",
    "#         pearson_corr, _ = pearsonr(df[col], df['STATUS'])\n",
    "#         spearman_corr, _ = spearmanr(df[col], df['STATUS'])\n",
    "#         correlation_results.append((col, pearson_corr, spearman_corr))\n",
    "\n",
    "# # Создаем DataFrame с результатами\n",
    "# correlation_df = pd.DataFrame(correlation_results, columns=['Feature', 'Pearson', 'Spearman'])\n",
    "# print(correlation_df.sort_values(by='Pearson', ascending=False))"
   ]
  },
  {
   "cell_type": "code",
   "execution_count": 513,
   "id": "6fe847e7",
   "metadata": {
    "ExecuteTime": {
     "end_time": "2025-03-23T07:16:06.385037Z",
     "start_time": "2025-03-23T07:16:06.372218Z"
    }
   },
   "outputs": [],
   "source": [
    "# from statsmodels.stats.outliers_influence import variance_inflation_factor\n",
    "\n",
    "# vif_data = pd.DataFrame()\n",
    "# vif_data['Feature'] = df.columns\n",
    "# vif_data['VIF'] = [variance_inflation_factor(df.values, i) for i in range(df.shape[1])]\n",
    "# print(vif_data)\n",
    "# VIF > 5 или 10 указывает на сильную мультиколлинеарность."
   ]
  },
  {
   "cell_type": "code",
   "execution_count": 514,
   "id": "e0dba36f",
   "metadata": {
    "ExecuteTime": {
     "end_time": "2025-03-23T07:16:06.401782Z",
     "start_time": "2025-03-23T07:16:06.390067Z"
    }
   },
   "outputs": [],
   "source": [
    "# df.drop('CNT_FAM_MEMBERS', axis=1, inplace=True)\n",
    "# df.drop('CNT_CHILDREN', axis=1, inplace=True) #\n",
    "# df.drop('NAME_FAMILY_STATUS', axis=1, inplace=True) #\n",
    "# df.drop('NAME_EDUCATION_TYPE', axis=1, inplace=True) #\n",
    "# df.drop('DAYS_EMPLOYED', axis=1, inplace=True) #\n",
    "# df.drop('CODE_GENDER', axis=1, inplace=True)\n",
    "# df.drop('FLAG_PHONE', axis=1, inplace=True)\n",
    "# df.drop('FLAG_WORK_PHONE', axis=1, inplace=True)\n",
    "# df.drop('FLAG_EMAIL', axis=1, inplace=True)"
   ]
  },
  {
   "cell_type": "markdown",
   "id": "56175fe0",
   "metadata": {},
   "source": [
    "В соответствии с типом признака (номинальный или порядковым) и количеством уникальных значений определим каким образом будем кодировать категориальные переменные."
   ]
  },
  {
   "cell_type": "code",
   "execution_count": 515,
   "id": "9618006e",
   "metadata": {
    "ExecuteTime": {
     "end_time": "2025-03-23T07:16:06.418403Z",
     "start_time": "2025-03-23T07:16:06.407330Z"
    }
   },
   "outputs": [],
   "source": [
    "# смотрим типы данных\n",
    "# df.dtypes"
   ]
  },
  {
   "cell_type": "code",
   "execution_count": 516,
   "id": "089046bb",
   "metadata": {
    "ExecuteTime": {
     "end_time": "2025-03-23T07:16:06.435074Z",
     "start_time": "2025-03-23T07:16:06.423420Z"
    }
   },
   "outputs": [],
   "source": [
    "# object_type = pd.DataFrame(df.dtypes =='object').reset_index()\n",
    "# object_type = object_type[object_type[0] == True]['index']\n",
    "# object_type"
   ]
  },
  {
   "cell_type": "code",
   "execution_count": 517,
   "id": "695466dc",
   "metadata": {
    "ExecuteTime": {
     "end_time": "2025-03-23T07:16:06.451705Z",
     "start_time": "2025-03-23T07:16:06.439092Z"
    }
   },
   "outputs": [],
   "source": [
    "# df['FLAG_OWN_CAR'].value_counts() # binary encoder"
   ]
  },
  {
   "cell_type": "code",
   "execution_count": 518,
   "id": "c5d58726",
   "metadata": {
    "ExecuteTime": {
     "end_time": "2025-03-23T07:16:06.468473Z",
     "start_time": "2025-03-23T07:16:06.456735Z"
    }
   },
   "outputs": [],
   "source": [
    "# df['FLAG_OWN_REALTY'].value_counts()"
   ]
  },
  {
   "cell_type": "code",
   "execution_count": 519,
   "id": "bcbded23",
   "metadata": {
    "ExecuteTime": {
     "end_time": "2025-03-23T07:16:06.491330Z",
     "start_time": "2025-03-23T07:16:06.474534Z"
    }
   },
   "outputs": [],
   "source": [
    "# df['NAME_INCOME_TYPE'].value_counts() # не все значения одинаково часто встречаются, TargetEncoding не подойдет, но порядковый - LabelEncoding"
   ]
  },
  {
   "cell_type": "code",
   "execution_count": 520,
   "id": "69fdc40b",
   "metadata": {
    "ExecuteTime": {
     "end_time": "2025-03-23T07:16:06.518784Z",
     "start_time": "2025-03-23T07:16:06.495136Z"
    }
   },
   "outputs": [],
   "source": [
    "# df['NAME_HOUSING_TYPE'].value_counts() # не все значения одинаково часто встречаются, target encoding не подойдет -> BinaryEncoding"
   ]
  },
  {
   "cell_type": "code",
   "execution_count": 521,
   "id": "830bcc4d",
   "metadata": {
    "ExecuteTime": {
     "end_time": "2025-03-23T07:16:07.252026Z",
     "start_time": "2025-03-23T07:16:06.523694Z"
    }
   },
   "outputs": [],
   "source": [
    "# попробуем просто заменить на 0 и 1\n",
    "df['FLAG_OWN_CAR'] = df['FLAG_OWN_CAR'].replace({'Y' : 1, 'N' : 0})\n",
    "df['FLAG_OWN_REALTY'] = df['FLAG_OWN_REALTY'].replace({'Y' : 1, 'N' : 0})\n",
    "df['CODE_GENDER'] = df['CODE_GENDER'].replace({'F' : 1, 'M' : 0})"
   ]
  },
  {
   "cell_type": "code",
   "execution_count": 522,
   "id": "72089d48",
   "metadata": {
    "ExecuteTime": {
     "end_time": "2025-03-23T07:16:07.961288Z",
     "start_time": "2025-03-23T07:16:07.255170Z"
    }
   },
   "outputs": [],
   "source": [
    "#  кодируем категориальный порядковый признак\n",
    "le = LabelEncoder()\n",
    "df['NAME_INCOME_TYPE'] = le.fit_transform(df['NAME_INCOME_TYPE'])\n",
    "df['NAME_HOUSING_TYPE'] = le.fit_transform(df['NAME_HOUSING_TYPE'])\n",
    "df['NAME_EDUCATION_TYPE'] = le.fit_transform(df['NAME_EDUCATION_TYPE']) #\n",
    "df['NAME_FAMILY_STATUS'] = le.fit_transform(df['NAME_FAMILY_STATUS']) #\n",
    "df['OCCUPATION_TYPE'] = le.fit_transform(df['OCCUPATION_TYPE']) #"
   ]
  },
  {
   "cell_type": "code",
   "execution_count": null,
   "id": "a4446ab3",
   "metadata": {},
   "outputs": [],
   "source": []
  },
  {
   "cell_type": "code",
   "execution_count": 523,
   "id": "34cdca3f",
   "metadata": {
    "ExecuteTime": {
     "end_time": "2025-03-23T07:16:07.968587Z",
     "start_time": "2025-03-23T07:16:07.961288Z"
    }
   },
   "outputs": [],
   "source": [
    "# mean_encoding = df.groupby('NAME_FAMILY_STATUS')['STATUS'].mean()\n",
    "# df['NAME_FAMILY_STATUS'] = df['NAME_FAMILY_STATUS'].map(mean_encoding)"
   ]
  },
  {
   "cell_type": "code",
   "execution_count": 524,
   "id": "10240141",
   "metadata": {
    "ExecuteTime": {
     "end_time": "2025-03-23T07:16:07.987219Z",
     "start_time": "2025-03-23T07:16:07.970958Z"
    }
   },
   "outputs": [],
   "source": [
    "# смотрим типы данных\n",
    "# df.dtypes"
   ]
  },
  {
   "cell_type": "code",
   "execution_count": 525,
   "id": "20194b25",
   "metadata": {
    "ExecuteTime": {
     "end_time": "2025-03-23T07:16:08.001736Z",
     "start_time": "2025-03-23T07:16:07.989205Z"
    }
   },
   "outputs": [],
   "source": [
    "# df"
   ]
  },
  {
   "cell_type": "code",
   "execution_count": 526,
   "id": "8d690f3f",
   "metadata": {
    "ExecuteTime": {
     "end_time": "2025-03-23T07:16:08.018530Z",
     "start_time": "2025-03-23T07:16:08.008572Z"
    }
   },
   "outputs": [],
   "source": [
    "# df['STATUS'].value_counts()"
   ]
  },
  {
   "cell_type": "code",
   "execution_count": null,
   "id": "110685a7",
   "metadata": {},
   "outputs": [],
   "source": []
  },
  {
   "cell_type": "code",
   "execution_count": null,
   "id": "c1f9b4cb",
   "metadata": {},
   "outputs": [],
   "source": []
  },
  {
   "cell_type": "code",
   "execution_count": null,
   "id": "88497882",
   "metadata": {},
   "outputs": [],
   "source": []
  },
  {
   "cell_type": "code",
   "execution_count": null,
   "id": "119c4036",
   "metadata": {},
   "outputs": [],
   "source": []
  },
  {
   "cell_type": "code",
   "execution_count": null,
   "id": "58bfecc4",
   "metadata": {},
   "outputs": [],
   "source": []
  },
  {
   "cell_type": "code",
   "execution_count": 527,
   "id": "686f0c7e",
   "metadata": {
    "ExecuteTime": {
     "end_time": "2025-03-23T07:16:08.035212Z",
     "start_time": "2025-03-23T07:16:08.021263Z"
    }
   },
   "outputs": [],
   "source": [
    "# # Вычисление матрицы корреляций\n",
    "# corr_matrix = df.corr()\n",
    "\n",
    "# plt.figure(figsize=(10, 8))\n",
    "# sns.heatmap(corr_matrix, annot=True, cmap='coolwarm', fmt='.2f')\n",
    "# plt.title('Матрица корреляций (Пирсон)')\n",
    "# plt.show()"
   ]
  },
  {
   "cell_type": "code",
   "execution_count": 528,
   "id": "ea66d073",
   "metadata": {
    "ExecuteTime": {
     "end_time": "2025-03-23T07:16:08.051909Z",
     "start_time": "2025-03-23T07:16:08.040360Z"
    }
   },
   "outputs": [],
   "source": [
    "# correlation_results = []\n",
    "\n",
    "# # Проходим по всем числовым признакам\n",
    "# for col in df.select_dtypes(include=['float64', 'int64']).columns:\n",
    "#     if col != 'target':\n",
    "#         pearson_corr, _ = pearsonr(df[col], df['STATUS'])\n",
    "#         spearman_corr, _ = spearmanr(df[col], df['STATUS'])\n",
    "#         correlation_results.append((col, pearson_corr, spearman_corr))\n",
    "\n",
    "# # Создаем DataFrame с результатами\n",
    "# correlation_df = pd.DataFrame(correlation_results, columns=['Feature', 'Pearson', 'Spearman'])\n",
    "# print(correlation_df.sort_values(by='Pearson', ascending=False))"
   ]
  },
  {
   "cell_type": "code",
   "execution_count": 529,
   "id": "f2988662",
   "metadata": {
    "ExecuteTime": {
     "end_time": "2025-03-23T07:16:08.072756Z",
     "start_time": "2025-03-23T07:16:08.055986Z"
    }
   },
   "outputs": [],
   "source": [
    "# from statsmodels.stats.outliers_influence import variance_inflation_factor\n",
    "\n",
    "# vif_data = pd.DataFrame()\n",
    "# vif_data['Feature'] = df.columns\n",
    "# vif_data['VIF'] = [variance_inflation_factor(df.values, i) for i in range(df.shape[1])]\n",
    "# print(vif_data)\n",
    "# VIF > 5 или 10 указывает на сильную мультиколлинеарность."
   ]
  },
  {
   "cell_type": "code",
   "execution_count": 530,
   "id": "70fdc29c",
   "metadata": {
    "ExecuteTime": {
     "end_time": "2025-03-23T07:16:08.085336Z",
     "start_time": "2025-03-23T07:16:08.076448Z"
    }
   },
   "outputs": [],
   "source": [
    "# plt.figure(figsize=(8, 6))\n",
    "# sns.boxplot(x='STATUS', y='AMT_INCOME_TOTAL', data=df)\n",
    "# plt.title('Распределение дохода для дефолтных и недефолтных заемщиков')\n",
    "# plt.show()"
   ]
  },
  {
   "cell_type": "code",
   "execution_count": 531,
   "id": "0ff5868e",
   "metadata": {
    "ExecuteTime": {
     "end_time": "2025-03-23T07:16:08.101477Z",
     "start_time": "2025-03-23T07:16:08.085708Z"
    }
   },
   "outputs": [],
   "source": [
    "# # проверяем наличие выбросов с помощью визуализации\n",
    "\n",
    "# fig, ax = plt.subplots(nrows=3, ncols=3, figsize=(18,10))\n",
    "# sns.scatterplot(x=df['ID'], y=df['FLAG_OWN_CAR'], data=df, ax=ax[0][0])\n",
    "# sns.scatterplot(x=df['ID'], y=df['FLAG_OWN_REALTY'], data=df, ax=ax[0][1])\n",
    "# sns.scatterplot(x=df['ID'], y=df['AMT_INCOME_TOTAL'], data=df, ax=ax[0][2])\n",
    "\n",
    "# sns.scatterplot(x=df['ID'], y=df['NAME_INCOME_TYPE'], data=df, ax=ax[1][0])\n",
    "# sns.scatterplot(x=df['ID'], y=df['NAME_HOUSING_TYPE'], data=df, ax=ax[1][1])\n",
    "# sns.scatterplot(x=df['ID'], y=df['FLAG_WORK_PHONE'], data=df, ax=ax[1][2])\n",
    "\n",
    "# sns.scatterplot(x=df['ID'], y=df['FLAG_PHONE'], data=df, ax=ax[2][0])\n",
    "# sns.scatterplot(x=df['ID'], y=df['FLAG_EMAIL'], data=df, ax=ax[2][1])"
   ]
  },
  {
   "cell_type": "code",
   "execution_count": 532,
   "id": "3563a651",
   "metadata": {
    "ExecuteTime": {
     "end_time": "2025-03-23T07:16:08.118464Z",
     "start_time": "2025-03-23T07:16:08.104742Z"
    }
   },
   "outputs": [],
   "source": [
    "# # Вычисляем Z-оценки и удаляем выбросы (|Z| > 3)\n",
    "# df['z_score'] = zscore(df['AMT_INCOME_TOTAL'])\n",
    "# df = df[np.abs(df['z_score']) <= 3]"
   ]
  },
  {
   "cell_type": "code",
   "execution_count": 533,
   "id": "571b2ebf",
   "metadata": {
    "ExecuteTime": {
     "end_time": "2025-03-23T07:16:08.134548Z",
     "start_time": "2025-03-23T07:16:08.119020Z"
    }
   },
   "outputs": [],
   "source": [
    "# # Вычисляем Z-оценки и удаляем выбросы (|Z| > 3)\n",
    "# df['z_score'] = zscore(df['NAME_INCOME_TYPE'])\n",
    "# df = df[np.abs(df['z_score']) <= 3]"
   ]
  },
  {
   "cell_type": "code",
   "execution_count": 534,
   "id": "81fbc359",
   "metadata": {
    "ExecuteTime": {
     "end_time": "2025-03-23T07:16:08.151886Z",
     "start_time": "2025-03-23T07:16:08.139337Z"
    }
   },
   "outputs": [],
   "source": [
    "# # проверяем наличие выбросов с помощью визуализации после очистки\n",
    "\n",
    "# fig, ax = plt.subplots(nrows=3, ncols=3, figsize=(18,10))\n",
    "# sns.scatterplot(x=df['ID'], y=df['FLAG_OWN_CAR'], data=df, ax=ax[0][0])\n",
    "# sns.scatterplot(x=df['ID'], y=df['FLAG_OWN_REALTY'], data=df, ax=ax[0][1])\n",
    "# sns.scatterplot(x=df['ID'], y=df['AMT_INCOME_TOTAL'], data=df, ax=ax[0][2])\n",
    "\n",
    "# sns.scatterplot(x=df['ID'], y=df['NAME_INCOME_TYPE'], data=df, ax=ax[1][0])\n",
    "# sns.scatterplot(x=df['ID'], y=df['NAME_HOUSING_TYPE'], data=df, ax=ax[1][1])\n",
    "# sns.scatterplot(x=df['ID'], y=df['FLAG_WORK_PHONE'], data=df, ax=ax[1][2])\n",
    "\n",
    "# sns.scatterplot(x=df['ID'], y=df['FLAG_PHONE'], data=df, ax=ax[2][0])\n",
    "# sns.scatterplot(x=df['ID'], y=df['FLAG_EMAIL'], data=df, ax=ax[2][1])"
   ]
  },
  {
   "cell_type": "code",
   "execution_count": 535,
   "id": "3444d666",
   "metadata": {
    "ExecuteTime": {
     "end_time": "2025-03-23T07:16:08.168564Z",
     "start_time": "2025-03-23T07:16:08.156945Z"
    }
   },
   "outputs": [],
   "source": [
    "# генерация признаков + PSI "
   ]
  },
  {
   "cell_type": "code",
   "execution_count": 536,
   "id": "d60a7347",
   "metadata": {
    "ExecuteTime": {
     "end_time": "2025-03-23T07:16:08.185189Z",
     "start_time": "2025-03-23T07:16:08.173639Z"
    }
   },
   "outputs": [],
   "source": [
    "# df['DAYS_BIRTH'] = - (df['DAYS_BIRTH'] // 365)\n",
    "# df['DAYS_BIRTH']"
   ]
  },
  {
   "cell_type": "code",
   "execution_count": 537,
   "id": "f1eddcd9",
   "metadata": {
    "ExecuteTime": {
     "end_time": "2025-03-23T07:16:08.201854Z",
     "start_time": "2025-03-23T07:16:08.190258Z"
    }
   },
   "outputs": [],
   "source": [
    "# plt.hist(df['DAYS_BIRTH'], bins=10, edgecolor='black')\n",
    "# plt.show()"
   ]
  },
  {
   "cell_type": "code",
   "execution_count": 538,
   "id": "ac870db9",
   "metadata": {
    "ExecuteTime": {
     "end_time": "2025-03-23T07:16:08.218558Z",
     "start_time": "2025-03-23T07:16:08.207864Z"
    }
   },
   "outputs": [],
   "source": [
    "# # Определяем границы бинов\n",
    "# bins = [20, 30, 40, 50, 60, 100]\n",
    "\n",
    "# # Создаем метки для бинов\n",
    "# labels = ['21-30', '31-40', '41-50', '51-60', '60+']\n",
    "\n",
    "# # Разбиваем возраст на бины\n",
    "# df['DAYS_BIRTH'] = pd.cut(df['DAYS_BIRTH'], bins=bins, labels=labels, right=False)"
   ]
  },
  {
   "cell_type": "code",
   "execution_count": 539,
   "id": "b6bff0da",
   "metadata": {
    "ExecuteTime": {
     "end_time": "2025-03-23T07:16:08.235164Z",
     "start_time": "2025-03-23T07:16:08.223669Z"
    },
    "scrolled": true
   },
   "outputs": [],
   "source": [
    "# df['DAYS_BIRTH'].value_counts()"
   ]
  },
  {
   "cell_type": "code",
   "execution_count": 540,
   "id": "5f213f4a",
   "metadata": {
    "ExecuteTime": {
     "end_time": "2025-03-23T07:16:08.251999Z",
     "start_time": "2025-03-23T07:16:08.240235Z"
    }
   },
   "outputs": [],
   "source": [
    "# mean_encoding = df.groupby('DAYS_BIRTH')['STATUS'].mean()\n",
    "# df['DAYS_BIRTH'] = df['DAYS_BIRTH'].map(mean_encoding)"
   ]
  },
  {
   "cell_type": "code",
   "execution_count": 541,
   "id": "e501e5d0",
   "metadata": {
    "ExecuteTime": {
     "end_time": "2025-03-23T07:16:08.268541Z",
     "start_time": "2025-03-23T07:16:08.256060Z"
    }
   },
   "outputs": [],
   "source": [
    "# encoder = BinaryEncoder(cols=['DAYS_BIRTH'])\n",
    "# df = encoder.fit_transform(df)"
   ]
  },
  {
   "cell_type": "code",
   "execution_count": 542,
   "id": "0dff0c76",
   "metadata": {
    "ExecuteTime": {
     "end_time": "2025-03-23T07:16:08.317369Z",
     "start_time": "2025-03-23T07:16:08.273609Z"
    }
   },
   "outputs": [
    {
     "data": {
      "text/html": [
       "<div>\n",
       "<style scoped>\n",
       "    .dataframe tbody tr th:only-of-type {\n",
       "        vertical-align: middle;\n",
       "    }\n",
       "\n",
       "    .dataframe tbody tr th {\n",
       "        vertical-align: top;\n",
       "    }\n",
       "\n",
       "    .dataframe thead th {\n",
       "        text-align: right;\n",
       "    }\n",
       "</style>\n",
       "<table border=\"1\" class=\"dataframe\">\n",
       "  <thead>\n",
       "    <tr style=\"text-align: right;\">\n",
       "      <th></th>\n",
       "      <th>ID</th>\n",
       "      <th>CODE_GENDER</th>\n",
       "      <th>FLAG_OWN_CAR</th>\n",
       "      <th>FLAG_OWN_REALTY</th>\n",
       "      <th>CNT_CHILDREN</th>\n",
       "      <th>AMT_INCOME_TOTAL</th>\n",
       "      <th>NAME_INCOME_TYPE</th>\n",
       "      <th>NAME_EDUCATION_TYPE</th>\n",
       "      <th>NAME_FAMILY_STATUS</th>\n",
       "      <th>NAME_HOUSING_TYPE</th>\n",
       "      <th>DAYS_BIRTH</th>\n",
       "      <th>DAYS_EMPLOYED</th>\n",
       "      <th>FLAG_MOBIL</th>\n",
       "      <th>FLAG_WORK_PHONE</th>\n",
       "      <th>FLAG_PHONE</th>\n",
       "      <th>FLAG_EMAIL</th>\n",
       "      <th>OCCUPATION_TYPE</th>\n",
       "      <th>CNT_FAM_MEMBERS</th>\n",
       "      <th>STATUS</th>\n",
       "    </tr>\n",
       "  </thead>\n",
       "  <tbody>\n",
       "    <tr>\n",
       "      <th>2</th>\n",
       "      <td>5008806</td>\n",
       "      <td>0</td>\n",
       "      <td>1</td>\n",
       "      <td>1</td>\n",
       "      <td>0</td>\n",
       "      <td>112500.0</td>\n",
       "      <td>4</td>\n",
       "      <td>4</td>\n",
       "      <td>1</td>\n",
       "      <td>1</td>\n",
       "      <td>-21474</td>\n",
       "      <td>-1134</td>\n",
       "      <td>1</td>\n",
       "      <td>0</td>\n",
       "      <td>0</td>\n",
       "      <td>0</td>\n",
       "      <td>16</td>\n",
       "      <td>2.0</td>\n",
       "      <td>0</td>\n",
       "    </tr>\n",
       "    <tr>\n",
       "      <th>2</th>\n",
       "      <td>5008806</td>\n",
       "      <td>0</td>\n",
       "      <td>1</td>\n",
       "      <td>1</td>\n",
       "      <td>0</td>\n",
       "      <td>112500.0</td>\n",
       "      <td>4</td>\n",
       "      <td>4</td>\n",
       "      <td>1</td>\n",
       "      <td>1</td>\n",
       "      <td>-21474</td>\n",
       "      <td>-1134</td>\n",
       "      <td>1</td>\n",
       "      <td>0</td>\n",
       "      <td>0</td>\n",
       "      <td>0</td>\n",
       "      <td>16</td>\n",
       "      <td>2.0</td>\n",
       "      <td>0</td>\n",
       "    </tr>\n",
       "    <tr>\n",
       "      <th>2</th>\n",
       "      <td>5008806</td>\n",
       "      <td>0</td>\n",
       "      <td>1</td>\n",
       "      <td>1</td>\n",
       "      <td>0</td>\n",
       "      <td>112500.0</td>\n",
       "      <td>4</td>\n",
       "      <td>4</td>\n",
       "      <td>1</td>\n",
       "      <td>1</td>\n",
       "      <td>-21474</td>\n",
       "      <td>-1134</td>\n",
       "      <td>1</td>\n",
       "      <td>0</td>\n",
       "      <td>0</td>\n",
       "      <td>0</td>\n",
       "      <td>16</td>\n",
       "      <td>2.0</td>\n",
       "      <td>0</td>\n",
       "    </tr>\n",
       "    <tr>\n",
       "      <th>2</th>\n",
       "      <td>5008806</td>\n",
       "      <td>0</td>\n",
       "      <td>1</td>\n",
       "      <td>1</td>\n",
       "      <td>0</td>\n",
       "      <td>112500.0</td>\n",
       "      <td>4</td>\n",
       "      <td>4</td>\n",
       "      <td>1</td>\n",
       "      <td>1</td>\n",
       "      <td>-21474</td>\n",
       "      <td>-1134</td>\n",
       "      <td>1</td>\n",
       "      <td>0</td>\n",
       "      <td>0</td>\n",
       "      <td>0</td>\n",
       "      <td>16</td>\n",
       "      <td>2.0</td>\n",
       "      <td>0</td>\n",
       "    </tr>\n",
       "    <tr>\n",
       "      <th>2</th>\n",
       "      <td>5008806</td>\n",
       "      <td>0</td>\n",
       "      <td>1</td>\n",
       "      <td>1</td>\n",
       "      <td>0</td>\n",
       "      <td>112500.0</td>\n",
       "      <td>4</td>\n",
       "      <td>4</td>\n",
       "      <td>1</td>\n",
       "      <td>1</td>\n",
       "      <td>-21474</td>\n",
       "      <td>-1134</td>\n",
       "      <td>1</td>\n",
       "      <td>0</td>\n",
       "      <td>0</td>\n",
       "      <td>0</td>\n",
       "      <td>16</td>\n",
       "      <td>2.0</td>\n",
       "      <td>0</td>\n",
       "    </tr>\n",
       "    <tr>\n",
       "      <th>...</th>\n",
       "      <td>...</td>\n",
       "      <td>...</td>\n",
       "      <td>...</td>\n",
       "      <td>...</td>\n",
       "      <td>...</td>\n",
       "      <td>...</td>\n",
       "      <td>...</td>\n",
       "      <td>...</td>\n",
       "      <td>...</td>\n",
       "      <td>...</td>\n",
       "      <td>...</td>\n",
       "      <td>...</td>\n",
       "      <td>...</td>\n",
       "      <td>...</td>\n",
       "      <td>...</td>\n",
       "      <td>...</td>\n",
       "      <td>...</td>\n",
       "      <td>...</td>\n",
       "      <td>...</td>\n",
       "    </tr>\n",
       "    <tr>\n",
       "      <th>434812</th>\n",
       "      <td>5150337</td>\n",
       "      <td>0</td>\n",
       "      <td>0</td>\n",
       "      <td>1</td>\n",
       "      <td>0</td>\n",
       "      <td>112500.0</td>\n",
       "      <td>4</td>\n",
       "      <td>4</td>\n",
       "      <td>3</td>\n",
       "      <td>4</td>\n",
       "      <td>-9188</td>\n",
       "      <td>-1193</td>\n",
       "      <td>1</td>\n",
       "      <td>0</td>\n",
       "      <td>0</td>\n",
       "      <td>0</td>\n",
       "      <td>8</td>\n",
       "      <td>1.0</td>\n",
       "      <td>0</td>\n",
       "    </tr>\n",
       "    <tr>\n",
       "      <th>434812</th>\n",
       "      <td>5150337</td>\n",
       "      <td>0</td>\n",
       "      <td>0</td>\n",
       "      <td>1</td>\n",
       "      <td>0</td>\n",
       "      <td>112500.0</td>\n",
       "      <td>4</td>\n",
       "      <td>4</td>\n",
       "      <td>3</td>\n",
       "      <td>4</td>\n",
       "      <td>-9188</td>\n",
       "      <td>-1193</td>\n",
       "      <td>1</td>\n",
       "      <td>0</td>\n",
       "      <td>0</td>\n",
       "      <td>0</td>\n",
       "      <td>8</td>\n",
       "      <td>1.0</td>\n",
       "      <td>1</td>\n",
       "    </tr>\n",
       "    <tr>\n",
       "      <th>434812</th>\n",
       "      <td>5150337</td>\n",
       "      <td>0</td>\n",
       "      <td>0</td>\n",
       "      <td>1</td>\n",
       "      <td>0</td>\n",
       "      <td>112500.0</td>\n",
       "      <td>4</td>\n",
       "      <td>4</td>\n",
       "      <td>3</td>\n",
       "      <td>4</td>\n",
       "      <td>-9188</td>\n",
       "      <td>-1193</td>\n",
       "      <td>1</td>\n",
       "      <td>0</td>\n",
       "      <td>0</td>\n",
       "      <td>0</td>\n",
       "      <td>8</td>\n",
       "      <td>1.0</td>\n",
       "      <td>1</td>\n",
       "    </tr>\n",
       "    <tr>\n",
       "      <th>434812</th>\n",
       "      <td>5150337</td>\n",
       "      <td>0</td>\n",
       "      <td>0</td>\n",
       "      <td>1</td>\n",
       "      <td>0</td>\n",
       "      <td>112500.0</td>\n",
       "      <td>4</td>\n",
       "      <td>4</td>\n",
       "      <td>3</td>\n",
       "      <td>4</td>\n",
       "      <td>-9188</td>\n",
       "      <td>-1193</td>\n",
       "      <td>1</td>\n",
       "      <td>0</td>\n",
       "      <td>0</td>\n",
       "      <td>0</td>\n",
       "      <td>8</td>\n",
       "      <td>1.0</td>\n",
       "      <td>0</td>\n",
       "    </tr>\n",
       "    <tr>\n",
       "      <th>434812</th>\n",
       "      <td>5150337</td>\n",
       "      <td>0</td>\n",
       "      <td>0</td>\n",
       "      <td>1</td>\n",
       "      <td>0</td>\n",
       "      <td>112500.0</td>\n",
       "      <td>4</td>\n",
       "      <td>4</td>\n",
       "      <td>3</td>\n",
       "      <td>4</td>\n",
       "      <td>-9188</td>\n",
       "      <td>-1193</td>\n",
       "      <td>1</td>\n",
       "      <td>0</td>\n",
       "      <td>0</td>\n",
       "      <td>0</td>\n",
       "      <td>8</td>\n",
       "      <td>1.0</td>\n",
       "      <td>0</td>\n",
       "    </tr>\n",
       "  </tbody>\n",
       "</table>\n",
       "<p>537667 rows × 19 columns</p>\n",
       "</div>"
      ],
      "text/plain": [
       "             ID  CODE_GENDER  FLAG_OWN_CAR  FLAG_OWN_REALTY  CNT_CHILDREN  \\\n",
       "2       5008806            0             1                1             0   \n",
       "2       5008806            0             1                1             0   \n",
       "2       5008806            0             1                1             0   \n",
       "2       5008806            0             1                1             0   \n",
       "2       5008806            0             1                1             0   \n",
       "...         ...          ...           ...              ...           ...   \n",
       "434812  5150337            0             0                1             0   \n",
       "434812  5150337            0             0                1             0   \n",
       "434812  5150337            0             0                1             0   \n",
       "434812  5150337            0             0                1             0   \n",
       "434812  5150337            0             0                1             0   \n",
       "\n",
       "        AMT_INCOME_TOTAL  NAME_INCOME_TYPE  NAME_EDUCATION_TYPE  \\\n",
       "2               112500.0                 4                    4   \n",
       "2               112500.0                 4                    4   \n",
       "2               112500.0                 4                    4   \n",
       "2               112500.0                 4                    4   \n",
       "2               112500.0                 4                    4   \n",
       "...                  ...               ...                  ...   \n",
       "434812          112500.0                 4                    4   \n",
       "434812          112500.0                 4                    4   \n",
       "434812          112500.0                 4                    4   \n",
       "434812          112500.0                 4                    4   \n",
       "434812          112500.0                 4                    4   \n",
       "\n",
       "        NAME_FAMILY_STATUS  NAME_HOUSING_TYPE  DAYS_BIRTH  DAYS_EMPLOYED  \\\n",
       "2                        1                  1      -21474          -1134   \n",
       "2                        1                  1      -21474          -1134   \n",
       "2                        1                  1      -21474          -1134   \n",
       "2                        1                  1      -21474          -1134   \n",
       "2                        1                  1      -21474          -1134   \n",
       "...                    ...                ...         ...            ...   \n",
       "434812                   3                  4       -9188          -1193   \n",
       "434812                   3                  4       -9188          -1193   \n",
       "434812                   3                  4       -9188          -1193   \n",
       "434812                   3                  4       -9188          -1193   \n",
       "434812                   3                  4       -9188          -1193   \n",
       "\n",
       "        FLAG_MOBIL  FLAG_WORK_PHONE  FLAG_PHONE  FLAG_EMAIL  OCCUPATION_TYPE  \\\n",
       "2                1                0           0           0               16   \n",
       "2                1                0           0           0               16   \n",
       "2                1                0           0           0               16   \n",
       "2                1                0           0           0               16   \n",
       "2                1                0           0           0               16   \n",
       "...            ...              ...         ...         ...              ...   \n",
       "434812           1                0           0           0                8   \n",
       "434812           1                0           0           0                8   \n",
       "434812           1                0           0           0                8   \n",
       "434812           1                0           0           0                8   \n",
       "434812           1                0           0           0                8   \n",
       "\n",
       "        CNT_FAM_MEMBERS  STATUS  \n",
       "2                   2.0       0  \n",
       "2                   2.0       0  \n",
       "2                   2.0       0  \n",
       "2                   2.0       0  \n",
       "2                   2.0       0  \n",
       "...                 ...     ...  \n",
       "434812              1.0       0  \n",
       "434812              1.0       1  \n",
       "434812              1.0       1  \n",
       "434812              1.0       0  \n",
       "434812              1.0       0  \n",
       "\n",
       "[537667 rows x 19 columns]"
      ]
     },
     "execution_count": 542,
     "metadata": {},
     "output_type": "execute_result"
    }
   ],
   "source": [
    "df"
   ]
  },
  {
   "cell_type": "code",
   "execution_count": null,
   "id": "5bdc72db",
   "metadata": {},
   "outputs": [],
   "source": []
  },
  {
   "cell_type": "code",
   "execution_count": null,
   "id": "ba7f0203",
   "metadata": {},
   "outputs": [],
   "source": []
  },
  {
   "cell_type": "code",
   "execution_count": 543,
   "id": "b9b71dd0",
   "metadata": {
    "ExecuteTime": {
     "end_time": "2025-03-23T07:16:08.352102Z",
     "start_time": "2025-03-23T07:16:08.321383Z"
    }
   },
   "outputs": [
    {
     "data": {
      "text/plain": [
       "0    529282\n",
       "1      8385\n",
       "Name: STATUS, dtype: int64"
      ]
     },
     "execution_count": 543,
     "metadata": {},
     "output_type": "execute_result"
    }
   ],
   "source": [
    "df['STATUS'].value_counts() "
   ]
  },
  {
   "cell_type": "code",
   "execution_count": 544,
   "id": "70508a33",
   "metadata": {
    "ExecuteTime": {
     "end_time": "2025-03-23T07:16:08.368411Z",
     "start_time": "2025-03-23T07:16:08.356116Z"
    }
   },
   "outputs": [],
   "source": [
    "# df"
   ]
  },
  {
   "cell_type": "code",
   "execution_count": 545,
   "id": "c818ae56",
   "metadata": {
    "ExecuteTime": {
     "end_time": "2025-03-23T07:16:08.433028Z",
     "start_time": "2025-03-23T07:16:08.372550Z"
    }
   },
   "outputs": [],
   "source": [
    "X = df.iloc[:,1:-1]  # с конца убираем таргет \n",
    "y = df['STATUS']"
   ]
  },
  {
   "cell_type": "code",
   "execution_count": 546,
   "id": "c39e7a6b",
   "metadata": {
    "ExecuteTime": {
     "end_time": "2025-03-23T07:16:08.453582Z",
     "start_time": "2025-03-23T07:16:08.436738Z"
    }
   },
   "outputs": [],
   "source": [
    "# X_PCA = PCA(n_components=3).fit_transform(X)"
   ]
  },
  {
   "cell_type": "code",
   "execution_count": 547,
   "id": "48585420",
   "metadata": {
    "ExecuteTime": {
     "end_time": "2025-03-23T07:16:08.473558Z",
     "start_time": "2025-03-23T07:16:08.458287Z"
    }
   },
   "outputs": [],
   "source": [
    "# делим данные на обучающую и тестовую выборки\n",
    "# X_train, X_test, y_train, y_test = train_test_split(X, y, random_state=42, stratify=y)"
   ]
  },
  {
   "cell_type": "code",
   "execution_count": 548,
   "id": "b52fa5bf",
   "metadata": {
    "ExecuteTime": {
     "end_time": "2025-03-23T07:16:08.488788Z",
     "start_time": "2025-03-23T07:16:08.479721Z"
    }
   },
   "outputs": [],
   "source": [
    "# приводим признаки к одной шкале, RobustScaler не чувствителен к выбросам в отличие от MinMaxScaler()\n",
    "# rs = RobustScaler()\n",
    "# rs = MinMaxScaler()\n",
    "# X_scaled = rs.fit_transform(X_train)\n",
    "# X_test_scaled = rs.transform(X_test)\n",
    "# X_scaled = pd.DataFrame(rs.fit_transform(X_train), columns=X_train.columns)\n",
    "# X_test_scaled = pd.DataFrame(rs.transform(X_test), columns=X_test.columns)"
   ]
  },
  {
   "cell_type": "code",
   "execution_count": 549,
   "id": "d6406365",
   "metadata": {
    "ExecuteTime": {
     "end_time": "2025-03-23T07:16:08.504080Z",
     "start_time": "2025-03-23T07:16:08.491802Z"
    }
   },
   "outputs": [],
   "source": [
    "# # приводим признаки к одной шкале, MinMaxScaler() чувствителен к выбросам \n",
    "# rs = MinMaxScaler()\n",
    "# X_scaled = pd.DataFrame(rs.fit_transform(X_train), columns=X_train.columns)\n",
    "# X_test_scaled = pd.DataFrame(rs.transform(X_test), columns=X_test.columns)"
   ]
  },
  {
   "cell_type": "code",
   "execution_count": 550,
   "id": "41b61cc6",
   "metadata": {
    "ExecuteTime": {
     "end_time": "2025-03-23T07:16:18.944636Z",
     "start_time": "2025-03-23T07:16:08.509228Z"
    }
   },
   "outputs": [
    {
     "name": "stdout",
     "output_type": "stream",
     "text": [
      "xgb train score = 0.9126463304959429\n",
      "xgb test score = 0.984406734267243\n",
      "              precision    recall  f1-score   support\n",
      "\n",
      "           0       0.99      0.89      0.94    132321\n",
      "           1       0.09      0.68      0.16      2096\n",
      "\n",
      "    accuracy                           0.88    134417\n",
      "   macro avg       0.54      0.79      0.55    134417\n",
      "weighted avg       0.98      0.88      0.93    134417\n",
      "\n",
      "xgb AUC: 0.7857960773999108\n",
      "xgb Gini: 0.5715921547998215\n"
     ]
    }
   ],
   "source": [
    "# my version\n",
    "\n",
    "X_train, X_test, y_train, y_test = train_test_split(X, y, random_state=42, stratify=y)\n",
    "\n",
    "rs = MinMaxScaler()\n",
    "X_scaled = rs.fit_transform(X_train)\n",
    "X_test_scaled = rs.transform(X_test)\n",
    "\n",
    "smote = SMOTE(random_state=42)\n",
    "X_balanced, y_balanced = smote.fit_resample(X_scaled, y_train)\n",
    "\n",
    "xgb = XGBClassifier(random_state = 42, n_estimators = 300)\n",
    "model = xgb.fit(X_balanced, y_balanced)\n",
    "xgb_prediction = xgb.predict(X_test_scaled)\n",
    "\n",
    "train_score = xgb.score(X_balanced, y_balanced)\n",
    "test_score = xgb.score(X_test, y_test)"
   ]
  },
  {
   "cell_type": "code",
   "execution_count": null,
   "id": "8898480f",
   "metadata": {},
   "outputs": [],
   "source": [
    "print(f\"xgb train score = {train_score}\")\n",
    "print(f\"xgb test score = {test_score}\")\n",
    "\n",
    "print(classification_report(y_test, xgb_prediction)) #1 xgb\n",
    "\n",
    "# Вычисляем AUC\n",
    "auc = roc_auc_score(y_test, xgb_prediction)\n",
    "\n",
    "# Вычисляем коэффициент Джини\n",
    "gini = 2 * auc - 1\n",
    "print(f\"xgb AUC: {auc}\")\n",
    "print(f\"xgb Gini: {gini}\")\n",
    "\n",
    "\n",
    "cm = confusion_matrix(y_test, xgb_prediction)\n",
    "print(\"Confusion Matrix:\\n\", cm)"
   ]
  },
  {
   "cell_type": "code",
   "execution_count": 555,
   "id": "e92caade",
   "metadata": {
    "ExecuteTime": {
     "end_time": "2025-03-23T07:16:19.019032Z",
     "start_time": "2025-03-23T07:16:19.004545Z"
    }
   },
   "outputs": [],
   "source": [
    "# def calculate_psi(expected, actual, bins=10, epsilon=1e-6):\n",
    "#     # Разбиваем данные на бины\n",
    "#     breakpoints = np.histogram_bin_edges(expected, bins=bins)\n",
    "#     expected_counts, _ = np.histogram(expected, bins=breakpoints)\n",
    "#     actual_counts, _ = np.histogram(actual, bins=breakpoints)\n",
    "    \n",
    "#     # Добавляем epsilon, чтобы избежать деления на ноль\n",
    "#     expected_counts = expected_counts + epsilon\n",
    "#     actual_counts = actual_counts + epsilon\n",
    "    \n",
    "#     # Нормализуем до процентов\n",
    "#     expected_percents = expected_counts / np.sum(expected_counts)\n",
    "#     actual_percents = actual_counts / np.sum(actual_counts)\n",
    "    \n",
    "#     # Рассчитываем PSI\n",
    "#     psi = np.sum((actual_percents - expected_percents) * np.log(actual_percents / expected_percents))\n",
    "    \n",
    "#     return psi\n",
    "\n",
    "# def calculate_psi_for_dataframe(df_expected, df_actual, bins=10):\n",
    "#     psi_results = {}\n",
    "    \n",
    "#     for column in df_expected.columns:\n",
    "#         expected = df_expected[column]\n",
    "#         actual = df_actual[column]\n",
    "#         psi_value = calculate_psi(expected, actual, bins=bins)\n",
    "#         psi_results[column] = psi_value\n",
    "    \n",
    "#     return psi_results"
   ]
  },
  {
   "cell_type": "code",
   "execution_count": 556,
   "id": "b1f42d3f",
   "metadata": {
    "ExecuteTime": {
     "end_time": "2025-03-23T07:16:19.035906Z",
     "start_time": "2025-03-23T07:16:19.021101Z"
    }
   },
   "outputs": [],
   "source": [
    "# # Рассчитываем PSI для всех признаков\n",
    "# psi_results = calculate_psi_for_dataframe(X_balanced, X_test_balanced, bins=10)\n",
    "\n",
    "# # Выводим результаты\n",
    "# for feature, psi in psi_results.items():\n",
    "#     print(f\"PSI для признака {feature}: {psi:.4f}\")"
   ]
  },
  {
   "cell_type": "code",
   "execution_count": 557,
   "id": "b959b60e",
   "metadata": {
    "ExecuteTime": {
     "end_time": "2025-03-23T07:16:19.052548Z",
     "start_time": "2025-03-23T07:16:19.039592Z"
    }
   },
   "outputs": [],
   "source": [
    "# classifiers = {\n",
    "#     \"LogisticRegression\" : LogisticRegression(max_iter=1000),\n",
    "#     \"KNeighbors\" : KNeighborsClassifier(),\n",
    "#     \"SVC\" : SVC(),\n",
    "#     \"DecisionTree\" : DecisionTreeClassifier(),\n",
    "#     \"RandomForest\" : RandomForestClassifier(),\n",
    "#     \"XGBoost\" : XGBClassifier()\n",
    "# }"
   ]
  },
  {
   "cell_type": "code",
   "execution_count": 558,
   "id": "d2ca2a8f",
   "metadata": {
    "ExecuteTime": {
     "end_time": "2025-03-23T07:16:19.069204Z",
     "start_time": "2025-03-23T07:16:19.057164Z"
    }
   },
   "outputs": [],
   "source": [
    "# train_scores = []\n",
    "# test_scores = []\n",
    "\n",
    "# for key, classifier in classifiers.items():\n",
    "#     classifier.fit(X_balanced, y_balanced)\n",
    "#     train_score = classifier.score(X_balanced, y_balanced)\n",
    "#     train_scores.append(train_score)\n",
    "#     test_score = classifier.score(X_test, y_test)\n",
    "#     test_scores.append(test_score)\n",
    "\n",
    "# print(train_scores)\n",
    "# print(test_scores)"
   ]
  },
  {
   "cell_type": "code",
   "execution_count": 562,
   "id": "f179622c",
   "metadata": {
    "ExecuteTime": {
     "end_time": "2025-03-23T07:16:19.119238Z",
     "start_time": "2025-03-23T07:16:19.106227Z"
    }
   },
   "outputs": [],
   "source": []
  },
  {
   "cell_type": "code",
   "execution_count": 563,
   "id": "97081957",
   "metadata": {
    "ExecuteTime": {
     "end_time": "2025-03-23T07:16:19.136026Z",
     "start_time": "2025-03-23T07:16:19.123510Z"
    }
   },
   "outputs": [],
   "source": [
    "# import shap\n",
    "\n",
    "# # Создание explainer\n",
    "# explainer = shap.TreeExplainer(model)\n",
    "# shap_values = explainer.shap_values(X_balanced)\n",
    "\n",
    "# # Визуализация значимости признаков\n",
    "# shap.summary_plot(shap_values, X_balanced, feature_names=X_balanced.columns)"
   ]
  },
  {
   "cell_type": "code",
   "execution_count": 564,
   "id": "e94520f4",
   "metadata": {
    "ExecuteTime": {
     "end_time": "2025-03-23T07:16:19.146232Z",
     "start_time": "2025-03-23T07:16:19.140698Z"
    }
   },
   "outputs": [],
   "source": [
    "# explainer = shap.TreeExplainer(model)\n",
    "# shap_values = explainer(X_balanced)\n",
    "# shap.plots.waterfall(shap_values[0])"
   ]
  },
  {
   "cell_type": "code",
   "execution_count": 565,
   "id": "5bfd3dcc",
   "metadata": {
    "ExecuteTime": {
     "end_time": "2025-03-23T07:16:19.155984Z",
     "start_time": "2025-03-23T07:16:19.149167Z"
    }
   },
   "outputs": [],
   "source": [
    "# explainer = shap.TreeExplainer(model)\n",
    "# shap_values = explainer(X_balanced)\n",
    "# shap.plots.waterfall(shap_values[1])"
   ]
  },
  {
   "cell_type": "code",
   "execution_count": 566,
   "id": "19eec55f",
   "metadata": {
    "ExecuteTime": {
     "end_time": "2025-03-23T07:16:19.169061Z",
     "start_time": "2025-03-23T07:16:19.156453Z"
    }
   },
   "outputs": [],
   "source": [
    "# shap.plots.bar(shap_values)"
   ]
  },
  {
   "cell_type": "code",
   "execution_count": 567,
   "id": "0294eebc",
   "metadata": {
    "ExecuteTime": {
     "end_time": "2025-03-23T07:16:19.185808Z",
     "start_time": "2025-03-23T07:16:19.173299Z"
    }
   },
   "outputs": [],
   "source": [
    "# logreg = LogisticRegression(max_iter=1000)\n",
    "# model = logreg.fit(X_balanced, y_balanced)\n",
    "# train_score = logreg.score(X_balanced, y_balanced)\n",
    "# test_score = logreg.score(X_test, y_test)\n",
    "# logreg_prediction = logreg.predict(X_test)\n",
    "\n",
    "# print(f\"logreg train score = {train_score}\")\n",
    "# print(f\"logreg test score = {test_score}\")"
   ]
  },
  {
   "cell_type": "code",
   "execution_count": 568,
   "id": "0f2c64e9",
   "metadata": {
    "ExecuteTime": {
     "end_time": "2025-03-23T07:16:19.200934Z",
     "start_time": "2025-03-23T07:16:19.189812Z"
    }
   },
   "outputs": [],
   "source": [
    "# print(classification_report(y_test, logreg_prediction)) #logreg"
   ]
  },
  {
   "cell_type": "code",
   "execution_count": 569,
   "id": "84d81a11",
   "metadata": {
    "ExecuteTime": {
     "end_time": "2025-03-23T07:16:19.219695Z",
     "start_time": "2025-03-23T07:16:19.204438Z"
    }
   },
   "outputs": [],
   "source": [
    "# # Вычисляем AUC\n",
    "# auc = roc_auc_score(y_test, logreg_prediction)\n",
    "\n",
    "# # Вычисляем коэффициент Джини\n",
    "# gini = 2 * auc - 1\n",
    "# print(f\"logreg AUC: {auc}\")\n",
    "# print(f\"logreg Gini: {gini}\")"
   ]
  },
  {
   "cell_type": "code",
   "execution_count": null,
   "id": "f0cbff70",
   "metadata": {},
   "outputs": [],
   "source": []
  },
  {
   "cell_type": "code",
   "execution_count": null,
   "id": "0a4d102d",
   "metadata": {},
   "outputs": [],
   "source": []
  },
  {
   "cell_type": "code",
   "execution_count": null,
   "id": "c0061f37",
   "metadata": {},
   "outputs": [],
   "source": []
  }
 ],
 "metadata": {
  "kernelspec": {
   "display_name": "Python 3 (ipykernel)",
   "language": "python",
   "name": "python3"
  },
  "language_info": {
   "codemirror_mode": {
    "name": "ipython",
    "version": 3
   },
   "file_extension": ".py",
   "mimetype": "text/x-python",
   "name": "python",
   "nbconvert_exporter": "python",
   "pygments_lexer": "ipython3",
   "version": "3.9.12"
  },
  "toc": {
   "base_numbering": 1,
   "nav_menu": {},
   "number_sections": true,
   "sideBar": true,
   "skip_h1_title": false,
   "title_cell": "Table of Contents",
   "title_sidebar": "Contents",
   "toc_cell": false,
   "toc_position": {},
   "toc_section_display": true,
   "toc_window_display": false
  }
 },
 "nbformat": 4,
 "nbformat_minor": 5
}
