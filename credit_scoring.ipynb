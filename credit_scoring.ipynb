{
 "cells": [
  {
   "cell_type": "code",
   "execution_count": 1475,
   "id": "1f8f695e",
   "metadata": {
    "ExecuteTime": {
     "end_time": "2025-03-19T13:49:34.368128Z",
     "start_time": "2025-03-19T13:49:34.354705Z"
    }
   },
   "outputs": [],
   "source": [
    "import pandas as pd\n",
    "import numpy as np\n",
    "import seaborn as sns\n",
    "import matplotlib.pyplot as plt\n",
    "\n",
    "from imblearn.over_sampling import SMOTE, ADASYN\n",
    "from sklearn.model_selection import train_test_split\n",
    "from sklearn.linear_model import LogisticRegression\n",
    "from sklearn.neighbors import KNeighborsClassifier\n",
    "from sklearn.svm import SVC\n",
    "from sklearn.tree import DecisionTreeClassifier\n",
    "from sklearn.ensemble import RandomForestClassifier\n",
    "from xgboost import XGBClassifier\n",
    "from sklearn.metrics import accuracy_score, classification_report, confusion_matrix\n",
    "from sklearn.preprocessing import LabelEncoder\n",
    "import category_encoders as ce\n",
    "from sklearn.preprocessing import RobustScaler\n",
    "from scipy.stats import pearsonr, spearmanr, chi2_contingency\n",
    "from sklearn.metrics import roc_auc_score\n",
    "from scipy.stats import zscore\n",
    "\n",
    "from sklearn.metrics import classification_report"
   ]
  },
  {
   "cell_type": "code",
   "execution_count": 1476,
   "id": "f18ed17d",
   "metadata": {
    "ExecuteTime": {
     "end_time": "2025-03-19T13:49:35.842376Z",
     "start_time": "2025-03-19T13:49:34.372005Z"
    }
   },
   "outputs": [],
   "source": [
    "ar = pd.read_csv('data/application_record.zip', compression='zip')\n",
    "cr = pd.read_csv('data/credit_record.zip', compression='zip')"
   ]
  },
  {
   "cell_type": "code",
   "execution_count": 1477,
   "id": "2bda785c",
   "metadata": {
    "ExecuteTime": {
     "end_time": "2025-03-19T13:49:36.491812Z",
     "start_time": "2025-03-19T13:49:35.844341Z"
    }
   },
   "outputs": [
    {
     "name": "stdout",
     "output_type": "stream",
     "text": [
      "<class 'pandas.core.frame.DataFrame'>\n",
      "RangeIndex: 438557 entries, 0 to 438556\n",
      "Data columns (total 18 columns):\n",
      " #   Column               Non-Null Count   Dtype  \n",
      "---  ------               --------------   -----  \n",
      " 0   ID                   438557 non-null  int64  \n",
      " 1   CODE_GENDER          438557 non-null  object \n",
      " 2   FLAG_OWN_CAR         438557 non-null  object \n",
      " 3   FLAG_OWN_REALTY      438557 non-null  object \n",
      " 4   CNT_CHILDREN         438557 non-null  int64  \n",
      " 5   AMT_INCOME_TOTAL     438557 non-null  float64\n",
      " 6   NAME_INCOME_TYPE     438557 non-null  object \n",
      " 7   NAME_EDUCATION_TYPE  438557 non-null  object \n",
      " 8   NAME_FAMILY_STATUS   438557 non-null  object \n",
      " 9   NAME_HOUSING_TYPE    438557 non-null  object \n",
      " 10  DAYS_BIRTH           438557 non-null  int64  \n",
      " 11  DAYS_EMPLOYED        438557 non-null  int64  \n",
      " 12  FLAG_MOBIL           438557 non-null  int64  \n",
      " 13  FLAG_WORK_PHONE      438557 non-null  int64  \n",
      " 14  FLAG_PHONE           438557 non-null  int64  \n",
      " 15  FLAG_EMAIL           438557 non-null  int64  \n",
      " 16  OCCUPATION_TYPE      304354 non-null  object \n",
      " 17  CNT_FAM_MEMBERS      438557 non-null  float64\n",
      "dtypes: float64(2), int64(8), object(8)\n",
      "memory usage: 60.2+ MB\n"
     ]
    }
   ],
   "source": [
    "# общая информация о датасете\n",
    "ar.info()"
   ]
  },
  {
   "cell_type": "code",
   "execution_count": 1478,
   "id": "16c6e42b",
   "metadata": {
    "ExecuteTime": {
     "end_time": "2025-03-19T13:49:36.539854Z",
     "start_time": "2025-03-19T13:49:36.494810Z"
    }
   },
   "outputs": [
    {
     "data": {
      "text/plain": [
       "438510"
      ]
     },
     "execution_count": 1478,
     "metadata": {},
     "output_type": "execute_result"
    }
   ],
   "source": [
    "# количество уникальных ID (при общем количестве 438 557)\n",
    "ar['ID'].nunique()"
   ]
  },
  {
   "cell_type": "code",
   "execution_count": 1479,
   "id": "14e1a8a1",
   "metadata": {
    "ExecuteTime": {
     "end_time": "2025-03-19T13:49:36.698421Z",
     "start_time": "2025-03-19T13:49:36.542853Z"
    }
   },
   "outputs": [
    {
     "data": {
      "text/plain": [
       "(438510, 18)"
      ]
     },
     "execution_count": 1479,
     "metadata": {},
     "output_type": "execute_result"
    }
   ],
   "source": [
    "# избавляемся от дубликатов в исходном датафрейме\n",
    "ar.drop_duplicates('ID', keep='last', inplace=True)\n",
    "ar.shape"
   ]
  },
  {
   "cell_type": "code",
   "execution_count": 1480,
   "id": "d533e86e",
   "metadata": {
    "ExecuteTime": {
     "end_time": "2025-03-19T13:49:36.903384Z",
     "start_time": "2025-03-19T13:49:36.700314Z"
    }
   },
   "outputs": [
    {
     "name": "stdout",
     "output_type": "stream",
     "text": [
      "<class 'pandas.core.frame.DataFrame'>\n",
      "RangeIndex: 1048575 entries, 0 to 1048574\n",
      "Data columns (total 3 columns):\n",
      " #   Column          Non-Null Count    Dtype \n",
      "---  ------          --------------    ----- \n",
      " 0   ID              1048575 non-null  int64 \n",
      " 1   MONTHS_BALANCE  1048575 non-null  int64 \n",
      " 2   STATUS          1048575 non-null  object\n",
      "dtypes: int64(2), object(1)\n",
      "memory usage: 24.0+ MB\n"
     ]
    }
   ],
   "source": [
    "# общая информация о датасете, содержащем данные о просрочках по кредиту\n",
    "cr.info()"
   ]
  },
  {
   "cell_type": "code",
   "execution_count": 1481,
   "id": "d4a60ba6",
   "metadata": {
    "ExecuteTime": {
     "end_time": "2025-03-19T13:49:36.934787Z",
     "start_time": "2025-03-19T13:49:36.905428Z"
    }
   },
   "outputs": [
    {
     "data": {
      "text/plain": [
       "45985"
      ]
     },
     "execution_count": 1481,
     "metadata": {},
     "output_type": "execute_result"
    }
   ],
   "source": [
    "# количество уникальных ID\n",
    "cr['ID'].unique().size"
   ]
  },
  {
   "cell_type": "code",
   "execution_count": 1482,
   "id": "df0f34c1",
   "metadata": {
    "ExecuteTime": {
     "end_time": "2025-03-19T13:49:37.597183Z",
     "start_time": "2025-03-19T13:49:36.937787Z"
    }
   },
   "outputs": [
    {
     "data": {
      "text/plain": [
       "ID                          0\n",
       "CODE_GENDER                 0\n",
       "FLAG_OWN_CAR                0\n",
       "FLAG_OWN_REALTY             0\n",
       "CNT_CHILDREN                0\n",
       "AMT_INCOME_TOTAL            0\n",
       "NAME_INCOME_TYPE            0\n",
       "NAME_EDUCATION_TYPE         0\n",
       "NAME_FAMILY_STATUS          0\n",
       "NAME_HOUSING_TYPE           0\n",
       "DAYS_BIRTH                  0\n",
       "DAYS_EMPLOYED               0\n",
       "FLAG_MOBIL                  0\n",
       "FLAG_WORK_PHONE             0\n",
       "FLAG_PHONE                  0\n",
       "FLAG_EMAIL                  0\n",
       "OCCUPATION_TYPE        134187\n",
       "CNT_FAM_MEMBERS             0\n",
       "dtype: int64"
      ]
     },
     "execution_count": 1482,
     "metadata": {},
     "output_type": "execute_result"
    }
   ],
   "source": [
    "# смотрим по каким признакам есть нулевые значения\n",
    "ar.isnull().sum()"
   ]
  },
  {
   "cell_type": "code",
   "execution_count": null,
   "id": "e78cce3d",
   "metadata": {
    "ExecuteTime": {
     "start_time": "2025-03-19T13:49:32.875Z"
    }
   },
   "outputs": [],
   "source": [
    "# проверяем наличие нулевых значений с помощью визуализации\n",
    "sns.heatmap(ar.isnull())"
   ]
  },
  {
   "cell_type": "code",
   "execution_count": null,
   "id": "63e1d5c0",
   "metadata": {
    "ExecuteTime": {
     "start_time": "2025-03-19T13:49:32.876Z"
    }
   },
   "outputs": [],
   "source": [
    "# слишком много пропущенных значений в поле OCCUPATION_TYPE, избавляемся от него\n",
    "ar.drop('OCCUPATION_TYPE', axis=1, inplace=True)"
   ]
  },
  {
   "cell_type": "code",
   "execution_count": null,
   "id": "90bae77b",
   "metadata": {
    "ExecuteTime": {
     "start_time": "2025-03-19T13:49:32.876Z"
    }
   },
   "outputs": [],
   "source": [
    "# проверяем наличие нулевых значений с помощью визуализации\n",
    "sns.heatmap(ar.isnull())"
   ]
  },
  {
   "cell_type": "code",
   "execution_count": null,
   "id": "0b1d22e9",
   "metadata": {
    "ExecuteTime": {
     "start_time": "2025-03-19T13:49:32.877Z"
    }
   },
   "outputs": [],
   "source": [
    "# проверяем наличие нулевых значений с помощью визуализации\n",
    "sns.heatmap(cr.isnull())"
   ]
  },
  {
   "cell_type": "code",
   "execution_count": null,
   "id": "cb2fb8ac",
   "metadata": {
    "ExecuteTime": {
     "start_time": "2025-03-19T13:49:32.877Z"
    }
   },
   "outputs": [],
   "source": [
    "variances = ar.select_dtypes(include=['number']).var()\n",
    "print(\"Дисперсия признаков:\\n\", variances)"
   ]
  },
  {
   "cell_type": "code",
   "execution_count": null,
   "id": "a9071efe",
   "metadata": {
    "ExecuteTime": {
     "start_time": "2025-03-19T13:49:32.878Z"
    }
   },
   "outputs": [],
   "source": [
    "# очень низкая дисперсия, избавляемся от него\n",
    "ar.drop('FLAG_MOBIL', axis=1, inplace=True)"
   ]
  },
  {
   "cell_type": "code",
   "execution_count": null,
   "id": "3fa83fc2",
   "metadata": {
    "ExecuteTime": {
     "start_time": "2025-03-19T13:49:32.878Z"
    }
   },
   "outputs": [],
   "source": [
    "cr['STATUS'].value_counts() "
   ]
  },
  {
   "cell_type": "markdown",
   "id": "7f135a4e",
   "metadata": {},
   "source": [
    "- **0:** 1-29 days past due \n",
    "- **1:** 30-59 days past due \n",
    "- **2:** 60-89 days overdue \n",
    "- **3:** 90-119 days overdue \n",
    "- **4:** 120-149 days overdue \n",
    "- **5:** Overdue or bad debts, write-offs for more than 150 days \n",
    "- **C:** paid off that month \n",
    "- **X:** No loan for the month"
   ]
  },
  {
   "cell_type": "code",
   "execution_count": null,
   "id": "27ef76cd",
   "metadata": {
    "ExecuteTime": {
     "start_time": "2025-03-19T13:49:32.879Z"
    }
   },
   "outputs": [],
   "source": [
    "cr['STATUS'] = cr['STATUS'].replace({'C' : 0, 'X' : 0})\n",
    "cr['STATUS'] = cr['STATUS'].astype(int)\n",
    "cr['STATUS'].value_counts() "
   ]
  },
  {
   "cell_type": "code",
   "execution_count": null,
   "id": "769414db",
   "metadata": {
    "ExecuteTime": {
     "start_time": "2025-03-19T13:49:32.880Z"
    }
   },
   "outputs": [],
   "source": [
    "overdue = cr.copy()\n"
   ]
  },
  {
   "cell_type": "code",
   "execution_count": null,
   "id": "495246a2",
   "metadata": {
    "ExecuteTime": {
     "start_time": "2025-03-19T13:49:32.881Z"
    }
   },
   "outputs": [],
   "source": [
    "overdue = overdue.groupby('ID').agg(max).reset_index()\n",
    "overdue.drop('MONTHS_BALANCE', axis=1, inplace=True)\n",
    "overdue"
   ]
  },
  {
   "cell_type": "code",
   "execution_count": null,
   "id": "5f626810",
   "metadata": {
    "ExecuteTime": {
     "start_time": "2025-03-19T13:49:32.882Z"
    }
   },
   "outputs": [],
   "source": [
    "df = ar.join(overdue.set_index('ID'), on='ID', how='inner')\n",
    "df.head()"
   ]
  },
  {
   "cell_type": "code",
   "execution_count": null,
   "id": "d5776f02",
   "metadata": {
    "ExecuteTime": {
     "start_time": "2025-03-19T13:49:32.883Z"
    }
   },
   "outputs": [],
   "source": [
    "# cr['STATUS'] = cr['STATUS'].apply(lambda x: 1 if x >= 1 else 0)\n",
    "# cr['STATUS'].value_counts() \n",
    "\n",
    "df['STATUS'] = df['STATUS'].apply(lambda x: 1 if x >= 1 else 0)\n",
    "df['STATUS'].value_counts() "
   ]
  },
  {
   "cell_type": "code",
   "execution_count": null,
   "id": "3edbfcf9",
   "metadata": {
    "ExecuteTime": {
     "start_time": "2025-03-19T13:49:32.883Z"
    }
   },
   "outputs": [],
   "source": [
    "# # убираем поле с информацией о дате просрочки, оставляем только таргет\n",
    "# cr = cr.groupby('ID').agg(max).reset_index()\n",
    "# cr.drop('MONTHS_BALANCE', axis=1, inplace=True)\n",
    "# cr"
   ]
  },
  {
   "cell_type": "code",
   "execution_count": null,
   "id": "ef8f1e20",
   "metadata": {
    "ExecuteTime": {
     "start_time": "2025-03-19T13:49:32.884Z"
    }
   },
   "outputs": [],
   "source": [
    "# # объединяем в итоговом датафрейме признаки с таргетом\n",
    "# df = ar.join(cr.set_index('ID'), on='ID', how='inner')\n",
    "# df.head()"
   ]
  },
  {
   "cell_type": "code",
   "execution_count": null,
   "id": "282342a9",
   "metadata": {
    "ExecuteTime": {
     "start_time": "2025-03-19T13:49:32.885Z"
    }
   },
   "outputs": [],
   "source": [
    "# Вставляем доп.признак с количеством дней просрочки на предпоследнюю позицию\n",
    "# df.insert(len(df.columns) - 1, 'OVERDUE', df['STATUS'])\n",
    "\n",
    "# df['OVERDUE'].value_counts()"
   ]
  },
  {
   "cell_type": "code",
   "execution_count": null,
   "id": "7c4fc3a4",
   "metadata": {
    "ExecuteTime": {
     "start_time": "2025-03-19T13:49:32.885Z"
    }
   },
   "outputs": [],
   "source": [
    "# df['STATUS'].value_counts() "
   ]
  },
  {
   "cell_type": "code",
   "execution_count": null,
   "id": "f39c857b",
   "metadata": {
    "ExecuteTime": {
     "start_time": "2025-03-19T13:49:32.885Z"
    }
   },
   "outputs": [],
   "source": [
    "# df['STATUS'] = df['STATUS'].apply(lambda x: 1 if x >= 1 else 0)\n",
    "# df['STATUS'].value_counts() "
   ]
  },
  {
   "cell_type": "code",
   "execution_count": null,
   "id": "6ce638b1",
   "metadata": {
    "ExecuteTime": {
     "start_time": "2025-03-19T13:49:32.886Z"
    }
   },
   "outputs": [],
   "source": [
    "# Вычисление матрицы корреляций\n",
    "corr_matrix = df.corr()\n",
    "\n",
    "plt.figure(figsize=(10, 8))\n",
    "sns.heatmap(corr_matrix, annot=True, cmap='coolwarm', fmt='.2f')\n",
    "plt.title('Матрица корреляций (Пирсон)')\n",
    "plt.show()"
   ]
  },
  {
   "cell_type": "code",
   "execution_count": null,
   "id": "c0c2a35a",
   "metadata": {
    "ExecuteTime": {
     "start_time": "2025-03-19T13:49:32.886Z"
    }
   },
   "outputs": [],
   "source": [
    "correlation_results = []\n",
    "\n",
    "# Проходим по всем числовым признакам\n",
    "for col in df.select_dtypes(include=['float64', 'int64']).columns:\n",
    "    if col != 'target':\n",
    "        pearson_corr, _ = pearsonr(df[col], df['STATUS'])\n",
    "        spearman_corr, _ = spearmanr(df[col], df['STATUS'])\n",
    "        correlation_results.append((col, pearson_corr, spearman_corr))\n",
    "\n",
    "# Создаем DataFrame с результатами\n",
    "correlation_df = pd.DataFrame(correlation_results, columns=['Feature', 'Pearson', 'Spearman'])\n",
    "print(correlation_df.sort_values(by='Pearson', ascending=False))"
   ]
  },
  {
   "cell_type": "code",
   "execution_count": null,
   "id": "6fe847e7",
   "metadata": {
    "ExecuteTime": {
     "start_time": "2025-03-19T13:49:32.887Z"
    }
   },
   "outputs": [],
   "source": [
    "# from statsmodels.stats.outliers_influence import variance_inflation_factor\n",
    "\n",
    "# vif_data = pd.DataFrame()\n",
    "# vif_data['Feature'] = df.columns\n",
    "# vif_data['VIF'] = [variance_inflation_factor(df.values, i) for i in range(df.shape[1])]\n",
    "# print(vif_data)\n",
    "# VIF > 5 или 10 указывает на сильную мультиколлинеарность."
   ]
  },
  {
   "cell_type": "code",
   "execution_count": null,
   "id": "e0dba36f",
   "metadata": {
    "ExecuteTime": {
     "start_time": "2025-03-19T13:49:32.887Z"
    }
   },
   "outputs": [],
   "source": [
    "# df.drop('CNT_FAM_MEMBERS', axis=1, inplace=True)\n",
    "df.drop('CNT_CHILDREN', axis=1, inplace=True)\n",
    "df.drop('NAME_FAMILY_STATUS', axis=1, inplace=True)\n",
    "df.drop('NAME_EDUCATION_TYPE', axis=1, inplace=True)\n",
    "# df.drop('DAYS_BIRTH', axis=1, inplace=True)\n",
    "df.drop('DAYS_EMPLOYED', axis=1, inplace=True)\n",
    "# df.drop('CODE_GENDER', axis=1, inplace=True)\n",
    "# df.drop('FLAG_PHONE', axis=1, inplace=True)\n",
    "# df.drop('FLAG_WORK_PHONE', axis=1, inplace=True)\n",
    "# df.drop('FLAG_EMAIL', axis=1, inplace=True)"
   ]
  },
  {
   "cell_type": "markdown",
   "id": "56175fe0",
   "metadata": {},
   "source": [
    "В соответствии с типом признака (номинальный или порядковым) и количеством уникальных значений определим каким образом будем кодировать категориальные переменные."
   ]
  },
  {
   "cell_type": "code",
   "execution_count": null,
   "id": "9618006e",
   "metadata": {
    "ExecuteTime": {
     "start_time": "2025-03-19T13:49:32.888Z"
    }
   },
   "outputs": [],
   "source": [
    "# смотрим типы данных\n",
    "df.dtypes"
   ]
  },
  {
   "cell_type": "code",
   "execution_count": null,
   "id": "089046bb",
   "metadata": {
    "ExecuteTime": {
     "start_time": "2025-03-19T13:49:32.889Z"
    }
   },
   "outputs": [],
   "source": [
    "object_type = pd.DataFrame(df.dtypes =='object').reset_index()\n",
    "object_type = object_type[object_type[0] == True]['index']\n",
    "object_type"
   ]
  },
  {
   "cell_type": "code",
   "execution_count": null,
   "id": "695466dc",
   "metadata": {
    "ExecuteTime": {
     "start_time": "2025-03-19T13:49:32.889Z"
    }
   },
   "outputs": [],
   "source": [
    "df['FLAG_OWN_CAR'].value_counts() # binary encoder"
   ]
  },
  {
   "cell_type": "code",
   "execution_count": null,
   "id": "c5d58726",
   "metadata": {
    "ExecuteTime": {
     "start_time": "2025-03-19T13:49:32.890Z"
    }
   },
   "outputs": [],
   "source": [
    "df['FLAG_OWN_REALTY'].value_counts()"
   ]
  },
  {
   "cell_type": "code",
   "execution_count": null,
   "id": "bcbded23",
   "metadata": {
    "ExecuteTime": {
     "start_time": "2025-03-19T13:49:32.890Z"
    }
   },
   "outputs": [],
   "source": [
    "df['NAME_INCOME_TYPE'].value_counts() # не все значения одинаково часто встречаются, TargetEncoding не подойдет, но порядковый - LabelEncoding"
   ]
  },
  {
   "cell_type": "code",
   "execution_count": null,
   "id": "69fdc40b",
   "metadata": {
    "ExecuteTime": {
     "start_time": "2025-03-19T13:49:32.891Z"
    }
   },
   "outputs": [],
   "source": [
    "df['NAME_HOUSING_TYPE'].value_counts() # не все значения одинаково часто встречаются, target encoding не подойдет -> BinaryEncoding"
   ]
  },
  {
   "cell_type": "code",
   "execution_count": null,
   "id": "830bcc4d",
   "metadata": {
    "ExecuteTime": {
     "start_time": "2025-03-19T13:49:32.891Z"
    }
   },
   "outputs": [],
   "source": [
    "# попробуем просто заменить на 0 и 1\n",
    "df['FLAG_OWN_CAR'] = df['FLAG_OWN_CAR'].replace({'Y' : 1, 'N' : 0})\n",
    "df['FLAG_OWN_REALTY'] = df['FLAG_OWN_REALTY'].replace({'Y' : 1, 'N' : 0})\n",
    "df['CODE_GENDER'] = df['CODE_GENDER'].replace({'F' : 1, 'M' : 0})"
   ]
  },
  {
   "cell_type": "code",
   "execution_count": null,
   "id": "72089d48",
   "metadata": {
    "ExecuteTime": {
     "start_time": "2025-03-19T13:49:32.891Z"
    }
   },
   "outputs": [],
   "source": [
    "#  кодируем категориальный порядковый признак\n",
    "le = LabelEncoder()\n",
    "df['NAME_INCOME_TYPE'] = le.fit_transform(df['NAME_INCOME_TYPE'])\n",
    "df['NAME_HOUSING_TYPE'] = le.fit_transform(df['NAME_HOUSING_TYPE'])\n",
    "# df['NAME_EDUCATION_TYPE'] = le.fit_transform(df['NAME_EDUCATION_TYPE'])"
   ]
  },
  {
   "cell_type": "code",
   "execution_count": null,
   "id": "4608d3bb",
   "metadata": {
    "ExecuteTime": {
     "start_time": "2025-03-19T13:49:32.892Z"
    }
   },
   "outputs": [],
   "source": [
    "# mean_encoding = df.groupby('NAME_FAMILY_STATUS')['STATUS'].mean()\n",
    "# df['NAME_FAMILY_STATUS'] = df['NAME_FAMILY_STATUS'].map(mean_encoding)"
   ]
  },
  {
   "cell_type": "code",
   "execution_count": null,
   "id": "10240141",
   "metadata": {
    "ExecuteTime": {
     "start_time": "2025-03-19T13:49:32.892Z"
    }
   },
   "outputs": [],
   "source": [
    "# смотрим типы данных\n",
    "df.dtypes"
   ]
  },
  {
   "cell_type": "code",
   "execution_count": null,
   "id": "20194b25",
   "metadata": {
    "ExecuteTime": {
     "start_time": "2025-03-19T13:49:32.893Z"
    }
   },
   "outputs": [],
   "source": [
    "df"
   ]
  },
  {
   "cell_type": "code",
   "execution_count": null,
   "id": "8d690f3f",
   "metadata": {
    "ExecuteTime": {
     "start_time": "2025-03-19T13:49:32.893Z"
    }
   },
   "outputs": [],
   "source": [
    "df['STATUS'].value_counts()"
   ]
  },
  {
   "cell_type": "code",
   "execution_count": null,
   "id": "110685a7",
   "metadata": {},
   "outputs": [],
   "source": []
  },
  {
   "cell_type": "code",
   "execution_count": null,
   "id": "c1f9b4cb",
   "metadata": {},
   "outputs": [],
   "source": []
  },
  {
   "cell_type": "code",
   "execution_count": null,
   "id": "88497882",
   "metadata": {},
   "outputs": [],
   "source": []
  },
  {
   "cell_type": "code",
   "execution_count": null,
   "id": "119c4036",
   "metadata": {},
   "outputs": [],
   "source": []
  },
  {
   "cell_type": "code",
   "execution_count": null,
   "id": "58bfecc4",
   "metadata": {},
   "outputs": [],
   "source": []
  },
  {
   "cell_type": "code",
   "execution_count": null,
   "id": "686f0c7e",
   "metadata": {
    "ExecuteTime": {
     "start_time": "2025-03-19T13:49:32.895Z"
    }
   },
   "outputs": [],
   "source": [
    "# Вычисление матрицы корреляций\n",
    "corr_matrix = df.corr()\n",
    "\n",
    "plt.figure(figsize=(10, 8))\n",
    "sns.heatmap(corr_matrix, annot=True, cmap='coolwarm', fmt='.2f')\n",
    "plt.title('Матрица корреляций (Пирсон)')\n",
    "plt.show()"
   ]
  },
  {
   "cell_type": "code",
   "execution_count": null,
   "id": "ea66d073",
   "metadata": {
    "ExecuteTime": {
     "start_time": "2025-03-19T13:49:32.896Z"
    }
   },
   "outputs": [],
   "source": [
    "correlation_results = []\n",
    "\n",
    "# Проходим по всем числовым признакам\n",
    "for col in df.select_dtypes(include=['float64', 'int64']).columns:\n",
    "    if col != 'target':\n",
    "        pearson_corr, _ = pearsonr(df[col], df['STATUS'])\n",
    "        spearman_corr, _ = spearmanr(df[col], df['STATUS'])\n",
    "        correlation_results.append((col, pearson_corr, spearman_corr))\n",
    "\n",
    "# Создаем DataFrame с результатами\n",
    "correlation_df = pd.DataFrame(correlation_results, columns=['Feature', 'Pearson', 'Spearman'])\n",
    "print(correlation_df.sort_values(by='Pearson', ascending=False))"
   ]
  },
  {
   "cell_type": "code",
   "execution_count": null,
   "id": "f2988662",
   "metadata": {
    "ExecuteTime": {
     "start_time": "2025-03-19T13:49:32.897Z"
    }
   },
   "outputs": [],
   "source": [
    "# from statsmodels.stats.outliers_influence import variance_inflation_factor\n",
    "\n",
    "# vif_data = pd.DataFrame()\n",
    "# vif_data['Feature'] = df.columns\n",
    "# vif_data['VIF'] = [variance_inflation_factor(df.values, i) for i in range(df.shape[1])]\n",
    "# print(vif_data)\n",
    "# VIF > 5 или 10 указывает на сильную мультиколлинеарность."
   ]
  },
  {
   "cell_type": "code",
   "execution_count": null,
   "id": "70fdc29c",
   "metadata": {
    "ExecuteTime": {
     "start_time": "2025-03-19T13:49:32.897Z"
    }
   },
   "outputs": [],
   "source": [
    "plt.figure(figsize=(8, 6))\n",
    "sns.boxplot(x='STATUS', y='AMT_INCOME_TOTAL', data=df)\n",
    "plt.title('Распределение дохода для дефолтных и недефолтных заемщиков')\n",
    "plt.show()"
   ]
  },
  {
   "cell_type": "code",
   "execution_count": null,
   "id": "0ff5868e",
   "metadata": {
    "ExecuteTime": {
     "start_time": "2025-03-19T13:49:32.898Z"
    }
   },
   "outputs": [],
   "source": [
    "# # проверяем наличие выбросов с помощью визуализации\n",
    "\n",
    "# fig, ax = plt.subplots(nrows=3, ncols=3, figsize=(18,10))\n",
    "# sns.scatterplot(x=df['ID'], y=df['FLAG_OWN_CAR'], data=df, ax=ax[0][0])\n",
    "# sns.scatterplot(x=df['ID'], y=df['FLAG_OWN_REALTY'], data=df, ax=ax[0][1])\n",
    "# sns.scatterplot(x=df['ID'], y=df['AMT_INCOME_TOTAL'], data=df, ax=ax[0][2])\n",
    "\n",
    "# sns.scatterplot(x=df['ID'], y=df['NAME_INCOME_TYPE'], data=df, ax=ax[1][0])\n",
    "# sns.scatterplot(x=df['ID'], y=df['NAME_HOUSING_TYPE'], data=df, ax=ax[1][1])\n",
    "# sns.scatterplot(x=df['ID'], y=df['FLAG_WORK_PHONE'], data=df, ax=ax[1][2])\n",
    "\n",
    "# sns.scatterplot(x=df['ID'], y=df['FLAG_PHONE'], data=df, ax=ax[2][0])\n",
    "# sns.scatterplot(x=df['ID'], y=df['FLAG_EMAIL'], data=df, ax=ax[2][1])"
   ]
  },
  {
   "cell_type": "code",
   "execution_count": null,
   "id": "3563a651",
   "metadata": {
    "ExecuteTime": {
     "start_time": "2025-03-19T13:49:32.898Z"
    }
   },
   "outputs": [],
   "source": [
    "# # Вычисляем Z-оценки и удаляем выбросы (|Z| > 3)\n",
    "# df['z_score'] = zscore(df['AMT_INCOME_TOTAL'])\n",
    "# df = df[np.abs(df['z_score']) <= 3]"
   ]
  },
  {
   "cell_type": "code",
   "execution_count": null,
   "id": "571b2ebf",
   "metadata": {
    "ExecuteTime": {
     "start_time": "2025-03-19T13:49:32.899Z"
    }
   },
   "outputs": [],
   "source": [
    "# # Вычисляем Z-оценки и удаляем выбросы (|Z| > 3)\n",
    "# df['z_score'] = zscore(df['NAME_INCOME_TYPE'])\n",
    "# df = df[np.abs(df['z_score']) <= 3]"
   ]
  },
  {
   "cell_type": "code",
   "execution_count": null,
   "id": "81fbc359",
   "metadata": {
    "ExecuteTime": {
     "start_time": "2025-03-19T13:49:32.899Z"
    }
   },
   "outputs": [],
   "source": [
    "# # проверяем наличие выбросов с помощью визуализации после очистки\n",
    "\n",
    "# fig, ax = plt.subplots(nrows=3, ncols=3, figsize=(18,10))\n",
    "# sns.scatterplot(x=df['ID'], y=df['FLAG_OWN_CAR'], data=df, ax=ax[0][0])\n",
    "# sns.scatterplot(x=df['ID'], y=df['FLAG_OWN_REALTY'], data=df, ax=ax[0][1])\n",
    "# sns.scatterplot(x=df['ID'], y=df['AMT_INCOME_TOTAL'], data=df, ax=ax[0][2])\n",
    "\n",
    "# sns.scatterplot(x=df['ID'], y=df['NAME_INCOME_TYPE'], data=df, ax=ax[1][0])\n",
    "# sns.scatterplot(x=df['ID'], y=df['NAME_HOUSING_TYPE'], data=df, ax=ax[1][1])\n",
    "# sns.scatterplot(x=df['ID'], y=df['FLAG_WORK_PHONE'], data=df, ax=ax[1][2])\n",
    "\n",
    "# sns.scatterplot(x=df['ID'], y=df['FLAG_PHONE'], data=df, ax=ax[2][0])\n",
    "# sns.scatterplot(x=df['ID'], y=df['FLAG_EMAIL'], data=df, ax=ax[2][1])"
   ]
  },
  {
   "cell_type": "code",
   "execution_count": null,
   "id": "3444d666",
   "metadata": {
    "ExecuteTime": {
     "start_time": "2025-03-19T13:49:32.900Z"
    }
   },
   "outputs": [],
   "source": [
    "# генерация признаков + PSI "
   ]
  },
  {
   "cell_type": "code",
   "execution_count": null,
   "id": "d60a7347",
   "metadata": {
    "ExecuteTime": {
     "start_time": "2025-03-19T13:49:32.900Z"
    }
   },
   "outputs": [],
   "source": [
    "df['DAYS_BIRTH'] = - (df['DAYS_BIRTH'] // 365)\n",
    "df['DAYS_BIRTH']"
   ]
  },
  {
   "cell_type": "code",
   "execution_count": null,
   "id": "f1eddcd9",
   "metadata": {
    "ExecuteTime": {
     "start_time": "2025-03-19T13:49:32.900Z"
    }
   },
   "outputs": [],
   "source": [
    "plt.hist(df['DAYS_BIRTH'], bins=10, edgecolor='black')\n",
    "plt.show()"
   ]
  },
  {
   "cell_type": "code",
   "execution_count": null,
   "id": "ac870db9",
   "metadata": {
    "ExecuteTime": {
     "start_time": "2025-03-19T13:49:32.901Z"
    }
   },
   "outputs": [],
   "source": [
    "# Определяем границы бинов\n",
    "bins = [20, 30, 40, 50, 60, 100]\n",
    "\n",
    "# Создаем метки для бинов\n",
    "labels = ['21-30', '31-40', '41-50', '51-60', '60+']\n",
    "\n",
    "# Разбиваем возраст на бины\n",
    "df['DAYS_BIRTH'] = pd.cut(df['DAYS_BIRTH'], bins=bins, labels=labels, right=False)"
   ]
  },
  {
   "cell_type": "code",
   "execution_count": null,
   "id": "b6bff0da",
   "metadata": {
    "ExecuteTime": {
     "start_time": "2025-03-19T13:49:32.901Z"
    }
   },
   "outputs": [],
   "source": [
    "df['DAYS_BIRTH'].value_counts()"
   ]
  },
  {
   "cell_type": "code",
   "execution_count": null,
   "id": "5f213f4a",
   "metadata": {
    "ExecuteTime": {
     "start_time": "2025-03-19T13:49:32.902Z"
    }
   },
   "outputs": [],
   "source": [
    "mean_encoding = df.groupby('DAYS_BIRTH')['STATUS'].mean()\n",
    "df['DAYS_BIRTH'] = df['DAYS_BIRTH'].map(mean_encoding)"
   ]
  },
  {
   "cell_type": "code",
   "execution_count": null,
   "id": "70508a33",
   "metadata": {
    "ExecuteTime": {
     "start_time": "2025-03-19T13:49:32.902Z"
    }
   },
   "outputs": [],
   "source": [
    "df"
   ]
  },
  {
   "cell_type": "code",
   "execution_count": null,
   "id": "c818ae56",
   "metadata": {
    "ExecuteTime": {
     "start_time": "2025-03-19T13:49:32.903Z"
    }
   },
   "outputs": [],
   "source": [
    "X = df.iloc[:,1:-1]  # с конца убираем таргет \n",
    "y = df['STATUS']"
   ]
  },
  {
   "cell_type": "code",
   "execution_count": null,
   "id": "48585420",
   "metadata": {
    "ExecuteTime": {
     "start_time": "2025-03-19T13:49:32.903Z"
    }
   },
   "outputs": [],
   "source": [
    "# делим данные на обучающую и тестовую выборки\n",
    "X_train, X_test, y_train, y_test = train_test_split(X, y, test_size=0.2, random_state=42)"
   ]
  },
  {
   "cell_type": "code",
   "execution_count": null,
   "id": "b52fa5bf",
   "metadata": {
    "ExecuteTime": {
     "start_time": "2025-03-19T13:49:32.904Z"
    }
   },
   "outputs": [],
   "source": [
    "# приводим признаки к одной шкале, RobustScaler не чувствителен к выбросам в отличие от MinMaxScaler()\n",
    "rs = RobustScaler()\n",
    "X_scaled = pd.DataFrame(rs.fit_transform(X_train), columns=X_train.columns)\n",
    "X_test_scaled = pd.DataFrame(rs.transform(X_test), columns=X_test.columns)"
   ]
  },
  {
   "cell_type": "code",
   "execution_count": null,
   "id": "d6406365",
   "metadata": {
    "ExecuteTime": {
     "start_time": "2025-03-19T13:49:32.905Z"
    }
   },
   "outputs": [],
   "source": [
    "# # приводим признаки к одной шкале, MinMaxScaler() чувствителен к выбросам \n",
    "# rs = MinMaxScaler()\n",
    "# X_scaled = pd.DataFrame(rs.fit_transform(X_train), columns=X_train.columns)\n",
    "# X_test_scaled = pd.DataFrame(rs.transform(X_test), columns=X_test.columns)"
   ]
  },
  {
   "cell_type": "code",
   "execution_count": null,
   "id": "8644b4d7",
   "metadata": {
    "ExecuteTime": {
     "start_time": "2025-03-19T13:49:32.905Z"
    }
   },
   "outputs": [],
   "source": [
    "X_scaled"
   ]
  },
  {
   "cell_type": "code",
   "execution_count": null,
   "id": "8c2c6969",
   "metadata": {
    "ExecuteTime": {
     "start_time": "2025-03-19T13:49:32.906Z"
    }
   },
   "outputs": [],
   "source": [
    "y_train.value_counts()"
   ]
  },
  {
   "cell_type": "code",
   "execution_count": null,
   "id": "419729a4",
   "metadata": {
    "ExecuteTime": {
     "start_time": "2025-03-19T13:49:32.906Z"
    }
   },
   "outputs": [],
   "source": [
    "oversample = SMOTE() # Synthetic Minority Over-sampling Technique\n",
    "X_balanced, y_balanced = oversample.fit_resample(X_scaled, y_train)"
   ]
  },
  {
   "cell_type": "code",
   "execution_count": null,
   "id": "c5788c82",
   "metadata": {
    "ExecuteTime": {
     "start_time": "2025-03-19T13:49:32.907Z"
    }
   },
   "outputs": [],
   "source": [
    "y_balanced.value_counts()"
   ]
  },
  {
   "cell_type": "code",
   "execution_count": null,
   "id": "e92caade",
   "metadata": {
    "ExecuteTime": {
     "start_time": "2025-03-19T13:49:32.907Z"
    }
   },
   "outputs": [],
   "source": [
    "# def calculate_psi(expected, actual, bins=10, epsilon=1e-6):\n",
    "#     # Разбиваем данные на бины\n",
    "#     breakpoints = np.histogram_bin_edges(expected, bins=bins)\n",
    "#     expected_counts, _ = np.histogram(expected, bins=breakpoints)\n",
    "#     actual_counts, _ = np.histogram(actual, bins=breakpoints)\n",
    "    \n",
    "#     # Добавляем epsilon, чтобы избежать деления на ноль\n",
    "#     expected_counts = expected_counts + epsilon\n",
    "#     actual_counts = actual_counts + epsilon\n",
    "    \n",
    "#     # Нормализуем до процентов\n",
    "#     expected_percents = expected_counts / np.sum(expected_counts)\n",
    "#     actual_percents = actual_counts / np.sum(actual_counts)\n",
    "    \n",
    "#     # Рассчитываем PSI\n",
    "#     psi = np.sum((actual_percents - expected_percents) * np.log(actual_percents / expected_percents))\n",
    "    \n",
    "#     return psi\n",
    "\n",
    "# def calculate_psi_for_dataframe(df_expected, df_actual, bins=10):\n",
    "#     psi_results = {}\n",
    "    \n",
    "#     for column in df_expected.columns:\n",
    "#         expected = df_expected[column]\n",
    "#         actual = df_actual[column]\n",
    "#         psi_value = calculate_psi(expected, actual, bins=bins)\n",
    "#         psi_results[column] = psi_value\n",
    "    \n",
    "#     return psi_results"
   ]
  },
  {
   "cell_type": "code",
   "execution_count": null,
   "id": "b1f42d3f",
   "metadata": {
    "ExecuteTime": {
     "start_time": "2025-03-19T13:49:32.907Z"
    }
   },
   "outputs": [],
   "source": [
    "# # Рассчитываем PSI для всех признаков\n",
    "# psi_results = calculate_psi_for_dataframe(X_balanced, X_test_balanced, bins=10)\n",
    "\n",
    "# # Выводим результаты\n",
    "# for feature, psi in psi_results.items():\n",
    "#     print(f\"PSI для признака {feature}: {psi:.4f}\")"
   ]
  },
  {
   "cell_type": "code",
   "execution_count": null,
   "id": "b959b60e",
   "metadata": {
    "ExecuteTime": {
     "start_time": "2025-03-19T13:49:32.908Z"
    }
   },
   "outputs": [],
   "source": [
    "# classifiers = {\n",
    "#     \"LogisticRegression\" : LogisticRegression(max_iter=1000),\n",
    "#     \"KNeighbors\" : KNeighborsClassifier(),\n",
    "#     \"SVC\" : SVC(),\n",
    "#     \"DecisionTree\" : DecisionTreeClassifier(),\n",
    "#     \"RandomForest\" : RandomForestClassifier(),\n",
    "#     \"XGBoost\" : XGBClassifier()\n",
    "# }"
   ]
  },
  {
   "cell_type": "code",
   "execution_count": null,
   "id": "d2ca2a8f",
   "metadata": {
    "ExecuteTime": {
     "start_time": "2025-03-19T13:49:32.908Z"
    }
   },
   "outputs": [],
   "source": [
    "# train_scores = []\n",
    "# test_scores = []\n",
    "\n",
    "# for key, classifier in classifiers.items():\n",
    "#     classifier.fit(X_balanced, y_balanced)\n",
    "#     train_score = classifier.score(X_balanced, y_balanced)\n",
    "#     train_scores.append(train_score)\n",
    "#     test_score = classifier.score(X_test, y_test)\n",
    "#     test_scores.append(test_score)\n",
    "\n",
    "# print(train_scores)\n",
    "# print(test_scores)"
   ]
  },
  {
   "cell_type": "code",
   "execution_count": null,
   "id": "c929323e",
   "metadata": {
    "ExecuteTime": {
     "start_time": "2025-03-19T13:49:32.909Z"
    }
   },
   "outputs": [],
   "source": [
    "xgb = XGBClassifier()\n",
    "model = xgb.fit(X_balanced, y_balanced)\n",
    "train_score = xgb.score(X_balanced, y_balanced)\n",
    "test_score = xgb.score(X_test, y_test)\n",
    "xgb_prediction = xgb.predict(X_test)\n",
    "\n",
    "print(f\"xgb train score = {train_score}\")\n",
    "print(f\"xgb test score = {test_score}\")"
   ]
  },
  {
   "cell_type": "code",
   "execution_count": null,
   "id": "7b1d2115",
   "metadata": {
    "ExecuteTime": {
     "start_time": "2025-03-19T13:49:32.909Z"
    }
   },
   "outputs": [],
   "source": [
    "print(classification_report(y_test, xgb_prediction)) #1 xgb"
   ]
  },
  {
   "cell_type": "code",
   "execution_count": null,
   "id": "6604a624",
   "metadata": {
    "ExecuteTime": {
     "start_time": "2025-03-19T13:49:32.910Z"
    }
   },
   "outputs": [],
   "source": [
    "# Вычисляем AUC\n",
    "auc = roc_auc_score(y_test, xgb_prediction)\n",
    "\n",
    "# Вычисляем коэффициент Джини\n",
    "gini = 2 * auc - 1\n",
    "print(f\"xgb AUC: {auc}\")\n",
    "print(f\"xgb Gini: {gini}\")"
   ]
  },
  {
   "cell_type": "code",
   "execution_count": null,
   "id": "f179622c",
   "metadata": {
    "ExecuteTime": {
     "start_time": "2025-03-19T13:49:32.910Z"
    }
   },
   "outputs": [],
   "source": [
    "cm = confusion_matrix(y_test, xgb_prediction)\n",
    "print(\"Confusion Matrix:\\n\", cm)"
   ]
  },
  {
   "cell_type": "code",
   "execution_count": null,
   "id": "97081957",
   "metadata": {
    "ExecuteTime": {
     "start_time": "2025-03-19T13:49:32.911Z"
    }
   },
   "outputs": [],
   "source": [
    "import shap\n",
    "\n",
    "# Создание explainer\n",
    "explainer = shap.TreeExplainer(model)\n",
    "shap_values = explainer.shap_values(X_balanced)\n",
    "\n",
    "# Визуализация значимости признаков\n",
    "shap.summary_plot(shap_values, X_balanced, feature_names=X_balanced.columns)"
   ]
  },
  {
   "cell_type": "code",
   "execution_count": null,
   "id": "e94520f4",
   "metadata": {
    "ExecuteTime": {
     "start_time": "2025-03-19T13:49:32.911Z"
    }
   },
   "outputs": [],
   "source": [
    "explainer = shap.TreeExplainer(model)\n",
    "shap_values = explainer(X_balanced)\n",
    "shap.plots.waterfall(shap_values[0])"
   ]
  },
  {
   "cell_type": "code",
   "execution_count": null,
   "id": "5bfd3dcc",
   "metadata": {
    "ExecuteTime": {
     "start_time": "2025-03-19T13:49:32.912Z"
    }
   },
   "outputs": [],
   "source": [
    "explainer = shap.TreeExplainer(model)\n",
    "shap_values = explainer(X_balanced)\n",
    "shap.plots.waterfall(shap_values[1])"
   ]
  },
  {
   "cell_type": "code",
   "execution_count": null,
   "id": "19eec55f",
   "metadata": {
    "ExecuteTime": {
     "start_time": "2025-03-19T13:49:32.912Z"
    }
   },
   "outputs": [],
   "source": [
    "shap.plots.bar(shap_values)"
   ]
  },
  {
   "cell_type": "code",
   "execution_count": null,
   "id": "0294eebc",
   "metadata": {
    "ExecuteTime": {
     "start_time": "2025-03-19T13:49:32.913Z"
    }
   },
   "outputs": [],
   "source": [
    "logreg = LogisticRegression(max_iter=1000)\n",
    "model = logreg.fit(X_balanced, y_balanced)\n",
    "train_score = logreg.score(X_balanced, y_balanced)\n",
    "test_score = logreg.score(X_test, y_test)\n",
    "logreg_prediction = logreg.predict(X_test)\n",
    "\n",
    "print(f\"logreg train score = {train_score}\")\n",
    "print(f\"logreg test score = {test_score}\")"
   ]
  },
  {
   "cell_type": "code",
   "execution_count": null,
   "id": "0f2c64e9",
   "metadata": {
    "ExecuteTime": {
     "start_time": "2025-03-19T13:49:32.913Z"
    }
   },
   "outputs": [],
   "source": [
    "print(classification_report(y_test, logreg_prediction)) #logreg"
   ]
  },
  {
   "cell_type": "code",
   "execution_count": null,
   "id": "84d81a11",
   "metadata": {
    "ExecuteTime": {
     "start_time": "2025-03-19T13:49:32.914Z"
    }
   },
   "outputs": [],
   "source": [
    "# Вычисляем AUC\n",
    "auc = roc_auc_score(y_test, logreg_prediction)\n",
    "\n",
    "# Вычисляем коэффициент Джини\n",
    "gini = 2 * auc - 1\n",
    "print(f\"logreg AUC: {auc}\")\n",
    "print(f\"logreg Gini: {gini}\")"
   ]
  },
  {
   "cell_type": "code",
   "execution_count": null,
   "id": "f0cbff70",
   "metadata": {},
   "outputs": [],
   "source": []
  },
  {
   "cell_type": "code",
   "execution_count": null,
   "id": "0a4d102d",
   "metadata": {},
   "outputs": [],
   "source": []
  },
  {
   "cell_type": "code",
   "execution_count": null,
   "id": "c0061f37",
   "metadata": {},
   "outputs": [],
   "source": []
  }
 ],
 "metadata": {
  "kernelspec": {
   "display_name": "Python 3 (ipykernel)",
   "language": "python",
   "name": "python3"
  },
  "language_info": {
   "codemirror_mode": {
    "name": "ipython",
    "version": 3
   },
   "file_extension": ".py",
   "mimetype": "text/x-python",
   "name": "python",
   "nbconvert_exporter": "python",
   "pygments_lexer": "ipython3",
   "version": "3.9.12"
  },
  "toc": {
   "base_numbering": 1,
   "nav_menu": {},
   "number_sections": true,
   "sideBar": true,
   "skip_h1_title": false,
   "title_cell": "Table of Contents",
   "title_sidebar": "Contents",
   "toc_cell": false,
   "toc_position": {},
   "toc_section_display": true,
   "toc_window_display": false
  }
 },
 "nbformat": 4,
 "nbformat_minor": 5
}
