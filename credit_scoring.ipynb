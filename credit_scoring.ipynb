{
 "cells": [
  {
   "cell_type": "code",
   "execution_count": 1475,
   "id": "1f8f695e",
   "metadata": {
    "ExecuteTime": {
     "end_time": "2025-03-19T13:49:34.368128Z",
     "start_time": "2025-03-19T13:49:34.354705Z"
    }
   },
   "outputs": [],
   "source": [
    "import pandas as pd\n",
    "import numpy as np\n",
    "import seaborn as sns\n",
    "import matplotlib.pyplot as plt\n",
    "\n",
    "from imblearn.over_sampling import SMOTE, ADASYN\n",
    "from sklearn.model_selection import train_test_split\n",
    "from sklearn.linear_model import LogisticRegression\n",
    "from sklearn.neighbors import KNeighborsClassifier\n",
    "from sklearn.svm import SVC\n",
    "from sklearn.tree import DecisionTreeClassifier\n",
    "from sklearn.ensemble import RandomForestClassifier\n",
    "from xgboost import XGBClassifier\n",
    "from sklearn.metrics import accuracy_score, classification_report, confusion_matrix\n",
    "from sklearn.preprocessing import LabelEncoder\n",
    "import category_encoders as ce\n",
    "from sklearn.preprocessing import RobustScaler\n",
    "from scipy.stats import pearsonr, spearmanr, chi2_contingency\n",
    "from sklearn.metrics import roc_auc_score\n",
    "from scipy.stats import zscore\n",
    "\n",
    "from sklearn.metrics import classification_report"
   ]
  },
  {
   "cell_type": "code",
   "execution_count": 1476,
   "id": "f18ed17d",
   "metadata": {
    "ExecuteTime": {
     "end_time": "2025-03-19T13:49:35.842376Z",
     "start_time": "2025-03-19T13:49:34.372005Z"
    }
   },
   "outputs": [],
   "source": [
    "ar = pd.read_csv('data/application_record.zip', compression='zip')\n",
    "cr = pd.read_csv('data/credit_record.zip', compression='zip')"
   ]
  },
  {
   "cell_type": "code",
   "execution_count": 1477,
   "id": "2bda785c",
   "metadata": {
    "ExecuteTime": {
     "end_time": "2025-03-19T13:49:36.491812Z",
     "start_time": "2025-03-19T13:49:35.844341Z"
    }
   },
   "outputs": [
    {
     "name": "stdout",
     "output_type": "stream",
     "text": [
      "<class 'pandas.core.frame.DataFrame'>\n",
      "RangeIndex: 438557 entries, 0 to 438556\n",
      "Data columns (total 18 columns):\n",
      " #   Column               Non-Null Count   Dtype  \n",
      "---  ------               --------------   -----  \n",
      " 0   ID                   438557 non-null  int64  \n",
      " 1   CODE_GENDER          438557 non-null  object \n",
      " 2   FLAG_OWN_CAR         438557 non-null  object \n",
      " 3   FLAG_OWN_REALTY      438557 non-null  object \n",
      " 4   CNT_CHILDREN         438557 non-null  int64  \n",
      " 5   AMT_INCOME_TOTAL     438557 non-null  float64\n",
      " 6   NAME_INCOME_TYPE     438557 non-null  object \n",
      " 7   NAME_EDUCATION_TYPE  438557 non-null  object \n",
      " 8   NAME_FAMILY_STATUS   438557 non-null  object \n",
      " 9   NAME_HOUSING_TYPE    438557 non-null  object \n",
      " 10  DAYS_BIRTH           438557 non-null  int64  \n",
      " 11  DAYS_EMPLOYED        438557 non-null  int64  \n",
      " 12  FLAG_MOBIL           438557 non-null  int64  \n",
      " 13  FLAG_WORK_PHONE      438557 non-null  int64  \n",
      " 14  FLAG_PHONE           438557 non-null  int64  \n",
      " 15  FLAG_EMAIL           438557 non-null  int64  \n",
      " 16  OCCUPATION_TYPE      304354 non-null  object \n",
      " 17  CNT_FAM_MEMBERS      438557 non-null  float64\n",
      "dtypes: float64(2), int64(8), object(8)\n",
      "memory usage: 60.2+ MB\n"
     ]
    }
   ],
   "source": [
    "# общая информация о датасете\n",
    "ar.info()"
   ]
  },
  {
   "cell_type": "code",
   "execution_count": 1478,
   "id": "16c6e42b",
   "metadata": {
    "ExecuteTime": {
     "end_time": "2025-03-19T13:49:36.539854Z",
     "start_time": "2025-03-19T13:49:36.494810Z"
    }
   },
   "outputs": [
    {
     "data": {
      "text/plain": [
       "438510"
      ]
     },
     "execution_count": 1478,
     "metadata": {},
     "output_type": "execute_result"
    }
   ],
   "source": [
    "# количество уникальных ID (при общем количестве 438 557)\n",
    "ar['ID'].nunique()"
   ]
  },
  {
   "cell_type": "code",
   "execution_count": 1479,
   "id": "14e1a8a1",
   "metadata": {
    "ExecuteTime": {
     "end_time": "2025-03-19T13:49:36.698421Z",
     "start_time": "2025-03-19T13:49:36.542853Z"
    }
   },
   "outputs": [
    {
     "data": {
      "text/plain": [
       "(438510, 18)"
      ]
     },
     "execution_count": 1479,
     "metadata": {},
     "output_type": "execute_result"
    }
   ],
   "source": [
    "# избавляемся от дубликатов в исходном датафрейме\n",
    "ar.drop_duplicates('ID', keep='last', inplace=True)\n",
    "ar.shape"
   ]
  },
  {
   "cell_type": "code",
   "execution_count": 1480,
   "id": "d533e86e",
   "metadata": {
    "ExecuteTime": {
     "end_time": "2025-03-19T13:49:36.903384Z",
     "start_time": "2025-03-19T13:49:36.700314Z"
    }
   },
   "outputs": [
    {
     "name": "stdout",
     "output_type": "stream",
     "text": [
      "<class 'pandas.core.frame.DataFrame'>\n",
      "RangeIndex: 1048575 entries, 0 to 1048574\n",
      "Data columns (total 3 columns):\n",
      " #   Column          Non-Null Count    Dtype \n",
      "---  ------          --------------    ----- \n",
      " 0   ID              1048575 non-null  int64 \n",
      " 1   MONTHS_BALANCE  1048575 non-null  int64 \n",
      " 2   STATUS          1048575 non-null  object\n",
      "dtypes: int64(2), object(1)\n",
      "memory usage: 24.0+ MB\n"
     ]
    }
   ],
   "source": [
    "# общая информация о датасете, содержащем данные о просрочках по кредиту\n",
    "cr.info()"
   ]
  },
  {
   "cell_type": "code",
   "execution_count": 1481,
   "id": "d4a60ba6",
   "metadata": {
    "ExecuteTime": {
     "end_time": "2025-03-19T13:49:36.934787Z",
     "start_time": "2025-03-19T13:49:36.905428Z"
    }
   },
   "outputs": [
    {
     "data": {
      "text/plain": [
       "45985"
      ]
     },
     "execution_count": 1481,
     "metadata": {},
     "output_type": "execute_result"
    }
   ],
   "source": [
    "# количество уникальных ID\n",
    "cr['ID'].unique().size"
   ]
  },
  {
   "cell_type": "code",
   "execution_count": 1482,
   "id": "df0f34c1",
   "metadata": {
    "ExecuteTime": {
     "end_time": "2025-03-19T13:49:37.597183Z",
     "start_time": "2025-03-19T13:49:36.937787Z"
    }
   },
   "outputs": [
    {
     "data": {
      "text/plain": [
       "ID                          0\n",
       "CODE_GENDER                 0\n",
       "FLAG_OWN_CAR                0\n",
       "FLAG_OWN_REALTY             0\n",
       "CNT_CHILDREN                0\n",
       "AMT_INCOME_TOTAL            0\n",
       "NAME_INCOME_TYPE            0\n",
       "NAME_EDUCATION_TYPE         0\n",
       "NAME_FAMILY_STATUS          0\n",
       "NAME_HOUSING_TYPE           0\n",
       "DAYS_BIRTH                  0\n",
       "DAYS_EMPLOYED               0\n",
       "FLAG_MOBIL                  0\n",
       "FLAG_WORK_PHONE             0\n",
       "FLAG_PHONE                  0\n",
       "FLAG_EMAIL                  0\n",
       "OCCUPATION_TYPE        134187\n",
       "CNT_FAM_MEMBERS             0\n",
       "dtype: int64"
      ]
     },
     "execution_count": 1482,
     "metadata": {},
     "output_type": "execute_result"
    }
   ],
   "source": [
    "# смотрим по каким признакам есть нулевые значения\n",
    "ar.isnull().sum()"
   ]
  },
  {
   "cell_type": "code",
   "execution_count": 1483,
   "id": "e78cce3d",
   "metadata": {
    "ExecuteTime": {
     "end_time": "2025-03-19T13:49:47.860557Z",
     "start_time": "2025-03-19T13:49:37.600138Z"
    }
   },
   "outputs": [
    {
     "data": {
      "text/plain": [
       "<AxesSubplot:>"
      ]
     },
     "execution_count": 1483,
     "metadata": {},
     "output_type": "execute_result"
    },
    {
     "data": {
      "image/png": "[encoded data removed]",
      "text/plain": [
       "<Figure size 432x288 with 2 Axes>"
      ]
     },
     "metadata": {
      "needs_background": "light"
     },
     "output_type": "display_data"
    }
   ],
   "source": [
    "# проверяем наличие нулевых значений с помощью визуализации\n",
    "sns.heatmap(ar.isnull())"
   ]
  },
  {
   "cell_type": "code",
   "execution_count": 1484,
   "id": "63e1d5c0",
   "metadata": {
    "ExecuteTime": {
     "end_time": "2025-03-19T13:49:47.939240Z",
     "start_time": "2025-03-19T13:49:47.862554Z"
    }
   },
   "outputs": [],
   "source": [
    "# слишком много пропущенных значений в поле OCCUPATION_TYPE, избавляемся от него\n",
    "ar.drop('OCCUPATION_TYPE', axis=1, inplace=True)"
   ]
  },
  {
   "cell_type": "code",
   "execution_count": 1485,
   "id": "90bae77b",
   "metadata": {
    "ExecuteTime": {
     "end_time": "2025-03-19T13:49:57.664857Z",
     "start_time": "2025-03-19T13:49:47.943331Z"
    }
   },
   "outputs": [
    {
     "data": {
      "text/plain": [
       "<AxesSubplot:>"
      ]
     },
     "execution_count": 1485,
     "metadata": {},
     "output_type": "execute_result"
    },
    {
     "data": {
      "image/png": "[encoded data removed]",
      "text/plain": [
       "<Figure size 432x288 with 2 Axes>"
      ]
     },
     "metadata": {
      "needs_background": "light"
     },
     "output_type": "display_data"
    }
   ],
   "source": [
    "# проверяем наличие нулевых значений с помощью визуализации\n",
    "sns.heatmap(ar.isnull())"
   ]
  },
  {
   "cell_type": "code",
   "execution_count": 1486,
   "id": "0b1d22e9",
   "metadata": {
    "ExecuteTime": {
     "end_time": "2025-03-19T13:50:01.982968Z",
     "start_time": "2025-03-19T13:49:57.666775Z"
    }
   },
   "outputs": [
    {
     "data": {
      "text/plain": [
       "<AxesSubplot:>"
      ]
     },
     "execution_count": 1486,
     "metadata": {},
     "output_type": "execute_result"
    },
    {
     "data": {
      "image/png": "[encoded data removed]",
      "text/plain": [
       "<Figure size 432x288 with 2 Axes>"
      ]
     },
     "metadata": {
      "needs_background": "light"
     },
     "output_type": "display_data"
    }
   ],
   "source": [
    "# проверяем наличие нулевых значений с помощью визуализации\n",
    "sns.heatmap(cr.isnull())"
   ]
  },
  {
   "cell_type": "code",
   "execution_count": 1487,
   "id": "cb2fb8ac",
   "metadata": {
    "ExecuteTime": {
     "end_time": "2025-03-19T13:50:02.027581Z",
     "start_time": "2025-03-19T13:50:01.985967Z"
    }
   },
   "outputs": [
    {
     "name": "stdout",
     "output_type": "stream",
     "text": [
      "Дисперсия признаков:\n",
      " ID                  3.266080e+11\n",
      "CNT_CHILDREN        5.254619e-01\n",
      "AMT_INCOME_TOTAL    1.211777e+10\n",
      "DAYS_BIRTH          1.751471e+07\n",
      "DAYS_EMPLOYED       1.925612e+10\n",
      "FLAG_MOBIL          0.000000e+00\n",
      "FLAG_WORK_PHONE     1.636434e-01\n",
      "FLAG_PHONE          2.049560e-01\n",
      "FLAG_EMAIL          9.649516e-02\n",
      "CNT_FAM_MEMBERS     8.049854e-01\n",
      "dtype: float64\n"
     ]
    }
   ],
   "source": [
    "variances = ar.select_dtypes(include=['number']).var()\n",
    "print(\"Дисперсия признаков:\\n\", variances)"
   ]
  },
  {
   "cell_type": "code",
   "execution_count": 1488,
   "id": "a9071efe",
   "metadata": {
    "ExecuteTime": {
     "end_time": "2025-03-19T13:50:02.106968Z",
     "start_time": "2025-03-19T13:50:02.032609Z"
    }
   },
   "outputs": [],
   "source": [
    "# очень низкая дисперсия, избавляемся от него\n",
    "ar.drop('FLAG_MOBIL', axis=1, inplace=True)"
   ]
  },
  {
   "cell_type": "code",
   "execution_count": 1489,
   "id": "3fa83fc2",
   "metadata": {
    "ExecuteTime": {
     "end_time": "2025-03-19T13:50:02.201339Z",
     "start_time": "2025-03-19T13:50:02.113000Z"
    }
   },
   "outputs": [
    {
     "data": {
      "text/plain": [
       "C    442031\n",
       "0    383120\n",
       "X    209230\n",
       "1     11090\n",
       "5      1693\n",
       "2       868\n",
       "3       320\n",
       "4       223\n",
       "Name: STATUS, dtype: int64"
      ]
     },
     "execution_count": 1489,
     "metadata": {},
     "output_type": "execute_result"
    }
   ],
   "source": [
    "cr['STATUS'].value_counts() "
   ]
  },
  {
   "cell_type": "markdown",
   "id": "7f135a4e",
   "metadata": {},
   "source": [
    "- **0:** 1-29 days past due \n",
    "- **1:** 30-59 days past due \n",
    "- **2:** 60-89 days overdue \n",
    "- **3:** 90-119 days overdue \n",
    "- **4:** 120-149 days overdue \n",
    "- **5:** Overdue or bad debts, write-offs for more than 150 days \n",
    "- **C:** paid off that month \n",
    "- **X:** No loan for the month"
   ]
  },
  {
   "cell_type": "code",
   "execution_count": 1490,
   "id": "27ef76cd",
   "metadata": {
    "ExecuteTime": {
     "end_time": "2025-03-19T13:50:02.483851Z",
     "start_time": "2025-03-19T13:50:02.206241Z"
    }
   },
   "outputs": [
    {
     "data": {
      "text/plain": [
       "0    1034381\n",
       "1      11090\n",
       "5       1693\n",
       "2        868\n",
       "3        320\n",
       "4        223\n",
       "Name: STATUS, dtype: int64"
      ]
     },
     "execution_count": 1490,
     "metadata": {},
     "output_type": "execute_result"
    }
   ],
   "source": [
    "cr['STATUS'] = cr['STATUS'].replace({'C' : 0, 'X' : 0})\n",
    "cr['STATUS'] = cr['STATUS'].astype(int)\n",
    "cr['STATUS'].value_counts() "
   ]
  },
  {
   "cell_type": "code",
   "execution_count": 1491,
   "id": "cc460503",
   "metadata": {
    "ExecuteTime": {
     "end_time": "2025-03-19T13:50:02.499951Z",
     "start_time": "2025-03-19T13:50:02.486865Z"
    }
   },
   "outputs": [],
   "source": [
    "overdue = cr.copy()\n"
   ]
  },
  {
   "cell_type": "code",
   "execution_count": 1492,
   "id": "d78dd29b",
   "metadata": {
    "ExecuteTime": {
     "end_time": "2025-03-19T13:50:02.594043Z",
     "start_time": "2025-03-19T13:50:02.504380Z"
    }
   },
   "outputs": [
    {
     "data": {
      "text/html": [
       "<div>\n",
       "<style scoped>\n",
       "    .dataframe tbody tr th:only-of-type {\n",
       "        vertical-align: middle;\n",
       "    }\n",
       "\n",
       "    .dataframe tbody tr th {\n",
       "        vertical-align: top;\n",
       "    }\n",
       "\n",
       "    .dataframe thead th {\n",
       "        text-align: right;\n",
       "    }\n",
       "</style>\n",
       "<table border=\"1\" class=\"dataframe\">\n",
       "  <thead>\n",
       "    <tr style=\"text-align: right;\">\n",
       "      <th></th>\n",
       "      <th>ID</th>\n",
       "      <th>STATUS</th>\n",
       "    </tr>\n",
       "  </thead>\n",
       "  <tbody>\n",
       "    <tr>\n",
       "      <th>0</th>\n",
       "      <td>5001711</td>\n",
       "      <td>0</td>\n",
       "    </tr>\n",
       "    <tr>\n",
       "      <th>1</th>\n",
       "      <td>5001712</td>\n",
       "      <td>0</td>\n",
       "    </tr>\n",
       "    <tr>\n",
       "      <th>2</th>\n",
       "      <td>5001713</td>\n",
       "      <td>0</td>\n",
       "    </tr>\n",
       "    <tr>\n",
       "      <th>3</th>\n",
       "      <td>5001714</td>\n",
       "      <td>0</td>\n",
       "    </tr>\n",
       "    <tr>\n",
       "      <th>4</th>\n",
       "      <td>5001715</td>\n",
       "      <td>0</td>\n",
       "    </tr>\n",
       "    <tr>\n",
       "      <th>...</th>\n",
       "      <td>...</td>\n",
       "      <td>...</td>\n",
       "    </tr>\n",
       "    <tr>\n",
       "      <th>45980</th>\n",
       "      <td>5150482</td>\n",
       "      <td>0</td>\n",
       "    </tr>\n",
       "    <tr>\n",
       "      <th>45981</th>\n",
       "      <td>5150483</td>\n",
       "      <td>0</td>\n",
       "    </tr>\n",
       "    <tr>\n",
       "      <th>45982</th>\n",
       "      <td>5150484</td>\n",
       "      <td>0</td>\n",
       "    </tr>\n",
       "    <tr>\n",
       "      <th>45983</th>\n",
       "      <td>5150485</td>\n",
       "      <td>0</td>\n",
       "    </tr>\n",
       "    <tr>\n",
       "      <th>45984</th>\n",
       "      <td>5150487</td>\n",
       "      <td>0</td>\n",
       "    </tr>\n",
       "  </tbody>\n",
       "</table>\n",
       "<p>45985 rows × 2 columns</p>\n",
       "</div>"
      ],
      "text/plain": [
       "            ID  STATUS\n",
       "0      5001711       0\n",
       "1      5001712       0\n",
       "2      5001713       0\n",
       "3      5001714       0\n",
       "4      5001715       0\n",
       "...        ...     ...\n",
       "45980  5150482       0\n",
       "45981  5150483       0\n",
       "45982  5150484       0\n",
       "45983  5150485       0\n",
       "45984  5150487       0\n",
       "\n",
       "[45985 rows x 2 columns]"
      ]
     },
     "execution_count": 1492,
     "metadata": {},
     "output_type": "execute_result"
    }
   ],
   "source": [
    "overdue = overdue.groupby('ID').agg(max).reset_index()\n",
    "overdue.drop('MONTHS_BALANCE', axis=1, inplace=True)\n",
    "overdue"
   ]
  },
  {
   "cell_type": "code",
   "execution_count": 1493,
   "id": "0a7824d7",
   "metadata": {
    "ExecuteTime": {
     "end_time": "2025-03-19T13:50:02.705153Z",
     "start_time": "2025-03-19T13:50:02.595908Z"
    }
   },
   "outputs": [
    {
     "data": {
      "text/html": [
       "<div>\n",
       "<style scoped>\n",
       "    .dataframe tbody tr th:only-of-type {\n",
       "        vertical-align: middle;\n",
       "    }\n",
       "\n",
       "    .dataframe tbody tr th {\n",
       "        vertical-align: top;\n",
       "    }\n",
       "\n",
       "    .dataframe thead th {\n",
       "        text-align: right;\n",
       "    }\n",
       "</style>\n",
       "<table border=\"1\" class=\"dataframe\">\n",
       "  <thead>\n",
       "    <tr style=\"text-align: right;\">\n",
       "      <th></th>\n",
       "      <th>ID</th>\n",
       "      <th>CODE_GENDER</th>\n",
       "      <th>FLAG_OWN_CAR</th>\n",
       "      <th>FLAG_OWN_REALTY</th>\n",
       "      <th>CNT_CHILDREN</th>\n",
       "      <th>AMT_INCOME_TOTAL</th>\n",
       "      <th>NAME_INCOME_TYPE</th>\n",
       "      <th>NAME_EDUCATION_TYPE</th>\n",
       "      <th>NAME_FAMILY_STATUS</th>\n",
       "      <th>NAME_HOUSING_TYPE</th>\n",
       "      <th>DAYS_BIRTH</th>\n",
       "      <th>DAYS_EMPLOYED</th>\n",
       "      <th>FLAG_WORK_PHONE</th>\n",
       "      <th>FLAG_PHONE</th>\n",
       "      <th>FLAG_EMAIL</th>\n",
       "      <th>CNT_FAM_MEMBERS</th>\n",
       "      <th>STATUS</th>\n",
       "    </tr>\n",
       "  </thead>\n",
       "  <tbody>\n",
       "    <tr>\n",
       "      <th>0</th>\n",
       "      <td>5008804</td>\n",
       "      <td>M</td>\n",
       "      <td>Y</td>\n",
       "      <td>Y</td>\n",
       "      <td>0</td>\n",
       "      <td>427500.0</td>\n",
       "      <td>Working</td>\n",
       "      <td>Higher education</td>\n",
       "      <td>Civil marriage</td>\n",
       "      <td>Rented apartment</td>\n",
       "      <td>-12005</td>\n",
       "      <td>-4542</td>\n",
       "      <td>1</td>\n",
       "      <td>0</td>\n",
       "      <td>0</td>\n",
       "      <td>2.0</td>\n",
       "      <td>1</td>\n",
       "    </tr>\n",
       "    <tr>\n",
       "      <th>1</th>\n",
       "      <td>5008805</td>\n",
       "      <td>M</td>\n",
       "      <td>Y</td>\n",
       "      <td>Y</td>\n",
       "      <td>0</td>\n",
       "      <td>427500.0</td>\n",
       "      <td>Working</td>\n",
       "      <td>Higher education</td>\n",
       "      <td>Civil marriage</td>\n",
       "      <td>Rented apartment</td>\n",
       "      <td>-12005</td>\n",
       "      <td>-4542</td>\n",
       "      <td>1</td>\n",
       "      <td>0</td>\n",
       "      <td>0</td>\n",
       "      <td>2.0</td>\n",
       "      <td>1</td>\n",
       "    </tr>\n",
       "    <tr>\n",
       "      <th>2</th>\n",
       "      <td>5008806</td>\n",
       "      <td>M</td>\n",
       "      <td>Y</td>\n",
       "      <td>Y</td>\n",
       "      <td>0</td>\n",
       "      <td>112500.0</td>\n",
       "      <td>Working</td>\n",
       "      <td>Secondary / secondary special</td>\n",
       "      <td>Married</td>\n",
       "      <td>House / apartment</td>\n",
       "      <td>-21474</td>\n",
       "      <td>-1134</td>\n",
       "      <td>0</td>\n",
       "      <td>0</td>\n",
       "      <td>0</td>\n",
       "      <td>2.0</td>\n",
       "      <td>0</td>\n",
       "    </tr>\n",
       "    <tr>\n",
       "      <th>3</th>\n",
       "      <td>5008808</td>\n",
       "      <td>F</td>\n",
       "      <td>N</td>\n",
       "      <td>Y</td>\n",
       "      <td>0</td>\n",
       "      <td>270000.0</td>\n",
       "      <td>Commercial associate</td>\n",
       "      <td>Secondary / secondary special</td>\n",
       "      <td>Single / not married</td>\n",
       "      <td>House / apartment</td>\n",
       "      <td>-19110</td>\n",
       "      <td>-3051</td>\n",
       "      <td>0</td>\n",
       "      <td>1</td>\n",
       "      <td>1</td>\n",
       "      <td>1.0</td>\n",
       "      <td>0</td>\n",
       "    </tr>\n",
       "    <tr>\n",
       "      <th>4</th>\n",
       "      <td>5008809</td>\n",
       "      <td>F</td>\n",
       "      <td>N</td>\n",
       "      <td>Y</td>\n",
       "      <td>0</td>\n",
       "      <td>270000.0</td>\n",
       "      <td>Commercial associate</td>\n",
       "      <td>Secondary / secondary special</td>\n",
       "      <td>Single / not married</td>\n",
       "      <td>House / apartment</td>\n",
       "      <td>-19110</td>\n",
       "      <td>-3051</td>\n",
       "      <td>0</td>\n",
       "      <td>1</td>\n",
       "      <td>1</td>\n",
       "      <td>1.0</td>\n",
       "      <td>0</td>\n",
       "    </tr>\n",
       "  </tbody>\n",
       "</table>\n",
       "</div>"
      ],
      "text/plain": [
       "        ID CODE_GENDER FLAG_OWN_CAR FLAG_OWN_REALTY  CNT_CHILDREN  \\\n",
       "0  5008804           M            Y               Y             0   \n",
       "1  5008805           M            Y               Y             0   \n",
       "2  5008806           M            Y               Y             0   \n",
       "3  5008808           F            N               Y             0   \n",
       "4  5008809           F            N               Y             0   \n",
       "\n",
       "   AMT_INCOME_TOTAL      NAME_INCOME_TYPE            NAME_EDUCATION_TYPE  \\\n",
       "0          427500.0               Working               Higher education   \n",
       "1          427500.0               Working               Higher education   \n",
       "2          112500.0               Working  Secondary / secondary special   \n",
       "3          270000.0  Commercial associate  Secondary / secondary special   \n",
       "4          270000.0  Commercial associate  Secondary / secondary special   \n",
       "\n",
       "     NAME_FAMILY_STATUS  NAME_HOUSING_TYPE  DAYS_BIRTH  DAYS_EMPLOYED  \\\n",
       "0        Civil marriage   Rented apartment      -12005          -4542   \n",
       "1        Civil marriage   Rented apartment      -12005          -4542   \n",
       "2               Married  House / apartment      -21474          -1134   \n",
       "3  Single / not married  House / apartment      -19110          -3051   \n",
       "4  Single / not married  House / apartment      -19110          -3051   \n",
       "\n",
       "   FLAG_WORK_PHONE  FLAG_PHONE  FLAG_EMAIL  CNT_FAM_MEMBERS  STATUS  \n",
       "0                1           0           0              2.0       1  \n",
       "1                1           0           0              2.0       1  \n",
       "2                0           0           0              2.0       0  \n",
       "3                0           1           1              1.0       0  \n",
       "4                0           1           1              1.0       0  "
      ]
     },
     "execution_count": 1493,
     "metadata": {},
     "output_type": "execute_result"
    }
   ],
   "source": [
    "df = ar.join(overdue.set_index('ID'), on='ID', how='inner')\n",
    "df.head()"
   ]
  },
  {
   "cell_type": "code",
   "execution_count": 1494,
   "id": "d8bbbc71",
   "metadata": {
    "ExecuteTime": {
     "end_time": "2025-03-19T13:50:02.736710Z",
     "start_time": "2025-03-19T13:50:02.707153Z"
    }
   },
   "outputs": [
    {
     "data": {
      "text/plain": [
       "0    32166\n",
       "1     4291\n",
       "Name: STATUS, dtype: int64"
      ]
     },
     "execution_count": 1494,
     "metadata": {},
     "output_type": "execute_result"
    }
   ],
   "source": [
    "# cr['STATUS'] = cr['STATUS'].apply(lambda x: 1 if x >= 1 else 0)\n",
    "# cr['STATUS'].value_counts() \n",
    "\n",
    "df['STATUS'] = df['STATUS'].apply(lambda x: 1 if x >= 1 else 0)\n",
    "df['STATUS'].value_counts() "
   ]
  },
  {
   "cell_type": "code",
   "execution_count": 1495,
   "id": "3edbfcf9",
   "metadata": {
    "ExecuteTime": {
     "end_time": "2025-03-19T13:50:02.752176Z",
     "start_time": "2025-03-19T13:50:02.739667Z"
    }
   },
   "outputs": [],
   "source": [
    "# # убираем поле с информацией о дате просрочки, оставляем только таргет\n",
    "# cr = cr.groupby('ID').agg(max).reset_index()\n",
    "# cr.drop('MONTHS_BALANCE', axis=1, inplace=True)\n",
    "# cr"
   ]
  },
  {
   "cell_type": "code",
   "execution_count": 1496,
   "id": "ef8f1e20",
   "metadata": {
    "ExecuteTime": {
     "end_time": "2025-03-19T13:50:02.767932Z",
     "start_time": "2025-03-19T13:50:02.755187Z"
    }
   },
   "outputs": [],
   "source": [
    "# # объединяем в итоговом датафрейме признаки с таргетом\n",
    "# df = ar.join(cr.set_index('ID'), on='ID', how='inner')\n",
    "# df.head()"
   ]
  },
  {
   "cell_type": "code",
   "execution_count": 1497,
   "id": "22d23dfc",
   "metadata": {
    "ExecuteTime": {
     "end_time": "2025-03-19T13:50:02.783916Z",
     "start_time": "2025-03-19T13:50:02.773925Z"
    }
   },
   "outputs": [],
   "source": [
    "# Вставляем доп.признак с количеством дней просрочки на предпоследнюю позицию\n",
    "# df.insert(len(df.columns) - 1, 'OVERDUE', df['STATUS'])\n",
    "\n",
    "# df['OVERDUE'].value_counts()"
   ]
  },
  {
   "cell_type": "code",
   "execution_count": 1498,
   "id": "9bd8aaab",
   "metadata": {
    "ExecuteTime": {
     "end_time": "2025-03-19T13:50:02.799523Z",
     "start_time": "2025-03-19T13:50:02.785916Z"
    }
   },
   "outputs": [],
   "source": [
    "# df['STATUS'].value_counts() "
   ]
  },
  {
   "cell_type": "code",
   "execution_count": 1499,
   "id": "f39c857b",
   "metadata": {
    "ExecuteTime": {
     "end_time": "2025-03-19T13:50:02.814651Z",
     "start_time": "2025-03-19T13:50:02.804582Z"
    }
   },
   "outputs": [],
   "source": [
    "# df['STATUS'] = df['STATUS'].apply(lambda x: 1 if x >= 1 else 0)\n",
    "# df['STATUS'].value_counts() "
   ]
  },
  {
   "cell_type": "code",
   "execution_count": 1500,
   "id": "6ce638b1",
   "metadata": {
    "ExecuteTime": {
     "end_time": "2025-03-19T13:50:03.572886Z",
     "start_time": "2025-03-19T13:50:02.818666Z"
    }
   },
   "outputs": [
    {
     "data": {
      "image/png": "[encoded data removed]",
      "text/plain": [
       "<Figure size 720x576 with 2 Axes>"
      ]
     },
     "metadata": {
      "needs_background": "light"
     },
     "output_type": "display_data"
    }
   ],
   "source": [
    "# Вычисление матрицы корреляций\n",
    "corr_matrix = df.corr()\n",
    "\n",
    "plt.figure(figsize=(10, 8))\n",
    "sns.heatmap(corr_matrix, annot=True, cmap='coolwarm', fmt='.2f')\n",
    "plt.title('Матрица корреляций (Пирсон)')\n",
    "plt.show()"
   ]
  },
  {
   "cell_type": "code",
   "execution_count": 1501,
   "id": "c0c2a35a",
   "metadata": {
    "ExecuteTime": {
     "end_time": "2025-03-19T13:50:03.666763Z",
     "start_time": "2025-03-19T13:50:03.574889Z"
    }
   },
   "outputs": [
    {
     "name": "stdout",
     "output_type": "stream",
     "text": [
      "            Feature   Pearson  Spearman\n",
      "9            STATUS  1.000000  1.000000\n",
      "3        DAYS_BIRTH  0.028943  0.029429\n",
      "2  AMT_INCOME_TOTAL  0.024202  0.016408\n",
      "7        FLAG_EMAIL  0.019658  0.019658\n",
      "1      CNT_CHILDREN  0.011525  0.007000\n",
      "8   CNT_FAM_MEMBERS  0.009004  0.005026\n",
      "0                ID  0.003565  0.004818\n",
      "5   FLAG_WORK_PHONE -0.000149 -0.000149\n",
      "6        FLAG_PHONE -0.006355 -0.006355\n",
      "4     DAYS_EMPLOYED -0.021566 -0.009253\n"
     ]
    }
   ],
   "source": [
    "correlation_results = []\n",
    "\n",
    "# Проходим по всем числовым признакам\n",
    "for col in df.select_dtypes(include=['float64', 'int64']).columns:\n",
    "    if col != 'target':\n",
    "        pearson_corr, _ = pearsonr(df[col], df['STATUS'])\n",
    "        spearman_corr, _ = spearmanr(df[col], df['STATUS'])\n",
    "        correlation_results.append((col, pearson_corr, spearman_corr))\n",
    "\n",
    "# Создаем DataFrame с результатами\n",
    "correlation_df = pd.DataFrame(correlation_results, columns=['Feature', 'Pearson', 'Spearman'])\n",
    "print(correlation_df.sort_values(by='Pearson', ascending=False))"
   ]
  },
  {
   "cell_type": "code",
   "execution_count": 1502,
   "id": "6fe847e7",
   "metadata": {
    "ExecuteTime": {
     "end_time": "2025-03-19T13:50:03.682074Z",
     "start_time": "2025-03-19T13:50:03.669604Z"
    }
   },
   "outputs": [],
   "source": [
    "# from statsmodels.stats.outliers_influence import variance_inflation_factor\n",
    "\n",
    "# vif_data = pd.DataFrame()\n",
    "# vif_data['Feature'] = df.columns\n",
    "# vif_data['VIF'] = [variance_inflation_factor(df.values, i) for i in range(df.shape[1])]\n",
    "# print(vif_data)\n",
    "# VIF > 5 или 10 указывает на сильную мультиколлинеарность."
   ]
  },
  {
   "cell_type": "code",
   "execution_count": 1503,
   "id": "e0dba36f",
   "metadata": {
    "ExecuteTime": {
     "end_time": "2025-03-19T13:50:03.730053Z",
     "start_time": "2025-03-19T13:50:03.687160Z"
    }
   },
   "outputs": [],
   "source": [
    "# df.drop('CNT_FAM_MEMBERS', axis=1, inplace=True)\n",
    "df.drop('CNT_CHILDREN', axis=1, inplace=True)\n",
    "df.drop('NAME_FAMILY_STATUS', axis=1, inplace=True)\n",
    "df.drop('NAME_EDUCATION_TYPE', axis=1, inplace=True)\n",
    "# df.drop('DAYS_BIRTH', axis=1, inplace=True)\n",
    "df.drop('DAYS_EMPLOYED', axis=1, inplace=True)\n",
    "# df.drop('CODE_GENDER', axis=1, inplace=True)\n",
    "# df.drop('FLAG_PHONE', axis=1, inplace=True)\n",
    "# df.drop('FLAG_WORK_PHONE', axis=1, inplace=True)\n",
    "# df.drop('FLAG_EMAIL', axis=1, inplace=True)"
   ]
  },
  {
   "cell_type": "markdown",
   "id": "56175fe0",
   "metadata": {},
   "source": [
    "В соответствии с типом признака (номинальный или порядковым) и количеством уникальных значений определим каким образом будем кодировать категориальные переменные."
   ]
  },
  {
   "cell_type": "code",
   "execution_count": 1504,
   "id": "9618006e",
   "metadata": {
    "ExecuteTime": {
     "end_time": "2025-03-19T13:50:03.745951Z",
     "start_time": "2025-03-19T13:50:03.734954Z"
    }
   },
   "outputs": [
    {
     "data": {
      "text/plain": [
       "ID                     int64\n",
       "CODE_GENDER           object\n",
       "FLAG_OWN_CAR          object\n",
       "FLAG_OWN_REALTY       object\n",
       "AMT_INCOME_TOTAL     float64\n",
       "NAME_INCOME_TYPE      object\n",
       "NAME_HOUSING_TYPE     object\n",
       "DAYS_BIRTH             int64\n",
       "FLAG_WORK_PHONE        int64\n",
       "FLAG_PHONE             int64\n",
       "FLAG_EMAIL             int64\n",
       "CNT_FAM_MEMBERS      float64\n",
       "STATUS                 int64\n",
       "dtype: object"
      ]
     },
     "execution_count": 1504,
     "metadata": {},
     "output_type": "execute_result"
    }
   ],
   "source": [
    "# смотрим типы данных\n",
    "df.dtypes"
   ]
  },
  {
   "cell_type": "code",
   "execution_count": 1505,
   "id": "089046bb",
   "metadata": {
    "ExecuteTime": {
     "end_time": "2025-03-19T13:50:03.778100Z",
     "start_time": "2025-03-19T13:50:03.750051Z"
    }
   },
   "outputs": [
    {
     "data": {
      "text/plain": [
       "1          CODE_GENDER\n",
       "2         FLAG_OWN_CAR\n",
       "3      FLAG_OWN_REALTY\n",
       "5     NAME_INCOME_TYPE\n",
       "6    NAME_HOUSING_TYPE\n",
       "Name: index, dtype: object"
      ]
     },
     "execution_count": 1505,
     "metadata": {},
     "output_type": "execute_result"
    }
   ],
   "source": [
    "object_type = pd.DataFrame(df.dtypes =='object').reset_index()\n",
    "object_type = object_type[object_type[0] == True]['index']\n",
    "object_type"
   ]
  },
  {
   "cell_type": "code",
   "execution_count": 1506,
   "id": "695466dc",
   "metadata": {
    "ExecuteTime": {
     "end_time": "2025-03-19T13:50:03.808540Z",
     "start_time": "2025-03-19T13:50:03.783230Z"
    }
   },
   "outputs": [
    {
     "data": {
      "text/plain": [
       "N    22614\n",
       "Y    13843\n",
       "Name: FLAG_OWN_CAR, dtype: int64"
      ]
     },
     "execution_count": 1506,
     "metadata": {},
     "output_type": "execute_result"
    }
   ],
   "source": [
    "df['FLAG_OWN_CAR'].value_counts() # binary encoder"
   ]
  },
  {
   "cell_type": "code",
   "execution_count": 1507,
   "id": "c5d58726",
   "metadata": {
    "ExecuteTime": {
     "end_time": "2025-03-19T13:50:03.839400Z",
     "start_time": "2025-03-19T13:50:03.812521Z"
    }
   },
   "outputs": [
    {
     "data": {
      "text/plain": [
       "Y    24506\n",
       "N    11951\n",
       "Name: FLAG_OWN_REALTY, dtype: int64"
      ]
     },
     "execution_count": 1507,
     "metadata": {},
     "output_type": "execute_result"
    }
   ],
   "source": [
    "df['FLAG_OWN_REALTY'].value_counts()"
   ]
  },
  {
   "cell_type": "code",
   "execution_count": 1508,
   "id": "bcbded23",
   "metadata": {
    "ExecuteTime": {
     "end_time": "2025-03-19T13:50:03.870452Z",
     "start_time": "2025-03-19T13:50:03.844526Z"
    }
   },
   "outputs": [
    {
     "data": {
      "text/plain": [
       "Working                 18819\n",
       "Commercial associate     8490\n",
       "Pensioner                6152\n",
       "State servant            2985\n",
       "Student                    11\n",
       "Name: NAME_INCOME_TYPE, dtype: int64"
      ]
     },
     "execution_count": 1508,
     "metadata": {},
     "output_type": "execute_result"
    }
   ],
   "source": [
    "df['NAME_INCOME_TYPE'].value_counts() # не все значения одинаково часто встречаются, TargetEncoding не подойдет, но порядковый - LabelEncoding"
   ]
  },
  {
   "cell_type": "code",
   "execution_count": 1509,
   "id": "69fdc40b",
   "metadata": {
    "ExecuteTime": {
     "end_time": "2025-03-19T13:50:03.901953Z",
     "start_time": "2025-03-19T13:50:03.876587Z"
    }
   },
   "outputs": [
    {
     "data": {
      "text/plain": [
       "House / apartment      32548\n",
       "With parents            1776\n",
       "Municipal apartment     1128\n",
       "Rented apartment         575\n",
       "Office apartment         262\n",
       "Co-op apartment          168\n",
       "Name: NAME_HOUSING_TYPE, dtype: int64"
      ]
     },
     "execution_count": 1509,
     "metadata": {},
     "output_type": "execute_result"
    }
   ],
   "source": [
    "df['NAME_HOUSING_TYPE'].value_counts() # не все значения одинаково часто встречаются, target encoding не подойдет -> BinaryEncoding"
   ]
  },
  {
   "cell_type": "code",
   "execution_count": 1510,
   "id": "830bcc4d",
   "metadata": {
    "ExecuteTime": {
     "end_time": "2025-03-19T13:50:03.980561Z",
     "start_time": "2025-03-19T13:50:03.907209Z"
    }
   },
   "outputs": [],
   "source": [
    "# попробуем просто заменить на 0 и 1\n",
    "df['FLAG_OWN_CAR'] = df['FLAG_OWN_CAR'].replace({'Y' : 1, 'N' : 0})\n",
    "df['FLAG_OWN_REALTY'] = df['FLAG_OWN_REALTY'].replace({'Y' : 1, 'N' : 0})\n",
    "df['CODE_GENDER'] = df['CODE_GENDER'].replace({'F' : 1, 'M' : 0})"
   ]
  },
  {
   "cell_type": "code",
   "execution_count": 1511,
   "id": "72089d48",
   "metadata": {
    "ExecuteTime": {
     "end_time": "2025-03-19T13:50:04.010823Z",
     "start_time": "2025-03-19T13:50:03.986717Z"
    }
   },
   "outputs": [],
   "source": [
    "#  кодируем категориальный порядковый признак\n",
    "le = LabelEncoder()\n",
    "df['NAME_INCOME_TYPE'] = le.fit_transform(df['NAME_INCOME_TYPE'])\n",
    "df['NAME_HOUSING_TYPE'] = le.fit_transform(df['NAME_HOUSING_TYPE'])\n",
    "# df['NAME_EDUCATION_TYPE'] = le.fit_transform(df['NAME_EDUCATION_TYPE'])"
   ]
  },
  {
   "cell_type": "code",
   "execution_count": 1512,
   "id": "34cdca3f",
   "metadata": {
    "ExecuteTime": {
     "end_time": "2025-03-19T13:50:04.026216Z",
     "start_time": "2025-03-19T13:50:04.012824Z"
    }
   },
   "outputs": [],
   "source": [
    "# mean_encoding = df.groupby('NAME_FAMILY_STATUS')['STATUS'].mean()\n",
    "# df['NAME_FAMILY_STATUS'] = df['NAME_FAMILY_STATUS'].map(mean_encoding)"
   ]
  },
  {
   "cell_type": "code",
   "execution_count": 1513,
   "id": "10240141",
   "metadata": {
    "ExecuteTime": {
     "end_time": "2025-03-19T13:50:04.042334Z",
     "start_time": "2025-03-19T13:50:04.031334Z"
    }
   },
   "outputs": [
    {
     "data": {
      "text/plain": [
       "ID                     int64\n",
       "CODE_GENDER            int64\n",
       "FLAG_OWN_CAR           int64\n",
       "FLAG_OWN_REALTY        int64\n",
       "AMT_INCOME_TOTAL     float64\n",
       "NAME_INCOME_TYPE       int32\n",
       "NAME_HOUSING_TYPE      int32\n",
       "DAYS_BIRTH             int64\n",
       "FLAG_WORK_PHONE        int64\n",
       "FLAG_PHONE             int64\n",
       "FLAG_EMAIL             int64\n",
       "CNT_FAM_MEMBERS      float64\n",
       "STATUS                 int64\n",
       "dtype: object"
      ]
     },
     "execution_count": 1513,
     "metadata": {},
     "output_type": "execute_result"
    }
   ],
   "source": [
    "# смотрим типы данных\n",
    "df.dtypes"
   ]
  },
  {
   "cell_type": "code",
   "execution_count": 1514,
   "id": "20194b25",
   "metadata": {
    "ExecuteTime": {
     "end_time": "2025-03-19T13:50:04.074341Z",
     "start_time": "2025-03-19T13:50:04.045331Z"
    }
   },
   "outputs": [
    {
     "data": {
      "text/html": [
       "<div>\n",
       "<style scoped>\n",
       "    .dataframe tbody tr th:only-of-type {\n",
       "        vertical-align: middle;\n",
       "    }\n",
       "\n",
       "    .dataframe tbody tr th {\n",
       "        vertical-align: top;\n",
       "    }\n",
       "\n",
       "    .dataframe thead th {\n",
       "        text-align: right;\n",
       "    }\n",
       "</style>\n",
       "<table border=\"1\" class=\"dataframe\">\n",
       "  <thead>\n",
       "    <tr style=\"text-align: right;\">\n",
       "      <th></th>\n",
       "      <th>ID</th>\n",
       "      <th>CODE_GENDER</th>\n",
       "      <th>FLAG_OWN_CAR</th>\n",
       "      <th>FLAG_OWN_REALTY</th>\n",
       "      <th>AMT_INCOME_TOTAL</th>\n",
       "      <th>NAME_INCOME_TYPE</th>\n",
       "      <th>NAME_HOUSING_TYPE</th>\n",
       "      <th>DAYS_BIRTH</th>\n",
       "      <th>FLAG_WORK_PHONE</th>\n",
       "      <th>FLAG_PHONE</th>\n",
       "      <th>FLAG_EMAIL</th>\n",
       "      <th>CNT_FAM_MEMBERS</th>\n",
       "      <th>STATUS</th>\n",
       "    </tr>\n",
       "  </thead>\n",
       "  <tbody>\n",
       "    <tr>\n",
       "      <th>0</th>\n",
       "      <td>5008804</td>\n",
       "      <td>0</td>\n",
       "      <td>1</td>\n",
       "      <td>1</td>\n",
       "      <td>427500.0</td>\n",
       "      <td>4</td>\n",
       "      <td>4</td>\n",
       "      <td>-12005</td>\n",
       "      <td>1</td>\n",
       "      <td>0</td>\n",
       "      <td>0</td>\n",
       "      <td>2.0</td>\n",
       "      <td>1</td>\n",
       "    </tr>\n",
       "    <tr>\n",
       "      <th>1</th>\n",
       "      <td>5008805</td>\n",
       "      <td>0</td>\n",
       "      <td>1</td>\n",
       "      <td>1</td>\n",
       "      <td>427500.0</td>\n",
       "      <td>4</td>\n",
       "      <td>4</td>\n",
       "      <td>-12005</td>\n",
       "      <td>1</td>\n",
       "      <td>0</td>\n",
       "      <td>0</td>\n",
       "      <td>2.0</td>\n",
       "      <td>1</td>\n",
       "    </tr>\n",
       "    <tr>\n",
       "      <th>2</th>\n",
       "      <td>5008806</td>\n",
       "      <td>0</td>\n",
       "      <td>1</td>\n",
       "      <td>1</td>\n",
       "      <td>112500.0</td>\n",
       "      <td>4</td>\n",
       "      <td>1</td>\n",
       "      <td>-21474</td>\n",
       "      <td>0</td>\n",
       "      <td>0</td>\n",
       "      <td>0</td>\n",
       "      <td>2.0</td>\n",
       "      <td>0</td>\n",
       "    </tr>\n",
       "    <tr>\n",
       "      <th>3</th>\n",
       "      <td>5008808</td>\n",
       "      <td>1</td>\n",
       "      <td>0</td>\n",
       "      <td>1</td>\n",
       "      <td>270000.0</td>\n",
       "      <td>0</td>\n",
       "      <td>1</td>\n",
       "      <td>-19110</td>\n",
       "      <td>0</td>\n",
       "      <td>1</td>\n",
       "      <td>1</td>\n",
       "      <td>1.0</td>\n",
       "      <td>0</td>\n",
       "    </tr>\n",
       "    <tr>\n",
       "      <th>4</th>\n",
       "      <td>5008809</td>\n",
       "      <td>1</td>\n",
       "      <td>0</td>\n",
       "      <td>1</td>\n",
       "      <td>270000.0</td>\n",
       "      <td>0</td>\n",
       "      <td>1</td>\n",
       "      <td>-19110</td>\n",
       "      <td>0</td>\n",
       "      <td>1</td>\n",
       "      <td>1</td>\n",
       "      <td>1.0</td>\n",
       "      <td>0</td>\n",
       "    </tr>\n",
       "    <tr>\n",
       "      <th>...</th>\n",
       "      <td>...</td>\n",
       "      <td>...</td>\n",
       "      <td>...</td>\n",
       "      <td>...</td>\n",
       "      <td>...</td>\n",
       "      <td>...</td>\n",
       "      <td>...</td>\n",
       "      <td>...</td>\n",
       "      <td>...</td>\n",
       "      <td>...</td>\n",
       "      <td>...</td>\n",
       "      <td>...</td>\n",
       "      <td>...</td>\n",
       "    </tr>\n",
       "    <tr>\n",
       "      <th>434808</th>\n",
       "      <td>5149828</td>\n",
       "      <td>0</td>\n",
       "      <td>1</td>\n",
       "      <td>1</td>\n",
       "      <td>315000.0</td>\n",
       "      <td>4</td>\n",
       "      <td>1</td>\n",
       "      <td>-17348</td>\n",
       "      <td>0</td>\n",
       "      <td>0</td>\n",
       "      <td>0</td>\n",
       "      <td>2.0</td>\n",
       "      <td>1</td>\n",
       "    </tr>\n",
       "    <tr>\n",
       "      <th>434809</th>\n",
       "      <td>5149834</td>\n",
       "      <td>1</td>\n",
       "      <td>0</td>\n",
       "      <td>1</td>\n",
       "      <td>157500.0</td>\n",
       "      <td>0</td>\n",
       "      <td>1</td>\n",
       "      <td>-12387</td>\n",
       "      <td>0</td>\n",
       "      <td>1</td>\n",
       "      <td>1</td>\n",
       "      <td>2.0</td>\n",
       "      <td>1</td>\n",
       "    </tr>\n",
       "    <tr>\n",
       "      <th>434810</th>\n",
       "      <td>5149838</td>\n",
       "      <td>1</td>\n",
       "      <td>0</td>\n",
       "      <td>1</td>\n",
       "      <td>157500.0</td>\n",
       "      <td>1</td>\n",
       "      <td>1</td>\n",
       "      <td>-12387</td>\n",
       "      <td>0</td>\n",
       "      <td>1</td>\n",
       "      <td>1</td>\n",
       "      <td>2.0</td>\n",
       "      <td>1</td>\n",
       "    </tr>\n",
       "    <tr>\n",
       "      <th>434811</th>\n",
       "      <td>5150049</td>\n",
       "      <td>1</td>\n",
       "      <td>0</td>\n",
       "      <td>1</td>\n",
       "      <td>283500.0</td>\n",
       "      <td>4</td>\n",
       "      <td>1</td>\n",
       "      <td>-17958</td>\n",
       "      <td>0</td>\n",
       "      <td>0</td>\n",
       "      <td>0</td>\n",
       "      <td>2.0</td>\n",
       "      <td>1</td>\n",
       "    </tr>\n",
       "    <tr>\n",
       "      <th>434812</th>\n",
       "      <td>5150337</td>\n",
       "      <td>0</td>\n",
       "      <td>0</td>\n",
       "      <td>1</td>\n",
       "      <td>112500.0</td>\n",
       "      <td>4</td>\n",
       "      <td>4</td>\n",
       "      <td>-9188</td>\n",
       "      <td>0</td>\n",
       "      <td>0</td>\n",
       "      <td>0</td>\n",
       "      <td>1.0</td>\n",
       "      <td>1</td>\n",
       "    </tr>\n",
       "  </tbody>\n",
       "</table>\n",
       "<p>36457 rows × 13 columns</p>\n",
       "</div>"
      ],
      "text/plain": [
       "             ID  CODE_GENDER  FLAG_OWN_CAR  FLAG_OWN_REALTY  AMT_INCOME_TOTAL  \\\n",
       "0       5008804            0             1                1          427500.0   \n",
       "1       5008805            0             1                1          427500.0   \n",
       "2       5008806            0             1                1          112500.0   \n",
       "3       5008808            1             0                1          270000.0   \n",
       "4       5008809            1             0                1          270000.0   \n",
       "...         ...          ...           ...              ...               ...   \n",
       "434808  5149828            0             1                1          315000.0   \n",
       "434809  5149834            1             0                1          157500.0   \n",
       "434810  5149838            1             0                1          157500.0   \n",
       "434811  5150049            1             0                1          283500.0   \n",
       "434812  5150337            0             0                1          112500.0   \n",
       "\n",
       "        NAME_INCOME_TYPE  NAME_HOUSING_TYPE  DAYS_BIRTH  FLAG_WORK_PHONE  \\\n",
       "0                      4                  4      -12005                1   \n",
       "1                      4                  4      -12005                1   \n",
       "2                      4                  1      -21474                0   \n",
       "3                      0                  1      -19110                0   \n",
       "4                      0                  1      -19110                0   \n",
       "...                  ...                ...         ...              ...   \n",
       "434808                 4                  1      -17348                0   \n",
       "434809                 0                  1      -12387                0   \n",
       "434810                 1                  1      -12387                0   \n",
       "434811                 4                  1      -17958                0   \n",
       "434812                 4                  4       -9188                0   \n",
       "\n",
       "        FLAG_PHONE  FLAG_EMAIL  CNT_FAM_MEMBERS  STATUS  \n",
       "0                0           0              2.0       1  \n",
       "1                0           0              2.0       1  \n",
       "2                0           0              2.0       0  \n",
       "3                1           1              1.0       0  \n",
       "4                1           1              1.0       0  \n",
       "...            ...         ...              ...     ...  \n",
       "434808           0           0              2.0       1  \n",
       "434809           1           1              2.0       1  \n",
       "434810           1           1              2.0       1  \n",
       "434811           0           0              2.0       1  \n",
       "434812           0           0              1.0       1  \n",
       "\n",
       "[36457 rows x 13 columns]"
      ]
     },
     "execution_count": 1514,
     "metadata": {},
     "output_type": "execute_result"
    }
   ],
   "source": [
    "df"
   ]
  },
  {
   "cell_type": "code",
   "execution_count": 1515,
   "id": "8d690f3f",
   "metadata": {
    "ExecuteTime": {
     "end_time": "2025-03-19T13:50:04.090334Z",
     "start_time": "2025-03-19T13:50:04.077331Z"
    }
   },
   "outputs": [
    {
     "data": {
      "text/plain": [
       "0    32166\n",
       "1     4291\n",
       "Name: STATUS, dtype: int64"
      ]
     },
     "execution_count": 1515,
     "metadata": {},
     "output_type": "execute_result"
    }
   ],
   "source": [
    "df['STATUS'].value_counts()"
   ]
  },
  {
   "cell_type": "code",
   "execution_count": null,
   "id": "110685a7",
   "metadata": {},
   "outputs": [],
   "source": []
  },
  {
   "cell_type": "code",
   "execution_count": null,
   "id": "c1f9b4cb",
   "metadata": {},
   "outputs": [],
   "source": []
  },
  {
   "cell_type": "code",
   "execution_count": null,
   "id": "88497882",
   "metadata": {},
   "outputs": [],
   "source": []
  },
  {
   "cell_type": "code",
   "execution_count": null,
   "id": "119c4036",
   "metadata": {},
   "outputs": [],
   "source": []
  },
  {
   "cell_type": "code",
   "execution_count": null,
   "id": "58bfecc4",
   "metadata": {},
   "outputs": [],
   "source": []
  },
  {
   "cell_type": "code",
   "execution_count": 1516,
   "id": "686f0c7e",
   "metadata": {
    "ExecuteTime": {
     "end_time": "2025-03-19T13:50:05.123307Z",
     "start_time": "2025-03-19T13:50:04.092339Z"
    }
   },
   "outputs": [
    {
     "data": {
      "image/png": "[encoded data removed]",
      "text/plain": [
       "<Figure size 720x576 with 2 Axes>"
      ]
     },
     "metadata": {
      "needs_background": "light"
     },
     "output_type": "display_data"
    }
   ],
   "source": [
    "# Вычисление матрицы корреляций\n",
    "corr_matrix = df.corr()\n",
    "\n",
    "plt.figure(figsize=(10, 8))\n",
    "sns.heatmap(corr_matrix, annot=True, cmap='coolwarm', fmt='.2f')\n",
    "plt.title('Матрица корреляций (Пирсон)')\n",
    "plt.show()"
   ]
  },
  {
   "cell_type": "code",
   "execution_count": 1517,
   "id": "ea66d073",
   "metadata": {
    "ExecuteTime": {
     "end_time": "2025-03-19T13:50:05.230936Z",
     "start_time": "2025-03-19T13:50:05.126009Z"
    }
   },
   "outputs": [
    {
     "name": "stdout",
     "output_type": "stream",
     "text": [
      "             Feature   Pearson  Spearman\n",
      "10            STATUS  1.000000  1.000000\n",
      "5         DAYS_BIRTH  0.028943  0.029429\n",
      "4   AMT_INCOME_TOTAL  0.024202  0.016408\n",
      "8         FLAG_EMAIL  0.019658  0.019658\n",
      "9    CNT_FAM_MEMBERS  0.009004  0.005026\n",
      "0                 ID  0.003565  0.004818\n",
      "6    FLAG_WORK_PHONE -0.000149 -0.000149\n",
      "7         FLAG_PHONE -0.006355 -0.006355\n",
      "2       FLAG_OWN_CAR -0.010580 -0.010580\n",
      "1        CODE_GENDER -0.021257 -0.021257\n",
      "3    FLAG_OWN_REALTY -0.027990 -0.027990\n"
     ]
    }
   ],
   "source": [
    "correlation_results = []\n",
    "\n",
    "# Проходим по всем числовым признакам\n",
    "for col in df.select_dtypes(include=['float64', 'int64']).columns:\n",
    "    if col != 'target':\n",
    "        pearson_corr, _ = pearsonr(df[col], df['STATUS'])\n",
    "        spearman_corr, _ = spearmanr(df[col], df['STATUS'])\n",
    "        correlation_results.append((col, pearson_corr, spearman_corr))\n",
    "\n",
    "# Создаем DataFrame с результатами\n",
    "correlation_df = pd.DataFrame(correlation_results, columns=['Feature', 'Pearson', 'Spearman'])\n",
    "print(correlation_df.sort_values(by='Pearson', ascending=False))"
   ]
  },
  {
   "cell_type": "code",
   "execution_count": 1518,
   "id": "f2988662",
   "metadata": {
    "ExecuteTime": {
     "end_time": "2025-03-19T13:50:05.246680Z",
     "start_time": "2025-03-19T13:50:05.232902Z"
    }
   },
   "outputs": [],
   "source": [
    "# from statsmodels.stats.outliers_influence import variance_inflation_factor\n",
    "\n",
    "# vif_data = pd.DataFrame()\n",
    "# vif_data['Feature'] = df.columns\n",
    "# vif_data['VIF'] = [variance_inflation_factor(df.values, i) for i in range(df.shape[1])]\n",
    "# print(vif_data)\n",
    "# VIF > 5 или 10 указывает на сильную мультиколлинеарность."
   ]
  },
  {
   "cell_type": "code",
   "execution_count": 1519,
   "id": "70fdc29c",
   "metadata": {
    "ExecuteTime": {
     "end_time": "2025-03-19T13:50:05.434826Z",
     "start_time": "2025-03-19T13:50:05.250789Z"
    }
   },
   "outputs": [
    {
     "data": {
      "image/png": "[encoded data removed]",
      "text/plain": [
       "<Figure size 576x432 with 1 Axes>"
      ]
     },
     "metadata": {
      "needs_background": "light"
     },
     "output_type": "display_data"
    }
   ],
   "source": [
    "plt.figure(figsize=(8, 6))\n",
    "sns.boxplot(x='STATUS', y='AMT_INCOME_TOTAL', data=df)\n",
    "plt.title('Распределение дохода для дефолтных и недефолтных заемщиков')\n",
    "plt.show()"
   ]
  },
  {
   "cell_type": "code",
   "execution_count": 1520,
   "id": "0ff5868e",
   "metadata": {
    "ExecuteTime": {
     "end_time": "2025-03-19T13:50:05.449997Z",
     "start_time": "2025-03-19T13:50:05.437761Z"
    }
   },
   "outputs": [],
   "source": [
    "# # проверяем наличие выбросов с помощью визуализации\n",
    "\n",
    "# fig, ax = plt.subplots(nrows=3, ncols=3, figsize=(18,10))\n",
    "# sns.scatterplot(x=df['ID'], y=df['FLAG_OWN_CAR'], data=df, ax=ax[0][0])\n",
    "# sns.scatterplot(x=df['ID'], y=df['FLAG_OWN_REALTY'], data=df, ax=ax[0][1])\n",
    "# sns.scatterplot(x=df['ID'], y=df['AMT_INCOME_TOTAL'], data=df, ax=ax[0][2])\n",
    "\n",
    "# sns.scatterplot(x=df['ID'], y=df['NAME_INCOME_TYPE'], data=df, ax=ax[1][0])\n",
    "# sns.scatterplot(x=df['ID'], y=df['NAME_HOUSING_TYPE'], data=df, ax=ax[1][1])\n",
    "# sns.scatterplot(x=df['ID'], y=df['FLAG_WORK_PHONE'], data=df, ax=ax[1][2])\n",
    "\n",
    "# sns.scatterplot(x=df['ID'], y=df['FLAG_PHONE'], data=df, ax=ax[2][0])\n",
    "# sns.scatterplot(x=df['ID'], y=df['FLAG_EMAIL'], data=df, ax=ax[2][1])"
   ]
  },
  {
   "cell_type": "code",
   "execution_count": 1521,
   "id": "3563a651",
   "metadata": {
    "ExecuteTime": {
     "end_time": "2025-03-19T13:50:05.466189Z",
     "start_time": "2025-03-19T13:50:05.452995Z"
    }
   },
   "outputs": [],
   "source": [
    "# # Вычисляем Z-оценки и удаляем выбросы (|Z| > 3)\n",
    "# df['z_score'] = zscore(df['AMT_INCOME_TOTAL'])\n",
    "# df = df[np.abs(df['z_score']) <= 3]"
   ]
  },
  {
   "cell_type": "code",
   "execution_count": 1522,
   "id": "571b2ebf",
   "metadata": {
    "ExecuteTime": {
     "end_time": "2025-03-19T13:50:05.481198Z",
     "start_time": "2025-03-19T13:50:05.471315Z"
    }
   },
   "outputs": [],
   "source": [
    "# # Вычисляем Z-оценки и удаляем выбросы (|Z| > 3)\n",
    "# df['z_score'] = zscore(df['NAME_INCOME_TYPE'])\n",
    "# df = df[np.abs(df['z_score']) <= 3]"
   ]
  },
  {
   "cell_type": "code",
   "execution_count": 1523,
   "id": "81fbc359",
   "metadata": {
    "ExecuteTime": {
     "end_time": "2025-03-19T13:50:05.497213Z",
     "start_time": "2025-03-19T13:50:05.486209Z"
    }
   },
   "outputs": [],
   "source": [
    "# # проверяем наличие выбросов с помощью визуализации после очистки\n",
    "\n",
    "# fig, ax = plt.subplots(nrows=3, ncols=3, figsize=(18,10))\n",
    "# sns.scatterplot(x=df['ID'], y=df['FLAG_OWN_CAR'], data=df, ax=ax[0][0])\n",
    "# sns.scatterplot(x=df['ID'], y=df['FLAG_OWN_REALTY'], data=df, ax=ax[0][1])\n",
    "# sns.scatterplot(x=df['ID'], y=df['AMT_INCOME_TOTAL'], data=df, ax=ax[0][2])\n",
    "\n",
    "# sns.scatterplot(x=df['ID'], y=df['NAME_INCOME_TYPE'], data=df, ax=ax[1][0])\n",
    "# sns.scatterplot(x=df['ID'], y=df['NAME_HOUSING_TYPE'], data=df, ax=ax[1][1])\n",
    "# sns.scatterplot(x=df['ID'], y=df['FLAG_WORK_PHONE'], data=df, ax=ax[1][2])\n",
    "\n",
    "# sns.scatterplot(x=df['ID'], y=df['FLAG_PHONE'], data=df, ax=ax[2][0])\n",
    "# sns.scatterplot(x=df['ID'], y=df['FLAG_EMAIL'], data=df, ax=ax[2][1])"
   ]
  },
  {
   "cell_type": "code",
   "execution_count": 1524,
   "id": "3444d666",
   "metadata": {
    "ExecuteTime": {
     "end_time": "2025-03-19T13:50:05.513441Z",
     "start_time": "2025-03-19T13:50:05.501213Z"
    }
   },
   "outputs": [],
   "source": [
    "# генерация признаков + PSI "
   ]
  },
  {
   "cell_type": "code",
   "execution_count": 1525,
   "id": "d60a7347",
   "metadata": {
    "ExecuteTime": {
     "end_time": "2025-03-19T13:50:05.545112Z",
     "start_time": "2025-03-19T13:50:05.519842Z"
    }
   },
   "outputs": [
    {
     "data": {
      "text/plain": [
       "0         33\n",
       "1         33\n",
       "2         59\n",
       "3         53\n",
       "4         53\n",
       "          ..\n",
       "434808    48\n",
       "434809    34\n",
       "434810    34\n",
       "434811    50\n",
       "434812    26\n",
       "Name: DAYS_BIRTH, Length: 36457, dtype: int64"
      ]
     },
     "execution_count": 1525,
     "metadata": {},
     "output_type": "execute_result"
    }
   ],
   "source": [
    "df['DAYS_BIRTH'] = - (df['DAYS_BIRTH'] // 365)\n",
    "df['DAYS_BIRTH']"
   ]
  },
  {
   "cell_type": "code",
   "execution_count": 1526,
   "id": "f1eddcd9",
   "metadata": {
    "ExecuteTime": {
     "end_time": "2025-03-19T13:50:05.701924Z",
     "start_time": "2025-03-19T13:50:05.548987Z"
    }
   },
   "outputs": [
    {
     "data": {
      "image/png": "[encoded data removed]",
      "text/plain": [
       "<Figure size 432x288 with 1 Axes>"
      ]
     },
     "metadata": {
      "needs_background": "light"
     },
     "output_type": "display_data"
    }
   ],
   "source": [
    "plt.hist(df['DAYS_BIRTH'], bins=10, edgecolor='black')\n",
    "plt.show()"
   ]
  },
  {
   "cell_type": "code",
   "execution_count": 1527,
   "id": "ac870db9",
   "metadata": {
    "ExecuteTime": {
     "end_time": "2025-03-19T13:50:05.717303Z",
     "start_time": "2025-03-19T13:50:05.703888Z"
    }
   },
   "outputs": [],
   "source": [
    "# Определяем границы бинов\n",
    "bins = [20, 30, 40, 50, 60, 100]\n",
    "\n",
    "# Создаем метки для бинов\n",
    "labels = ['21-30', '31-40', '41-50', '51-60', '60+']\n",
    "\n",
    "# Разбиваем возраст на бины\n",
    "df['DAYS_BIRTH'] = pd.cut(df['DAYS_BIRTH'], bins=bins, labels=labels, right=False)"
   ]
  },
  {
   "cell_type": "code",
   "execution_count": 1528,
   "id": "b6bff0da",
   "metadata": {
    "ExecuteTime": {
     "end_time": "2025-03-19T13:50:05.733389Z",
     "start_time": "2025-03-19T13:50:05.719207Z"
    }
   },
   "outputs": [
    {
     "data": {
      "text/plain": [
       "31-40    10258\n",
       "41-50     9670\n",
       "51-60     7889\n",
       "60+       4638\n",
       "21-30     4002\n",
       "Name: DAYS_BIRTH, dtype: int64"
      ]
     },
     "execution_count": 1528,
     "metadata": {},
     "output_type": "execute_result"
    }
   ],
   "source": [
    "df['DAYS_BIRTH'].value_counts()"
   ]
  },
  {
   "cell_type": "code",
   "execution_count": 1529,
   "id": "5f213f4a",
   "metadata": {
    "ExecuteTime": {
     "end_time": "2025-03-19T13:50:05.748952Z",
     "start_time": "2025-03-19T13:50:05.736015Z"
    }
   },
   "outputs": [],
   "source": [
    "mean_encoding = df.groupby('DAYS_BIRTH')['STATUS'].mean()\n",
    "df['DAYS_BIRTH'] = df['DAYS_BIRTH'].map(mean_encoding)"
   ]
  },
  {
   "cell_type": "code",
   "execution_count": 1530,
   "id": "70508a33",
   "metadata": {
    "ExecuteTime": {
     "end_time": "2025-03-19T13:50:05.780389Z",
     "start_time": "2025-03-19T13:50:05.752555Z"
    }
   },
   "outputs": [
    {
     "data": {
      "text/html": [
       "<div>\n",
       "<style scoped>\n",
       "    .dataframe tbody tr th:only-of-type {\n",
       "        vertical-align: middle;\n",
       "    }\n",
       "\n",
       "    .dataframe tbody tr th {\n",
       "        vertical-align: top;\n",
       "    }\n",
       "\n",
       "    .dataframe thead th {\n",
       "        text-align: right;\n",
       "    }\n",
       "</style>\n",
       "<table border=\"1\" class=\"dataframe\">\n",
       "  <thead>\n",
       "    <tr style=\"text-align: right;\">\n",
       "      <th></th>\n",
       "      <th>ID</th>\n",
       "      <th>CODE_GENDER</th>\n",
       "      <th>FLAG_OWN_CAR</th>\n",
       "      <th>FLAG_OWN_REALTY</th>\n",
       "      <th>AMT_INCOME_TOTAL</th>\n",
       "      <th>NAME_INCOME_TYPE</th>\n",
       "      <th>NAME_HOUSING_TYPE</th>\n",
       "      <th>DAYS_BIRTH</th>\n",
       "      <th>FLAG_WORK_PHONE</th>\n",
       "      <th>FLAG_PHONE</th>\n",
       "      <th>FLAG_EMAIL</th>\n",
       "      <th>CNT_FAM_MEMBERS</th>\n",
       "      <th>STATUS</th>\n",
       "    </tr>\n",
       "  </thead>\n",
       "  <tbody>\n",
       "    <tr>\n",
       "      <th>0</th>\n",
       "      <td>5008804</td>\n",
       "      <td>0</td>\n",
       "      <td>1</td>\n",
       "      <td>1</td>\n",
       "      <td>427500.0</td>\n",
       "      <td>4</td>\n",
       "      <td>4</td>\n",
       "      <td>0.127998</td>\n",
       "      <td>1</td>\n",
       "      <td>0</td>\n",
       "      <td>0</td>\n",
       "      <td>2.0</td>\n",
       "      <td>1</td>\n",
       "    </tr>\n",
       "    <tr>\n",
       "      <th>1</th>\n",
       "      <td>5008805</td>\n",
       "      <td>0</td>\n",
       "      <td>1</td>\n",
       "      <td>1</td>\n",
       "      <td>427500.0</td>\n",
       "      <td>4</td>\n",
       "      <td>4</td>\n",
       "      <td>0.127998</td>\n",
       "      <td>1</td>\n",
       "      <td>0</td>\n",
       "      <td>0</td>\n",
       "      <td>2.0</td>\n",
       "      <td>1</td>\n",
       "    </tr>\n",
       "    <tr>\n",
       "      <th>2</th>\n",
       "      <td>5008806</td>\n",
       "      <td>0</td>\n",
       "      <td>1</td>\n",
       "      <td>1</td>\n",
       "      <td>112500.0</td>\n",
       "      <td>4</td>\n",
       "      <td>1</td>\n",
       "      <td>0.113703</td>\n",
       "      <td>0</td>\n",
       "      <td>0</td>\n",
       "      <td>0</td>\n",
       "      <td>2.0</td>\n",
       "      <td>0</td>\n",
       "    </tr>\n",
       "    <tr>\n",
       "      <th>3</th>\n",
       "      <td>5008808</td>\n",
       "      <td>1</td>\n",
       "      <td>0</td>\n",
       "      <td>1</td>\n",
       "      <td>270000.0</td>\n",
       "      <td>0</td>\n",
       "      <td>1</td>\n",
       "      <td>0.113703</td>\n",
       "      <td>0</td>\n",
       "      <td>1</td>\n",
       "      <td>1</td>\n",
       "      <td>1.0</td>\n",
       "      <td>0</td>\n",
       "    </tr>\n",
       "    <tr>\n",
       "      <th>4</th>\n",
       "      <td>5008809</td>\n",
       "      <td>1</td>\n",
       "      <td>0</td>\n",
       "      <td>1</td>\n",
       "      <td>270000.0</td>\n",
       "      <td>0</td>\n",
       "      <td>1</td>\n",
       "      <td>0.113703</td>\n",
       "      <td>0</td>\n",
       "      <td>1</td>\n",
       "      <td>1</td>\n",
       "      <td>1.0</td>\n",
       "      <td>0</td>\n",
       "    </tr>\n",
       "    <tr>\n",
       "      <th>...</th>\n",
       "      <td>...</td>\n",
       "      <td>...</td>\n",
       "      <td>...</td>\n",
       "      <td>...</td>\n",
       "      <td>...</td>\n",
       "      <td>...</td>\n",
       "      <td>...</td>\n",
       "      <td>...</td>\n",
       "      <td>...</td>\n",
       "      <td>...</td>\n",
       "      <td>...</td>\n",
       "      <td>...</td>\n",
       "      <td>...</td>\n",
       "    </tr>\n",
       "    <tr>\n",
       "      <th>434808</th>\n",
       "      <td>5149828</td>\n",
       "      <td>0</td>\n",
       "      <td>1</td>\n",
       "      <td>1</td>\n",
       "      <td>315000.0</td>\n",
       "      <td>4</td>\n",
       "      <td>1</td>\n",
       "      <td>0.109721</td>\n",
       "      <td>0</td>\n",
       "      <td>0</td>\n",
       "      <td>0</td>\n",
       "      <td>2.0</td>\n",
       "      <td>1</td>\n",
       "    </tr>\n",
       "    <tr>\n",
       "      <th>434809</th>\n",
       "      <td>5149834</td>\n",
       "      <td>1</td>\n",
       "      <td>0</td>\n",
       "      <td>1</td>\n",
       "      <td>157500.0</td>\n",
       "      <td>0</td>\n",
       "      <td>1</td>\n",
       "      <td>0.127998</td>\n",
       "      <td>0</td>\n",
       "      <td>1</td>\n",
       "      <td>1</td>\n",
       "      <td>2.0</td>\n",
       "      <td>1</td>\n",
       "    </tr>\n",
       "    <tr>\n",
       "      <th>434810</th>\n",
       "      <td>5149838</td>\n",
       "      <td>1</td>\n",
       "      <td>0</td>\n",
       "      <td>1</td>\n",
       "      <td>157500.0</td>\n",
       "      <td>1</td>\n",
       "      <td>1</td>\n",
       "      <td>0.127998</td>\n",
       "      <td>0</td>\n",
       "      <td>1</td>\n",
       "      <td>1</td>\n",
       "      <td>2.0</td>\n",
       "      <td>1</td>\n",
       "    </tr>\n",
       "    <tr>\n",
       "      <th>434811</th>\n",
       "      <td>5150049</td>\n",
       "      <td>1</td>\n",
       "      <td>0</td>\n",
       "      <td>1</td>\n",
       "      <td>283500.0</td>\n",
       "      <td>4</td>\n",
       "      <td>1</td>\n",
       "      <td>0.113703</td>\n",
       "      <td>0</td>\n",
       "      <td>0</td>\n",
       "      <td>0</td>\n",
       "      <td>2.0</td>\n",
       "      <td>1</td>\n",
       "    </tr>\n",
       "    <tr>\n",
       "      <th>434812</th>\n",
       "      <td>5150337</td>\n",
       "      <td>0</td>\n",
       "      <td>0</td>\n",
       "      <td>1</td>\n",
       "      <td>112500.0</td>\n",
       "      <td>4</td>\n",
       "      <td>4</td>\n",
       "      <td>0.134683</td>\n",
       "      <td>0</td>\n",
       "      <td>0</td>\n",
       "      <td>0</td>\n",
       "      <td>1.0</td>\n",
       "      <td>1</td>\n",
       "    </tr>\n",
       "  </tbody>\n",
       "</table>\n",
       "<p>36457 rows × 13 columns</p>\n",
       "</div>"
      ],
      "text/plain": [
       "             ID  CODE_GENDER  FLAG_OWN_CAR  FLAG_OWN_REALTY  AMT_INCOME_TOTAL  \\\n",
       "0       5008804            0             1                1          427500.0   \n",
       "1       5008805            0             1                1          427500.0   \n",
       "2       5008806            0             1                1          112500.0   \n",
       "3       5008808            1             0                1          270000.0   \n",
       "4       5008809            1             0                1          270000.0   \n",
       "...         ...          ...           ...              ...               ...   \n",
       "434808  5149828            0             1                1          315000.0   \n",
       "434809  5149834            1             0                1          157500.0   \n",
       "434810  5149838            1             0                1          157500.0   \n",
       "434811  5150049            1             0                1          283500.0   \n",
       "434812  5150337            0             0                1          112500.0   \n",
       "\n",
       "        NAME_INCOME_TYPE  NAME_HOUSING_TYPE DAYS_BIRTH  FLAG_WORK_PHONE  \\\n",
       "0                      4                  4   0.127998                1   \n",
       "1                      4                  4   0.127998                1   \n",
       "2                      4                  1   0.113703                0   \n",
       "3                      0                  1   0.113703                0   \n",
       "4                      0                  1   0.113703                0   \n",
       "...                  ...                ...        ...              ...   \n",
       "434808                 4                  1   0.109721                0   \n",
       "434809                 0                  1   0.127998                0   \n",
       "434810                 1                  1   0.127998                0   \n",
       "434811                 4                  1   0.113703                0   \n",
       "434812                 4                  4   0.134683                0   \n",
       "\n",
       "        FLAG_PHONE  FLAG_EMAIL  CNT_FAM_MEMBERS  STATUS  \n",
       "0                0           0              2.0       1  \n",
       "1                0           0              2.0       1  \n",
       "2                0           0              2.0       0  \n",
       "3                1           1              1.0       0  \n",
       "4                1           1              1.0       0  \n",
       "...            ...         ...              ...     ...  \n",
       "434808           0           0              2.0       1  \n",
       "434809           1           1              2.0       1  \n",
       "434810           1           1              2.0       1  \n",
       "434811           0           0              2.0       1  \n",
       "434812           0           0              1.0       1  \n",
       "\n",
       "[36457 rows x 13 columns]"
      ]
     },
     "execution_count": 1530,
     "metadata": {},
     "output_type": "execute_result"
    }
   ],
   "source": [
    "df"
   ]
  },
  {
   "cell_type": "code",
   "execution_count": 1531,
   "id": "c818ae56",
   "metadata": {
    "ExecuteTime": {
     "end_time": "2025-03-19T13:50:05.812179Z",
     "start_time": "2025-03-19T13:50:05.784393Z"
    }
   },
   "outputs": [],
   "source": [
    "X = df.iloc[:,1:-1]  # с конца убираем таргет \n",
    "y = df['STATUS']"
   ]
  },
  {
   "cell_type": "code",
   "execution_count": 1532,
   "id": "48585420",
   "metadata": {
    "ExecuteTime": {
     "end_time": "2025-03-19T13:50:05.842270Z",
     "start_time": "2025-03-19T13:50:05.817189Z"
    }
   },
   "outputs": [],
   "source": [
    "# делим данные на обучающую и тестовую выборки\n",
    "X_train, X_test, y_train, y_test = train_test_split(X, y, test_size=0.2, random_state=42)"
   ]
  },
  {
   "cell_type": "code",
   "execution_count": 1533,
   "id": "b52fa5bf",
   "metadata": {
    "ExecuteTime": {
     "end_time": "2025-03-19T13:50:05.906395Z",
     "start_time": "2025-03-19T13:50:05.847286Z"
    }
   },
   "outputs": [],
   "source": [
    "# приводим признаки к одной шкале, RobustScaler не чувствителен к выбросам в отличие от MinMaxScaler()\n",
    "rs = RobustScaler()\n",
    "X_scaled = pd.DataFrame(rs.fit_transform(X_train), columns=X_train.columns)\n",
    "X_test_scaled = pd.DataFrame(rs.transform(X_test), columns=X_test.columns)"
   ]
  },
  {
   "cell_type": "code",
   "execution_count": 1534,
   "id": "d6406365",
   "metadata": {
    "ExecuteTime": {
     "end_time": "2025-03-19T13:50:05.922230Z",
     "start_time": "2025-03-19T13:50:05.912215Z"
    }
   },
   "outputs": [],
   "source": [
    "# # приводим признаки к одной шкале, MinMaxScaler() чувствителен к выбросам \n",
    "# rs = MinMaxScaler()\n",
    "# X_scaled = pd.DataFrame(rs.fit_transform(X_train), columns=X_train.columns)\n",
    "# X_test_scaled = pd.DataFrame(rs.transform(X_test), columns=X_test.columns)"
   ]
  },
  {
   "cell_type": "code",
   "execution_count": 1535,
   "id": "8644b4d7",
   "metadata": {
    "ExecuteTime": {
     "end_time": "2025-03-19T13:50:05.985888Z",
     "start_time": "2025-03-19T13:50:05.928735Z"
    }
   },
   "outputs": [
    {
     "data": {
      "text/html": [
       "<div>\n",
       "<style scoped>\n",
       "    .dataframe tbody tr th:only-of-type {\n",
       "        vertical-align: middle;\n",
       "    }\n",
       "\n",
       "    .dataframe tbody tr th {\n",
       "        vertical-align: top;\n",
       "    }\n",
       "\n",
       "    .dataframe thead th {\n",
       "        text-align: right;\n",
       "    }\n",
       "</style>\n",
       "<table border=\"1\" class=\"dataframe\">\n",
       "  <thead>\n",
       "    <tr style=\"text-align: right;\">\n",
       "      <th></th>\n",
       "      <th>CODE_GENDER</th>\n",
       "      <th>FLAG_OWN_CAR</th>\n",
       "      <th>FLAG_OWN_REALTY</th>\n",
       "      <th>AMT_INCOME_TOTAL</th>\n",
       "      <th>NAME_INCOME_TYPE</th>\n",
       "      <th>NAME_HOUSING_TYPE</th>\n",
       "      <th>DAYS_BIRTH</th>\n",
       "      <th>FLAG_WORK_PHONE</th>\n",
       "      <th>FLAG_PHONE</th>\n",
       "      <th>FLAG_EMAIL</th>\n",
       "      <th>CNT_FAM_MEMBERS</th>\n",
       "    </tr>\n",
       "  </thead>\n",
       "  <tbody>\n",
       "    <tr>\n",
       "      <th>0</th>\n",
       "      <td>-1.0</td>\n",
       "      <td>1.0</td>\n",
       "      <td>0.0</td>\n",
       "      <td>-0.217391</td>\n",
       "      <td>0.000000</td>\n",
       "      <td>4.0</td>\n",
       "      <td>-0.217862</td>\n",
       "      <td>0.0</td>\n",
       "      <td>0.0</td>\n",
       "      <td>0.0</td>\n",
       "      <td>0.0</td>\n",
       "    </tr>\n",
       "    <tr>\n",
       "      <th>1</th>\n",
       "      <td>0.0</td>\n",
       "      <td>1.0</td>\n",
       "      <td>-1.0</td>\n",
       "      <td>-0.217391</td>\n",
       "      <td>-1.333333</td>\n",
       "      <td>0.0</td>\n",
       "      <td>1.147901</td>\n",
       "      <td>0.0</td>\n",
       "      <td>0.0</td>\n",
       "      <td>0.0</td>\n",
       "      <td>0.0</td>\n",
       "    </tr>\n",
       "    <tr>\n",
       "      <th>2</th>\n",
       "      <td>0.0</td>\n",
       "      <td>0.0</td>\n",
       "      <td>0.0</td>\n",
       "      <td>0.217391</td>\n",
       "      <td>-1.333333</td>\n",
       "      <td>0.0</td>\n",
       "      <td>0.782138</td>\n",
       "      <td>0.0</td>\n",
       "      <td>0.0</td>\n",
       "      <td>0.0</td>\n",
       "      <td>2.0</td>\n",
       "    </tr>\n",
       "    <tr>\n",
       "      <th>3</th>\n",
       "      <td>0.0</td>\n",
       "      <td>1.0</td>\n",
       "      <td>0.0</td>\n",
       "      <td>1.956522</td>\n",
       "      <td>-1.333333</td>\n",
       "      <td>0.0</td>\n",
       "      <td>0.000000</td>\n",
       "      <td>0.0</td>\n",
       "      <td>0.0</td>\n",
       "      <td>1.0</td>\n",
       "      <td>-1.0</td>\n",
       "    </tr>\n",
       "    <tr>\n",
       "      <th>4</th>\n",
       "      <td>0.0</td>\n",
       "      <td>0.0</td>\n",
       "      <td>-1.0</td>\n",
       "      <td>1.086957</td>\n",
       "      <td>0.000000</td>\n",
       "      <td>0.0</td>\n",
       "      <td>-0.217862</td>\n",
       "      <td>0.0</td>\n",
       "      <td>1.0</td>\n",
       "      <td>0.0</td>\n",
       "      <td>-1.0</td>\n",
       "    </tr>\n",
       "    <tr>\n",
       "      <th>...</th>\n",
       "      <td>...</td>\n",
       "      <td>...</td>\n",
       "      <td>...</td>\n",
       "      <td>...</td>\n",
       "      <td>...</td>\n",
       "      <td>...</td>\n",
       "      <td>...</td>\n",
       "      <td>...</td>\n",
       "      <td>...</td>\n",
       "      <td>...</td>\n",
       "      <td>...</td>\n",
       "    </tr>\n",
       "    <tr>\n",
       "      <th>29160</th>\n",
       "      <td>0.0</td>\n",
       "      <td>0.0</td>\n",
       "      <td>0.0</td>\n",
       "      <td>-0.434783</td>\n",
       "      <td>-1.000000</td>\n",
       "      <td>0.0</td>\n",
       "      <td>-0.546818</td>\n",
       "      <td>0.0</td>\n",
       "      <td>1.0</td>\n",
       "      <td>1.0</td>\n",
       "      <td>-1.0</td>\n",
       "    </tr>\n",
       "    <tr>\n",
       "      <th>29161</th>\n",
       "      <td>0.0</td>\n",
       "      <td>0.0</td>\n",
       "      <td>0.0</td>\n",
       "      <td>-0.217391</td>\n",
       "      <td>-1.333333</td>\n",
       "      <td>0.0</td>\n",
       "      <td>-0.217862</td>\n",
       "      <td>0.0</td>\n",
       "      <td>0.0</td>\n",
       "      <td>0.0</td>\n",
       "      <td>1.0</td>\n",
       "    </tr>\n",
       "    <tr>\n",
       "      <th>29162</th>\n",
       "      <td>0.0</td>\n",
       "      <td>0.0</td>\n",
       "      <td>0.0</td>\n",
       "      <td>-0.782609</td>\n",
       "      <td>0.000000</td>\n",
       "      <td>0.0</td>\n",
       "      <td>-0.217862</td>\n",
       "      <td>1.0</td>\n",
       "      <td>1.0</td>\n",
       "      <td>0.0</td>\n",
       "      <td>0.0</td>\n",
       "    </tr>\n",
       "    <tr>\n",
       "      <th>29163</th>\n",
       "      <td>0.0</td>\n",
       "      <td>0.0</td>\n",
       "      <td>0.0</td>\n",
       "      <td>0.000000</td>\n",
       "      <td>-1.000000</td>\n",
       "      <td>0.0</td>\n",
       "      <td>-0.546818</td>\n",
       "      <td>0.0</td>\n",
       "      <td>1.0</td>\n",
       "      <td>0.0</td>\n",
       "      <td>0.0</td>\n",
       "    </tr>\n",
       "    <tr>\n",
       "      <th>29164</th>\n",
       "      <td>0.0</td>\n",
       "      <td>0.0</td>\n",
       "      <td>0.0</td>\n",
       "      <td>4.130435</td>\n",
       "      <td>-1.333333</td>\n",
       "      <td>0.0</td>\n",
       "      <td>0.000000</td>\n",
       "      <td>0.0</td>\n",
       "      <td>1.0</td>\n",
       "      <td>0.0</td>\n",
       "      <td>0.0</td>\n",
       "    </tr>\n",
       "  </tbody>\n",
       "</table>\n",
       "<p>29165 rows × 11 columns</p>\n",
       "</div>"
      ],
      "text/plain": [
       "       CODE_GENDER  FLAG_OWN_CAR  FLAG_OWN_REALTY  AMT_INCOME_TOTAL  \\\n",
       "0             -1.0           1.0              0.0         -0.217391   \n",
       "1              0.0           1.0             -1.0         -0.217391   \n",
       "2              0.0           0.0              0.0          0.217391   \n",
       "3              0.0           1.0              0.0          1.956522   \n",
       "4              0.0           0.0             -1.0          1.086957   \n",
       "...            ...           ...              ...               ...   \n",
       "29160          0.0           0.0              0.0         -0.434783   \n",
       "29161          0.0           0.0              0.0         -0.217391   \n",
       "29162          0.0           0.0              0.0         -0.782609   \n",
       "29163          0.0           0.0              0.0          0.000000   \n",
       "29164          0.0           0.0              0.0          4.130435   \n",
       "\n",
       "       NAME_INCOME_TYPE  NAME_HOUSING_TYPE  DAYS_BIRTH  FLAG_WORK_PHONE  \\\n",
       "0              0.000000                4.0   -0.217862              0.0   \n",
       "1             -1.333333                0.0    1.147901              0.0   \n",
       "2             -1.333333                0.0    0.782138              0.0   \n",
       "3             -1.333333                0.0    0.000000              0.0   \n",
       "4              0.000000                0.0   -0.217862              0.0   \n",
       "...                 ...                ...         ...              ...   \n",
       "29160         -1.000000                0.0   -0.546818              0.0   \n",
       "29161         -1.333333                0.0   -0.217862              0.0   \n",
       "29162          0.000000                0.0   -0.217862              1.0   \n",
       "29163         -1.000000                0.0   -0.546818              0.0   \n",
       "29164         -1.333333                0.0    0.000000              0.0   \n",
       "\n",
       "       FLAG_PHONE  FLAG_EMAIL  CNT_FAM_MEMBERS  \n",
       "0             0.0         0.0              0.0  \n",
       "1             0.0         0.0              0.0  \n",
       "2             0.0         0.0              2.0  \n",
       "3             0.0         1.0             -1.0  \n",
       "4             1.0         0.0             -1.0  \n",
       "...           ...         ...              ...  \n",
       "29160         1.0         1.0             -1.0  \n",
       "29161         0.0         0.0              1.0  \n",
       "29162         1.0         0.0              0.0  \n",
       "29163         1.0         0.0              0.0  \n",
       "29164         1.0         0.0              0.0  \n",
       "\n",
       "[29165 rows x 11 columns]"
      ]
     },
     "execution_count": 1535,
     "metadata": {},
     "output_type": "execute_result"
    }
   ],
   "source": [
    "X_scaled"
   ]
  },
  {
   "cell_type": "code",
   "execution_count": 1536,
   "id": "8c2c6969",
   "metadata": {
    "ExecuteTime": {
     "end_time": "2025-03-19T13:50:06.001878Z",
     "start_time": "2025-03-19T13:50:05.989868Z"
    }
   },
   "outputs": [
    {
     "data": {
      "text/plain": [
       "0    25746\n",
       "1     3419\n",
       "Name: STATUS, dtype: int64"
      ]
     },
     "execution_count": 1536,
     "metadata": {},
     "output_type": "execute_result"
    }
   ],
   "source": [
    "y_train.value_counts()"
   ]
  },
  {
   "cell_type": "code",
   "execution_count": 1537,
   "id": "419729a4",
   "metadata": {
    "ExecuteTime": {
     "end_time": "2025-03-19T13:50:06.747910Z",
     "start_time": "2025-03-19T13:50:06.003879Z"
    }
   },
   "outputs": [],
   "source": [
    "oversample = SMOTE() # Synthetic Minority Over-sampling Technique\n",
    "X_balanced, y_balanced = oversample.fit_resample(X_scaled, y_train)"
   ]
  },
  {
   "cell_type": "code",
   "execution_count": 1538,
   "id": "c5788c82",
   "metadata": {
    "ExecuteTime": {
     "end_time": "2025-03-19T13:50:06.763908Z",
     "start_time": "2025-03-19T13:50:06.749846Z"
    }
   },
   "outputs": [
    {
     "data": {
      "text/plain": [
       "1    25746\n",
       "0    25746\n",
       "Name: STATUS, dtype: int64"
      ]
     },
     "execution_count": 1538,
     "metadata": {},
     "output_type": "execute_result"
    }
   ],
   "source": [
    "y_balanced.value_counts()"
   ]
  },
  {
   "cell_type": "code",
   "execution_count": 1539,
   "id": "e92caade",
   "metadata": {
    "ExecuteTime": {
     "end_time": "2025-03-19T13:50:06.779576Z",
     "start_time": "2025-03-19T13:50:06.765808Z"
    }
   },
   "outputs": [],
   "source": [
    "# def calculate_psi(expected, actual, bins=10, epsilon=1e-6):\n",
    "#     # Разбиваем данные на бины\n",
    "#     breakpoints = np.histogram_bin_edges(expected, bins=bins)\n",
    "#     expected_counts, _ = np.histogram(expected, bins=breakpoints)\n",
    "#     actual_counts, _ = np.histogram(actual, bins=breakpoints)\n",
    "    \n",
    "#     # Добавляем epsilon, чтобы избежать деления на ноль\n",
    "#     expected_counts = expected_counts + epsilon\n",
    "#     actual_counts = actual_counts + epsilon\n",
    "    \n",
    "#     # Нормализуем до процентов\n",
    "#     expected_percents = expected_counts / np.sum(expected_counts)\n",
    "#     actual_percents = actual_counts / np.sum(actual_counts)\n",
    "    \n",
    "#     # Рассчитываем PSI\n",
    "#     psi = np.sum((actual_percents - expected_percents) * np.log(actual_percents / expected_percents))\n",
    "    \n",
    "#     return psi\n",
    "\n",
    "# def calculate_psi_for_dataframe(df_expected, df_actual, bins=10):\n",
    "#     psi_results = {}\n",
    "    \n",
    "#     for column in df_expected.columns:\n",
    "#         expected = df_expected[column]\n",
    "#         actual = df_actual[column]\n",
    "#         psi_value = calculate_psi(expected, actual, bins=bins)\n",
    "#         psi_results[column] = psi_value\n",
    "    \n",
    "#     return psi_results"
   ]
  },
  {
   "cell_type": "code",
   "execution_count": 1540,
   "id": "b1f42d3f",
   "metadata": {
    "ExecuteTime": {
     "end_time": "2025-03-19T13:50:06.795126Z",
     "start_time": "2025-03-19T13:50:06.781517Z"
    }
   },
   "outputs": [],
   "source": [
    "# # Рассчитываем PSI для всех признаков\n",
    "# psi_results = calculate_psi_for_dataframe(X_balanced, X_test_balanced, bins=10)\n",
    "\n",
    "# # Выводим результаты\n",
    "# for feature, psi in psi_results.items():\n",
    "#     print(f\"PSI для признака {feature}: {psi:.4f}\")"
   ]
  },
  {
   "cell_type": "code",
   "execution_count": 1541,
   "id": "b959b60e",
   "metadata": {
    "ExecuteTime": {
     "end_time": "2025-03-19T13:50:06.810225Z",
     "start_time": "2025-03-19T13:50:06.798137Z"
    }
   },
   "outputs": [],
   "source": [
    "# classifiers = {\n",
    "#     \"LogisticRegression\" : LogisticRegression(max_iter=1000),\n",
    "#     \"KNeighbors\" : KNeighborsClassifier(),\n",
    "#     \"SVC\" : SVC(),\n",
    "#     \"DecisionTree\" : DecisionTreeClassifier(),\n",
    "#     \"RandomForest\" : RandomForestClassifier(),\n",
    "#     \"XGBoost\" : XGBClassifier()\n",
    "# }"
   ]
  },
  {
   "cell_type": "code",
   "execution_count": 1542,
   "id": "d2ca2a8f",
   "metadata": {
    "ExecuteTime": {
     "end_time": "2025-03-19T13:50:06.826186Z",
     "start_time": "2025-03-19T13:50:06.814157Z"
    }
   },
   "outputs": [],
   "source": [
    "# train_scores = []\n",
    "# test_scores = []\n",
    "\n",
    "# for key, classifier in classifiers.items():\n",
    "#     classifier.fit(X_balanced, y_balanced)\n",
    "#     train_score = classifier.score(X_balanced, y_balanced)\n",
    "#     train_scores.append(train_score)\n",
    "#     test_score = classifier.score(X_test, y_test)\n",
    "#     test_scores.append(test_score)\n",
    "\n",
    "# print(train_scores)\n",
    "# print(test_scores)"
   ]
  },
  {
   "cell_type": "code",
   "execution_count": 1543,
   "id": "c929323e",
   "metadata": {
    "ExecuteTime": {
     "end_time": "2025-03-19T13:50:07.318829Z",
     "start_time": "2025-03-19T13:50:06.829766Z"
    }
   },
   "outputs": [
    {
     "name": "stdout",
     "output_type": "stream",
     "text": [
      "xgb train score = 0.8288083585799736\n",
      "xgb test score = 0.7084476138233681\n"
     ]
    }
   ],
   "source": [
    "xgb = XGBClassifier()\n",
    "model = xgb.fit(X_balanced, y_balanced)\n",
    "train_score = xgb.score(X_balanced, y_balanced)\n",
    "test_score = xgb.score(X_test, y_test)\n",
    "xgb_prediction = xgb.predict(X_test)\n",
    "\n",
    "print(f\"xgb train score = {train_score}\")\n",
    "print(f\"xgb test score = {test_score}\")"
   ]
  },
  {
   "cell_type": "code",
   "execution_count": 1544,
   "id": "7b1d2115",
   "metadata": {
    "ExecuteTime": {
     "end_time": "2025-03-19T13:50:07.349506Z",
     "start_time": "2025-03-19T13:50:07.320839Z"
    }
   },
   "outputs": [
    {
     "name": "stdout",
     "output_type": "stream",
     "text": [
      "              precision    recall  f1-score   support\n",
      "\n",
      "           0       0.88      0.77      0.82      6420\n",
      "           1       0.13      0.26      0.18       872\n",
      "\n",
      "    accuracy                           0.71      7292\n",
      "   macro avg       0.51      0.52      0.50      7292\n",
      "weighted avg       0.79      0.71      0.75      7292\n",
      "\n"
     ]
    }
   ],
   "source": [
    "print(classification_report(y_test, xgb_prediction)) #1 xgb"
   ]
  },
  {
   "cell_type": "code",
   "execution_count": 1545,
   "id": "6604a624",
   "metadata": {
    "ExecuteTime": {
     "end_time": "2025-03-19T13:50:07.365068Z",
     "start_time": "2025-03-19T13:50:07.351518Z"
    }
   },
   "outputs": [
    {
     "name": "stdout",
     "output_type": "stream",
     "text": [
      "xgb AUC: 0.5153133842064649\n",
      "xgb Gini: 0.030626768412929772\n"
     ]
    }
   ],
   "source": [
    "# Вычисляем AUC\n",
    "auc = roc_auc_score(y_test, xgb_prediction)\n",
    "\n",
    "# Вычисляем коэффициент Джини\n",
    "gini = 2 * auc - 1\n",
    "print(f\"xgb AUC: {auc}\")\n",
    "print(f\"xgb Gini: {gini}\")"
   ]
  },
  {
   "cell_type": "code",
   "execution_count": 1546,
   "id": "f179622c",
   "metadata": {
    "ExecuteTime": {
     "end_time": "2025-03-19T13:50:07.381116Z",
     "start_time": "2025-03-19T13:50:07.367066Z"
    }
   },
   "outputs": [
    {
     "name": "stdout",
     "output_type": "stream",
     "text": [
      "Confusion Matrix:\n",
      " [[4938 1482]\n",
      " [ 644  228]]\n"
     ]
    }
   ],
   "source": [
    "cm = confusion_matrix(y_test, xgb_prediction)\n",
    "print(\"Confusion Matrix:\\n\", cm)"
   ]
  },
  {
   "cell_type": "code",
   "execution_count": 1547,
   "id": "97081957",
   "metadata": {
    "ExecuteTime": {
     "end_time": "2025-03-19T13:50:19.643401Z",
     "start_time": "2025-03-19T13:50:07.383123Z"
    }
   },
   "outputs": [
    {
     "data": {
      "image/png": "[encoded data removed]",
      "text/plain": [
       "<Figure size 576x424.8 with 2 Axes>"
      ]
     },
     "metadata": {
      "needs_background": "light"
     },
     "output_type": "display_data"
    }
   ],
   "source": [
    "import shap\n",
    "\n",
    "# Создание explainer\n",
    "explainer = shap.TreeExplainer(model)\n",
    "shap_values = explainer.shap_values(X_balanced)\n",
    "\n",
    "# Визуализация значимости признаков\n",
    "shap.summary_plot(shap_values, X_balanced, feature_names=X_balanced.columns)"
   ]
  },
  {
   "cell_type": "code",
   "execution_count": 1548,
   "id": "e94520f4",
   "metadata": {
    "ExecuteTime": {
     "end_time": "2025-03-19T13:50:25.838185Z",
     "start_time": "2025-03-19T13:50:19.645441Z"
    }
   },
   "outputs": [
    {
     "data": {
      "image/png": "[encoded data removed]",
      "text/plain": [
       "<Figure size 576x468 with 3 Axes>"
      ]
     },
     "metadata": {},
     "output_type": "display_data"
    }
   ],
   "source": [
    "explainer = shap.TreeExplainer(model)\n",
    "shap_values = explainer(X_balanced)\n",
    "shap.plots.waterfall(shap_values[0])"
   ]
  },
  {
   "cell_type": "code",
   "execution_count": 1549,
   "id": "5bfd3dcc",
   "metadata": {
    "ExecuteTime": {
     "end_time": "2025-03-19T13:50:32.141225Z",
     "start_time": "2025-03-19T13:50:25.840096Z"
    }
   },
   "outputs": [
    {
     "data": {
      "image/png": "[encoded data removed]",
      "text/plain": [
       "<Figure size 576x468 with 3 Axes>"
      ]
     },
     "metadata": {},
     "output_type": "display_data"
    }
   ],
   "source": [
    "explainer = shap.TreeExplainer(model)\n",
    "shap_values = explainer(X_balanced)\n",
    "shap.plots.waterfall(shap_values[1])"
   ]
  },
  {
   "cell_type": "code",
   "execution_count": 1550,
   "id": "19eec55f",
   "metadata": {
    "ExecuteTime": {
     "end_time": "2025-03-19T13:50:32.442118Z",
     "start_time": "2025-03-19T13:50:32.144114Z"
    }
   },
   "outputs": [
    {
     "data": {
      "image/png": "[encoded data removed]",
      "text/plain": [
       "<Figure size 576x468 with 1 Axes>"
      ]
     },
     "metadata": {},
     "output_type": "display_data"
    }
   ],
   "source": [
    "shap.plots.bar(shap_values)"
   ]
  },
  {
   "cell_type": "code",
   "execution_count": 1551,
   "id": "0294eebc",
   "metadata": {
    "ExecuteTime": {
     "end_time": "2025-03-19T13:50:32.582890Z",
     "start_time": "2025-03-19T13:50:32.445154Z"
    }
   },
   "outputs": [
    {
     "name": "stdout",
     "output_type": "stream",
     "text": [
      "logreg train score = 0.5370931406820477\n",
      "logreg test score = 0.11958310477235326\n"
     ]
    }
   ],
   "source": [
    "logreg = LogisticRegression(max_iter=1000)\n",
    "model = logreg.fit(X_balanced, y_balanced)\n",
    "train_score = logreg.score(X_balanced, y_balanced)\n",
    "test_score = logreg.score(X_test, y_test)\n",
    "logreg_prediction = logreg.predict(X_test)\n",
    "\n",
    "print(f\"logreg train score = {train_score}\")\n",
    "print(f\"logreg test score = {test_score}\")"
   ]
  },
  {
   "cell_type": "code",
   "execution_count": 1552,
   "id": "0f2c64e9",
   "metadata": {
    "ExecuteTime": {
     "end_time": "2025-03-19T13:50:32.614451Z",
     "start_time": "2025-03-19T13:50:32.586898Z"
    }
   },
   "outputs": [
    {
     "name": "stdout",
     "output_type": "stream",
     "text": [
      "              precision    recall  f1-score   support\n",
      "\n",
      "           0       0.00      0.00      0.00      6420\n",
      "           1       0.12      1.00      0.21       872\n",
      "\n",
      "    accuracy                           0.12      7292\n",
      "   macro avg       0.06      0.50      0.11      7292\n",
      "weighted avg       0.01      0.12      0.03      7292\n",
      "\n"
     ]
    },
    {
     "name": "stderr",
     "output_type": "stream",
     "text": [
      "D:\\Anaconda\\lib\\site-packages\\sklearn\\metrics\\_classification.py:1318: UndefinedMetricWarning: Precision and F-score are ill-defined and being set to 0.0 in labels with no predicted samples. Use `zero_division` parameter to control this behavior.\n",
      "  _warn_prf(average, modifier, msg_start, len(result))\n",
      "D:\\Anaconda\\lib\\site-packages\\sklearn\\metrics\\_classification.py:1318: UndefinedMetricWarning: Precision and F-score are ill-defined and being set to 0.0 in labels with no predicted samples. Use `zero_division` parameter to control this behavior.\n",
      "  _warn_prf(average, modifier, msg_start, len(result))\n",
      "D:\\Anaconda\\lib\\site-packages\\sklearn\\metrics\\_classification.py:1318: UndefinedMetricWarning: Precision and F-score are ill-defined and being set to 0.0 in labels with no predicted samples. Use `zero_division` parameter to control this behavior.\n",
      "  _warn_prf(average, modifier, msg_start, len(result))\n"
     ]
    }
   ],
   "source": [
    "print(classification_report(y_test, logreg_prediction)) #logreg"
   ]
  },
  {
   "cell_type": "code",
   "execution_count": 1553,
   "id": "84d81a11",
   "metadata": {
    "ExecuteTime": {
     "end_time": "2025-03-19T13:50:32.630412Z",
     "start_time": "2025-03-19T13:50:32.617411Z"
    }
   },
   "outputs": [
    {
     "name": "stdout",
     "output_type": "stream",
     "text": [
      "logreg AUC: 0.5\n",
      "logreg Gini: 0.0\n"
     ]
    }
   ],
   "source": [
    "# Вычисляем AUC\n",
    "auc = roc_auc_score(y_test, logreg_prediction)\n",
    "\n",
    "# Вычисляем коэффициент Джини\n",
    "gini = 2 * auc - 1\n",
    "print(f\"logreg AUC: {auc}\")\n",
    "print(f\"logreg Gini: {gini}\")"
   ]
  },
  {
   "cell_type": "code",
   "execution_count": null,
   "id": "f0cbff70",
   "metadata": {},
   "outputs": [],
   "source": []
  },
  {
   "cell_type": "code",
   "execution_count": null,
   "id": "0a4d102d",
   "metadata": {},
   "outputs": [],
   "source": []
  },
  {
   "cell_type": "code",
   "execution_count": null,
   "id": "c0061f37",
   "metadata": {},
   "outputs": [],
   "source": []
  }
 ],
 "metadata": {
  "kernelspec": {
   "display_name": "Python 3 (ipykernel)",
   "language": "python",
   "name": "python3"
  },
  "language_info": {
   "codemirror_mode": {
    "name": "ipython",
    "version": 3
   },
   "file_extension": ".py",
   "mimetype": "text/x-python",
   "name": "python",
   "nbconvert_exporter": "python",
   "pygments_lexer": "ipython3",
   "version": "3.9.12"
  },
  "toc": {
   "base_numbering": 1,
   "nav_menu": {},
   "number_sections": true,
   "sideBar": true,
   "skip_h1_title": false,
   "title_cell": "Table of Contents",
   "title_sidebar": "Contents",
   "toc_cell": false,
   "toc_position": {},
   "toc_section_display": true,
   "toc_window_display": false
  }
 },
 "nbformat": 4,
 "nbformat_minor": 5
}
